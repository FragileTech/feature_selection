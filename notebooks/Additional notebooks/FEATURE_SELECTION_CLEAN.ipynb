{
 "cells": [
  {
   "cell_type": "code",
   "execution_count": 116,
   "metadata": {},
   "outputs": [],
   "source": [
    "import pandas as pd\n",
    "import numpy as np\n",
    "from pathlib import Path\n",
    "import os\n",
    "\n",
    "from ml_bets.constants import FEATURES_PATH\n",
    "from ml_bets.features.features import Features\n",
    "from ml_bets.modeling.match_model import PipelineDatasets, run_pycaret_setup\n",
    "from feature_selection.feature_selection import FeatureSelection\n",
    "\n",
    "from pycaret.utils import check_metric\n",
    "from pycaret.classification import (add_metric, calibrate_model, optimize_threshold,\n",
    "    create_model,\n",
    "    finalize_model,\n",
    "    optimize_threshold,\n",
    "                                    \n",
    "    save_model,\n",
    "    compare_models, \n",
    "    evaluate_model,\n",
    "    get_config,\n",
    "    setup,\n",
    "    tune_model,\n",
    "    predict_model,\n",
    ")"
   ]
  },
  {
   "cell_type": "code",
   "execution_count": 117,
   "metadata": {},
   "outputs": [],
   "source": [
    "setup_kwargs = dict(\n",
    "        preprocess=True,\n",
    "        train_size=0.75,\n",
    "        session_id=123,\n",
    "        normalize=True,\n",
    "        transformation=True,\n",
    "        ignore_low_variance=True,\n",
    "        remove_multicollinearity=False,\n",
    "        multicollinearity_threshold=0.8,\n",
    "        n_jobs=-1,\n",
    "        use_gpu=False,\n",
    "        profile=False,\n",
    "        #ignore_features=ignore_features,\n",
    "        fold_strategy=\"timeseries\",\n",
    "        remove_perfect_collinearity=True,\n",
    "        create_clusters=False,\n",
    "        fold=3,\n",
    "        feature_selection=False,\n",
    "        # you can use this to keep the 95 % most relevant features (fat_sel_threshold)\n",
    "        feature_selection_threshold=0.5,\n",
    "        combine_rare_levels=False,\n",
    "        rare_level_threshold=0.02,\n",
    "        pca=False,\n",
    "        pca_method=\"kernel\",\n",
    "        pca_components=30,\n",
    "        polynomial_features=False,\n",
    "        polynomial_degree=2,\n",
    "        polynomial_threshold=0.01,\n",
    "        trigonometry_features=False,\n",
    "        remove_outliers=True,\n",
    "        outliers_threshold=0.01,\n",
    "        feature_ratio=False,\n",
    "        feature_interaction=False,\n",
    "        # Makes everything slow AF. use to find out possibly interesting features\n",
    "        interaction_threshold=0.01,\n",
    "        fix_imbalance=True,\n",
    "        log_experiment=False,\n",
    "        verbose=False,\n",
    "        silent=True,\n",
    "        experiment_name=\"lagstest\",\n",
    "    )"
   ]
  },
  {
   "cell_type": "code",
   "execution_count": 118,
   "metadata": {},
   "outputs": [],
   "source": [
    "from ml_bets.supplementary.functions import IGNORE_FEATURES\n",
    "from ml_bets.research.datasets import create_dataset\n",
    "from ml_bets.features.names.goals import GOALS_FEATURES, NEW_FEATURES"
   ]
  },
  {
   "cell_type": "code",
   "execution_count": 119,
   "metadata": {},
   "outputs": [],
   "source": [
    "target = \"goals_1.5\"\n",
    "test_date = \"15-Oct-2021\""
   ]
  },
  {
   "cell_type": "code",
   "execution_count": 120,
   "metadata": {},
   "outputs": [
    {
     "name": "stdout",
     "output_type": "stream",
     "text": [
      "/home/guillem/ml_bets/data/future_matches/ESP1C.xls\n",
      "/home/guillem/ml_bets/data/future_matches/ING1C.xls\n",
      "/home/guillem/ml_bets/data/future_matches/ITA1C.xls\n",
      "Excel file /home/guillem/ml_bets/data/future_matches/MEX1C.xls is empty. Skipping\n",
      "/home/guillem/ml_bets/data/future_matches/FRA1C.xls\n",
      "Excel file /home/guillem/ml_bets/data/future_matches/MLS1C.xls is empty. Skipping\n",
      "/home/guillem/ml_bets/data/future_matches/ALE1C.xls\n"
     ]
    }
   ],
   "source": [
    "feats = Features()"
   ]
  },
  {
   "cell_type": "code",
   "execution_count": 121,
   "metadata": {},
   "outputs": [],
   "source": [
    "ds = create_dataset(target=target, test_date=\"20-October-2021\",\n",
    "                    features=feats,\n",
    "                    odds_features=True,\n",
    "                    include_std=True,\n",
    "                    ignore_features=IGNORE_FEATURES,\n",
    "                   )"
   ]
  },
  {
   "cell_type": "code",
   "execution_count": 123,
   "metadata": {},
   "outputs": [],
   "source": [
    "\n",
    "raw_referee_table = pd.read_csv(\"referee_table.csv\")\n",
    "\n",
    "referee_table = add_columns_table(feat=feats, df=raw_referee_table) # add unique id_match to referee table \n",
    "referee_table.columns = [c+\"_ref\" for c in referee_table.columns]\n",
    "\n",
    "referee_cols  = referee_table.columns.tolist() \n",
    "referee_cols.remove('competition_ref')\n",
    "referee_cols.remove('referee_ref')\n",
    "referee_cols.remove('season_ref')\n",
    "referee_cols.remove('raw_match_id_ref')\n",
    "referee_cols.remove('date_ref') # Remove repeated columns \n",
    "referee_train = pd.merge(ds.train_data, referee_table[referee_cols], left_index=True, right_index=True, how='inner') # Referee data + train old data\n",
    "referee_test = pd.merge(ds.test_data, referee_table[referee_cols], left_index=True, right_index=True, how='inner') # Referee data + test old data"
   ]
  },
  {
   "cell_type": "code",
   "execution_count": 124,
   "metadata": {},
   "outputs": [],
   "source": [
    "referee_train.drop(columns=[\"hour_rank\", \"hour_before_16\", \"is_weekend\"], inplace=True)\n",
    "referee_train = referee_train.astype({k: float for k in [x for x in referee_train.columns if \"ratio\" in x]})"
   ]
  },
  {
   "cell_type": "code",
   "execution_count": 13,
   "metadata": {},
   "outputs": [
    {
     "data": {
      "text/html": [
       "<div>\n",
       "<style scoped>\n",
       "    .dataframe tbody tr th:only-of-type {\n",
       "        vertical-align: middle;\n",
       "    }\n",
       "\n",
       "    .dataframe tbody tr th {\n",
       "        vertical-align: top;\n",
       "    }\n",
       "\n",
       "    .dataframe thead th {\n",
       "        text-align: right;\n",
       "    }\n",
       "</style>\n",
       "<table border=\"1\" class=\"dataframe\">\n",
       "  <thead>\n",
       "    <tr style=\"text-align: right;\">\n",
       "      <th></th>\n",
       "      <th>Model</th>\n",
       "      <th>Accuracy</th>\n",
       "      <th>AUC</th>\n",
       "      <th>Recall</th>\n",
       "      <th>Prec.</th>\n",
       "      <th>F1</th>\n",
       "      <th>Kappa</th>\n",
       "      <th>MCC</th>\n",
       "      <th>brier</th>\n",
       "    </tr>\n",
       "  </thead>\n",
       "  <tbody>\n",
       "    <tr>\n",
       "      <th>0</th>\n",
       "      <td>Random Forest Classifier</td>\n",
       "      <td>0.6073</td>\n",
       "      <td>0.6306</td>\n",
       "      <td>0.6417</td>\n",
       "      <td>0.6218</td>\n",
       "      <td>0.6316</td>\n",
       "      <td>0.2114</td>\n",
       "      <td>0.2115</td>\n",
       "      <td>0.2365</td>\n",
       "    </tr>\n",
       "  </tbody>\n",
       "</table>\n",
       "</div>"
      ],
      "text/plain": [
       "                      Model  Accuracy     AUC  Recall   Prec.      F1   Kappa  \\\n",
       "0  Random Forest Classifier    0.6073  0.6306  0.6417  0.6218  0.6316  0.2114   \n",
       "\n",
       "      MCC   brier  \n",
       "0  0.2115  0.2365  "
      ]
     },
     "metadata": {},
     "output_type": "display_data"
    },
    {
     "data": {
      "text/html": [
       "<div>\n",
       "<style scoped>\n",
       "    .dataframe tbody tr th:only-of-type {\n",
       "        vertical-align: middle;\n",
       "    }\n",
       "\n",
       "    .dataframe tbody tr th {\n",
       "        vertical-align: top;\n",
       "    }\n",
       "\n",
       "    .dataframe thead th {\n",
       "        text-align: right;\n",
       "    }\n",
       "</style>\n",
       "<table border=\"1\" class=\"dataframe\">\n",
       "  <thead>\n",
       "    <tr style=\"text-align: right;\">\n",
       "      <th></th>\n",
       "      <th>Model</th>\n",
       "      <th>Accuracy</th>\n",
       "      <th>AUC</th>\n",
       "      <th>Recall</th>\n",
       "      <th>Prec.</th>\n",
       "      <th>F1</th>\n",
       "      <th>Kappa</th>\n",
       "      <th>MCC</th>\n",
       "      <th>brier</th>\n",
       "    </tr>\n",
       "  </thead>\n",
       "  <tbody>\n",
       "    <tr>\n",
       "      <th>0</th>\n",
       "      <td>Logistic Regression</td>\n",
       "      <td>0.5498</td>\n",
       "      <td>0.5691</td>\n",
       "      <td>0.5535</td>\n",
       "      <td>0.5734</td>\n",
       "      <td>0.5633</td>\n",
       "      <td>0.099</td>\n",
       "      <td>0.0991</td>\n",
       "      <td>0.3867</td>\n",
       "    </tr>\n",
       "  </tbody>\n",
       "</table>\n",
       "</div>"
      ],
      "text/plain": [
       "                 Model  Accuracy     AUC  Recall   Prec.      F1  Kappa  \\\n",
       "0  Logistic Regression    0.5498  0.5691  0.5535  0.5734  0.5633  0.099   \n",
       "\n",
       "      MCC   brier  \n",
       "0  0.0991  0.3867  "
      ]
     },
     "metadata": {},
     "output_type": "display_data"
    },
    {
     "data": {
      "text/html": [
       "<div>\n",
       "<style scoped>\n",
       "    .dataframe tbody tr th:only-of-type {\n",
       "        vertical-align: middle;\n",
       "    }\n",
       "\n",
       "    .dataframe tbody tr th {\n",
       "        vertical-align: top;\n",
       "    }\n",
       "\n",
       "    .dataframe thead th {\n",
       "        text-align: right;\n",
       "    }\n",
       "</style>\n",
       "<table border=\"1\" class=\"dataframe\">\n",
       "  <thead>\n",
       "    <tr style=\"text-align: right;\">\n",
       "      <th></th>\n",
       "      <th>Model</th>\n",
       "      <th>Accuracy</th>\n",
       "      <th>AUC</th>\n",
       "      <th>Recall</th>\n",
       "      <th>Prec.</th>\n",
       "      <th>F1</th>\n",
       "      <th>Kappa</th>\n",
       "      <th>MCC</th>\n",
       "      <th>brier</th>\n",
       "    </tr>\n",
       "  </thead>\n",
       "  <tbody>\n",
       "    <tr>\n",
       "      <th>0</th>\n",
       "      <td>Random Forest Classifier</td>\n",
       "      <td>0.6199</td>\n",
       "      <td>0.6506</td>\n",
       "      <td>0.6417</td>\n",
       "      <td>0.6366</td>\n",
       "      <td>0.6391</td>\n",
       "      <td>0.2377</td>\n",
       "      <td>0.2377</td>\n",
       "      <td>0.2334</td>\n",
       "    </tr>\n",
       "  </tbody>\n",
       "</table>\n",
       "</div>"
      ],
      "text/plain": [
       "                      Model  Accuracy     AUC  Recall   Prec.      F1   Kappa  \\\n",
       "0  Random Forest Classifier    0.6199  0.6506  0.6417  0.6366  0.6391  0.2377   \n",
       "\n",
       "      MCC   brier  \n",
       "0  0.2377  0.2334  "
      ]
     },
     "metadata": {},
     "output_type": "display_data"
    },
    {
     "data": {
      "text/html": [
       "<div>\n",
       "<style scoped>\n",
       "    .dataframe tbody tr th:only-of-type {\n",
       "        vertical-align: middle;\n",
       "    }\n",
       "\n",
       "    .dataframe tbody tr th {\n",
       "        vertical-align: top;\n",
       "    }\n",
       "\n",
       "    .dataframe thead th {\n",
       "        text-align: right;\n",
       "    }\n",
       "</style>\n",
       "<table border=\"1\" class=\"dataframe\">\n",
       "  <thead>\n",
       "    <tr style=\"text-align: right;\">\n",
       "      <th></th>\n",
       "      <th>Model</th>\n",
       "      <th>Accuracy</th>\n",
       "      <th>AUC</th>\n",
       "      <th>Recall</th>\n",
       "      <th>Prec.</th>\n",
       "      <th>F1</th>\n",
       "      <th>Kappa</th>\n",
       "      <th>MCC</th>\n",
       "      <th>brier</th>\n",
       "    </tr>\n",
       "  </thead>\n",
       "  <tbody>\n",
       "    <tr>\n",
       "      <th>0</th>\n",
       "      <td>Random Forest Classifier</td>\n",
       "      <td>0.6199</td>\n",
       "      <td>0.6506</td>\n",
       "      <td>0.6417</td>\n",
       "      <td>0.6366</td>\n",
       "      <td>0.6391</td>\n",
       "      <td>0.2377</td>\n",
       "      <td>0.2377</td>\n",
       "      <td>0.2334</td>\n",
       "    </tr>\n",
       "  </tbody>\n",
       "</table>\n",
       "</div>"
      ],
      "text/plain": [
       "                      Model  Accuracy     AUC  Recall   Prec.      F1   Kappa  \\\n",
       "0  Random Forest Classifier    0.6199  0.6506  0.6417  0.6366  0.6391  0.2377   \n",
       "\n",
       "      MCC   brier  \n",
       "0  0.2377  0.2334  "
      ]
     },
     "metadata": {},
     "output_type": "display_data"
    },
    {
     "data": {
      "text/html": [
       "<div>\n",
       "<style scoped>\n",
       "    .dataframe tbody tr th:only-of-type {\n",
       "        vertical-align: middle;\n",
       "    }\n",
       "\n",
       "    .dataframe tbody tr th {\n",
       "        vertical-align: top;\n",
       "    }\n",
       "\n",
       "    .dataframe thead th {\n",
       "        text-align: right;\n",
       "    }\n",
       "</style>\n",
       "<table border=\"1\" class=\"dataframe\">\n",
       "  <thead>\n",
       "    <tr style=\"text-align: right;\">\n",
       "      <th></th>\n",
       "      <th>Model</th>\n",
       "      <th>Accuracy</th>\n",
       "      <th>AUC</th>\n",
       "      <th>Recall</th>\n",
       "      <th>Prec.</th>\n",
       "      <th>F1</th>\n",
       "      <th>Kappa</th>\n",
       "      <th>MCC</th>\n",
       "      <th>brier</th>\n",
       "    </tr>\n",
       "  </thead>\n",
       "  <tbody>\n",
       "    <tr>\n",
       "      <th>0</th>\n",
       "      <td>Random Forest Classifier</td>\n",
       "      <td>0.4755</td>\n",
       "      <td>0.5</td>\n",
       "      <td>0.0</td>\n",
       "      <td>0.0</td>\n",
       "      <td>0.0</td>\n",
       "      <td>0.0</td>\n",
       "      <td>0.0</td>\n",
       "      <td>0.25</td>\n",
       "    </tr>\n",
       "  </tbody>\n",
       "</table>\n",
       "</div>"
      ],
      "text/plain": [
       "                      Model  Accuracy  AUC  Recall  Prec.   F1  Kappa  MCC  \\\n",
       "0  Random Forest Classifier    0.4755  0.5     0.0    0.0  0.0    0.0  0.0   \n",
       "\n",
       "   brier  \n",
       "0   0.25  "
      ]
     },
     "metadata": {},
     "output_type": "display_data"
    },
    {
     "data": {
      "text/html": [
       "<div>\n",
       "<style scoped>\n",
       "    .dataframe tbody tr th:only-of-type {\n",
       "        vertical-align: middle;\n",
       "    }\n",
       "\n",
       "    .dataframe tbody tr th {\n",
       "        vertical-align: top;\n",
       "    }\n",
       "\n",
       "    .dataframe thead th {\n",
       "        text-align: right;\n",
       "    }\n",
       "</style>\n",
       "<table border=\"1\" class=\"dataframe\">\n",
       "  <thead>\n",
       "    <tr style=\"text-align: right;\">\n",
       "      <th></th>\n",
       "      <th>Model</th>\n",
       "      <th>Accuracy</th>\n",
       "      <th>AUC</th>\n",
       "      <th>Recall</th>\n",
       "      <th>Prec.</th>\n",
       "      <th>F1</th>\n",
       "      <th>Kappa</th>\n",
       "      <th>MCC</th>\n",
       "      <th>brier</th>\n",
       "    </tr>\n",
       "  </thead>\n",
       "  <tbody>\n",
       "    <tr>\n",
       "      <th>0</th>\n",
       "      <td>Random Forest Classifier</td>\n",
       "      <td>0.4755</td>\n",
       "      <td>0.5</td>\n",
       "      <td>0.0</td>\n",
       "      <td>0.0</td>\n",
       "      <td>0.0</td>\n",
       "      <td>0.0</td>\n",
       "      <td>0.0</td>\n",
       "      <td>0.25</td>\n",
       "    </tr>\n",
       "  </tbody>\n",
       "</table>\n",
       "</div>"
      ],
      "text/plain": [
       "                      Model  Accuracy  AUC  Recall  Prec.   F1  Kappa  MCC  \\\n",
       "0  Random Forest Classifier    0.4755  0.5     0.0    0.0  0.0    0.0  0.0   \n",
       "\n",
       "   brier  \n",
       "0   0.25  "
      ]
     },
     "metadata": {},
     "output_type": "display_data"
    },
    {
     "data": {
      "text/html": [
       "<div>\n",
       "<style scoped>\n",
       "    .dataframe tbody tr th:only-of-type {\n",
       "        vertical-align: middle;\n",
       "    }\n",
       "\n",
       "    .dataframe tbody tr th {\n",
       "        vertical-align: top;\n",
       "    }\n",
       "\n",
       "    .dataframe thead th {\n",
       "        text-align: right;\n",
       "    }\n",
       "</style>\n",
       "<table border=\"1\" class=\"dataframe\">\n",
       "  <thead>\n",
       "    <tr style=\"text-align: right;\">\n",
       "      <th></th>\n",
       "      <th>Model</th>\n",
       "      <th>Accuracy</th>\n",
       "      <th>AUC</th>\n",
       "      <th>Recall</th>\n",
       "      <th>Prec.</th>\n",
       "      <th>F1</th>\n",
       "      <th>Kappa</th>\n",
       "      <th>MCC</th>\n",
       "      <th>brier</th>\n",
       "    </tr>\n",
       "  </thead>\n",
       "  <tbody>\n",
       "    <tr>\n",
       "      <th>0</th>\n",
       "      <td>Random Forest Classifier</td>\n",
       "      <td>0.6199</td>\n",
       "      <td>0.6506</td>\n",
       "      <td>0.6417</td>\n",
       "      <td>0.6366</td>\n",
       "      <td>0.6391</td>\n",
       "      <td>0.2377</td>\n",
       "      <td>0.2377</td>\n",
       "      <td>0.2334</td>\n",
       "    </tr>\n",
       "  </tbody>\n",
       "</table>\n",
       "</div>"
      ],
      "text/plain": [
       "                      Model  Accuracy     AUC  Recall   Prec.      F1   Kappa  \\\n",
       "0  Random Forest Classifier    0.6199  0.6506  0.6417  0.6366  0.6391  0.2377   \n",
       "\n",
       "      MCC   brier  \n",
       "0  0.2377  0.2334  "
      ]
     },
     "metadata": {},
     "output_type": "display_data"
    },
    {
     "data": {
      "text/html": [
       "<div>\n",
       "<style scoped>\n",
       "    .dataframe tbody tr th:only-of-type {\n",
       "        vertical-align: middle;\n",
       "    }\n",
       "\n",
       "    .dataframe tbody tr th {\n",
       "        vertical-align: top;\n",
       "    }\n",
       "\n",
       "    .dataframe thead th {\n",
       "        text-align: right;\n",
       "    }\n",
       "</style>\n",
       "<table border=\"1\" class=\"dataframe\">\n",
       "  <thead>\n",
       "    <tr style=\"text-align: right;\">\n",
       "      <th></th>\n",
       "      <th>Model</th>\n",
       "      <th>Accuracy</th>\n",
       "      <th>AUC</th>\n",
       "      <th>Recall</th>\n",
       "      <th>Prec.</th>\n",
       "      <th>F1</th>\n",
       "      <th>Kappa</th>\n",
       "      <th>MCC</th>\n",
       "      <th>brier</th>\n",
       "    </tr>\n",
       "  </thead>\n",
       "  <tbody>\n",
       "    <tr>\n",
       "      <th>0</th>\n",
       "      <td>Logistic Regression</td>\n",
       "      <td>0.561</td>\n",
       "      <td>0.5988</td>\n",
       "      <td>0.5481</td>\n",
       "      <td>0.5874</td>\n",
       "      <td>0.5671</td>\n",
       "      <td>0.1229</td>\n",
       "      <td>0.1232</td>\n",
       "      <td>0.3104</td>\n",
       "    </tr>\n",
       "  </tbody>\n",
       "</table>\n",
       "</div>"
      ],
      "text/plain": [
       "                 Model  Accuracy     AUC  Recall   Prec.      F1   Kappa  \\\n",
       "0  Logistic Regression     0.561  0.5988  0.5481  0.5874  0.5671  0.1229   \n",
       "\n",
       "      MCC   brier  \n",
       "0  0.1232  0.3104  "
      ]
     },
     "metadata": {},
     "output_type": "display_data"
    },
    {
     "data": {
      "text/html": [
       "<div>\n",
       "<style scoped>\n",
       "    .dataframe tbody tr th:only-of-type {\n",
       "        vertical-align: middle;\n",
       "    }\n",
       "\n",
       "    .dataframe tbody tr th {\n",
       "        vertical-align: top;\n",
       "    }\n",
       "\n",
       "    .dataframe thead th {\n",
       "        text-align: right;\n",
       "    }\n",
       "</style>\n",
       "<table border=\"1\" class=\"dataframe\">\n",
       "  <thead>\n",
       "    <tr style=\"text-align: right;\">\n",
       "      <th></th>\n",
       "      <th>Model</th>\n",
       "      <th>Accuracy</th>\n",
       "      <th>AUC</th>\n",
       "      <th>Recall</th>\n",
       "      <th>Prec.</th>\n",
       "      <th>F1</th>\n",
       "      <th>Kappa</th>\n",
       "      <th>MCC</th>\n",
       "      <th>brier</th>\n",
       "    </tr>\n",
       "  </thead>\n",
       "  <tbody>\n",
       "    <tr>\n",
       "      <th>0</th>\n",
       "      <td>Logistic Regression</td>\n",
       "      <td>0.561</td>\n",
       "      <td>0.5988</td>\n",
       "      <td>0.5481</td>\n",
       "      <td>0.5874</td>\n",
       "      <td>0.5671</td>\n",
       "      <td>0.1229</td>\n",
       "      <td>0.1232</td>\n",
       "      <td>0.3104</td>\n",
       "    </tr>\n",
       "  </tbody>\n",
       "</table>\n",
       "</div>"
      ],
      "text/plain": [
       "                 Model  Accuracy     AUC  Recall   Prec.      F1   Kappa  \\\n",
       "0  Logistic Regression     0.561  0.5988  0.5481  0.5874  0.5671  0.1229   \n",
       "\n",
       "      MCC   brier  \n",
       "0  0.1232  0.3104  "
      ]
     },
     "metadata": {},
     "output_type": "display_data"
    },
    {
     "data": {
      "text/html": [
       "<div>\n",
       "<style scoped>\n",
       "    .dataframe tbody tr th:only-of-type {\n",
       "        vertical-align: middle;\n",
       "    }\n",
       "\n",
       "    .dataframe tbody tr th {\n",
       "        vertical-align: top;\n",
       "    }\n",
       "\n",
       "    .dataframe thead th {\n",
       "        text-align: right;\n",
       "    }\n",
       "</style>\n",
       "<table border=\"1\" class=\"dataframe\">\n",
       "  <thead>\n",
       "    <tr style=\"text-align: right;\">\n",
       "      <th></th>\n",
       "      <th>Model</th>\n",
       "      <th>Accuracy</th>\n",
       "      <th>AUC</th>\n",
       "      <th>Recall</th>\n",
       "      <th>Prec.</th>\n",
       "      <th>F1</th>\n",
       "      <th>Kappa</th>\n",
       "      <th>MCC</th>\n",
       "      <th>brier</th>\n",
       "    </tr>\n",
       "  </thead>\n",
       "  <tbody>\n",
       "    <tr>\n",
       "      <th>0</th>\n",
       "      <td>Logistic Regression</td>\n",
       "      <td>0.561</td>\n",
       "      <td>0.5988</td>\n",
       "      <td>0.5481</td>\n",
       "      <td>0.5874</td>\n",
       "      <td>0.5671</td>\n",
       "      <td>0.1229</td>\n",
       "      <td>0.1232</td>\n",
       "      <td>0.3104</td>\n",
       "    </tr>\n",
       "  </tbody>\n",
       "</table>\n",
       "</div>"
      ],
      "text/plain": [
       "                 Model  Accuracy     AUC  Recall   Prec.      F1   Kappa  \\\n",
       "0  Logistic Regression     0.561  0.5988  0.5481  0.5874  0.5671  0.1229   \n",
       "\n",
       "      MCC   brier  \n",
       "0  0.1232  0.3104  "
      ]
     },
     "metadata": {},
     "output_type": "display_data"
    },
    {
     "data": {
      "text/html": [
       "<div>\n",
       "<style scoped>\n",
       "    .dataframe tbody tr th:only-of-type {\n",
       "        vertical-align: middle;\n",
       "    }\n",
       "\n",
       "    .dataframe tbody tr th {\n",
       "        vertical-align: top;\n",
       "    }\n",
       "\n",
       "    .dataframe thead th {\n",
       "        text-align: right;\n",
       "    }\n",
       "</style>\n",
       "<table border=\"1\" class=\"dataframe\">\n",
       "  <thead>\n",
       "    <tr style=\"text-align: right;\">\n",
       "      <th></th>\n",
       "      <th>Model</th>\n",
       "      <th>Accuracy</th>\n",
       "      <th>AUC</th>\n",
       "      <th>Recall</th>\n",
       "      <th>Prec.</th>\n",
       "      <th>F1</th>\n",
       "      <th>Kappa</th>\n",
       "      <th>MCC</th>\n",
       "      <th>brier</th>\n",
       "    </tr>\n",
       "  </thead>\n",
       "  <tbody>\n",
       "    <tr>\n",
       "      <th>0</th>\n",
       "      <td>Logistic Regression</td>\n",
       "      <td>0.561</td>\n",
       "      <td>0.5988</td>\n",
       "      <td>0.5481</td>\n",
       "      <td>0.5874</td>\n",
       "      <td>0.5671</td>\n",
       "      <td>0.1229</td>\n",
       "      <td>0.1232</td>\n",
       "      <td>0.3104</td>\n",
       "    </tr>\n",
       "  </tbody>\n",
       "</table>\n",
       "</div>"
      ],
      "text/plain": [
       "                 Model  Accuracy     AUC  Recall   Prec.      F1   Kappa  \\\n",
       "0  Logistic Regression     0.561  0.5988  0.5481  0.5874  0.5671  0.1229   \n",
       "\n",
       "      MCC   brier  \n",
       "0  0.1232  0.3104  "
      ]
     },
     "metadata": {},
     "output_type": "display_data"
    },
    {
     "data": {
      "text/html": [
       "<div>\n",
       "<style scoped>\n",
       "    .dataframe tbody tr th:only-of-type {\n",
       "        vertical-align: middle;\n",
       "    }\n",
       "\n",
       "    .dataframe tbody tr th {\n",
       "        vertical-align: top;\n",
       "    }\n",
       "\n",
       "    .dataframe thead th {\n",
       "        text-align: right;\n",
       "    }\n",
       "</style>\n",
       "<table border=\"1\" class=\"dataframe\">\n",
       "  <thead>\n",
       "    <tr style=\"text-align: right;\">\n",
       "      <th></th>\n",
       "      <th>Model</th>\n",
       "      <th>Accuracy</th>\n",
       "      <th>AUC</th>\n",
       "      <th>Recall</th>\n",
       "      <th>Prec.</th>\n",
       "      <th>F1</th>\n",
       "      <th>Kappa</th>\n",
       "      <th>MCC</th>\n",
       "      <th>brier</th>\n",
       "    </tr>\n",
       "  </thead>\n",
       "  <tbody>\n",
       "    <tr>\n",
       "      <th>0</th>\n",
       "      <td>Logistic Regression</td>\n",
       "      <td>0.561</td>\n",
       "      <td>0.5988</td>\n",
       "      <td>0.5481</td>\n",
       "      <td>0.5874</td>\n",
       "      <td>0.5671</td>\n",
       "      <td>0.1229</td>\n",
       "      <td>0.1232</td>\n",
       "      <td>0.3104</td>\n",
       "    </tr>\n",
       "  </tbody>\n",
       "</table>\n",
       "</div>"
      ],
      "text/plain": [
       "                 Model  Accuracy     AUC  Recall   Prec.      F1   Kappa  \\\n",
       "0  Logistic Regression     0.561  0.5988  0.5481  0.5874  0.5671  0.1229   \n",
       "\n",
       "      MCC   brier  \n",
       "0  0.1232  0.3104  "
      ]
     },
     "metadata": {},
     "output_type": "display_data"
    },
    {
     "data": {
      "text/html": [
       "<div>\n",
       "<style scoped>\n",
       "    .dataframe tbody tr th:only-of-type {\n",
       "        vertical-align: middle;\n",
       "    }\n",
       "\n",
       "    .dataframe tbody tr th {\n",
       "        vertical-align: top;\n",
       "    }\n",
       "\n",
       "    .dataframe thead th {\n",
       "        text-align: right;\n",
       "    }\n",
       "</style>\n",
       "<table border=\"1\" class=\"dataframe\">\n",
       "  <thead>\n",
       "    <tr style=\"text-align: right;\">\n",
       "      <th></th>\n",
       "      <th>Model</th>\n",
       "      <th>Accuracy</th>\n",
       "      <th>AUC</th>\n",
       "      <th>Recall</th>\n",
       "      <th>Prec.</th>\n",
       "      <th>F1</th>\n",
       "      <th>Kappa</th>\n",
       "      <th>MCC</th>\n",
       "      <th>brier</th>\n",
       "    </tr>\n",
       "  </thead>\n",
       "  <tbody>\n",
       "    <tr>\n",
       "      <th>0</th>\n",
       "      <td>Logistic Regression</td>\n",
       "      <td>0.568</td>\n",
       "      <td>0.604</td>\n",
       "      <td>0.5802</td>\n",
       "      <td>0.5897</td>\n",
       "      <td>0.5849</td>\n",
       "      <td>0.1347</td>\n",
       "      <td>0.1347</td>\n",
       "      <td>0.3444</td>\n",
       "    </tr>\n",
       "  </tbody>\n",
       "</table>\n",
       "</div>"
      ],
      "text/plain": [
       "                 Model  Accuracy    AUC  Recall   Prec.      F1   Kappa  \\\n",
       "0  Logistic Regression     0.568  0.604  0.5802  0.5897  0.5849  0.1347   \n",
       "\n",
       "      MCC   brier  \n",
       "0  0.1347  0.3444  "
      ]
     },
     "metadata": {},
     "output_type": "display_data"
    },
    {
     "data": {
      "text/html": [
       "<div>\n",
       "<style scoped>\n",
       "    .dataframe tbody tr th:only-of-type {\n",
       "        vertical-align: middle;\n",
       "    }\n",
       "\n",
       "    .dataframe tbody tr th {\n",
       "        vertical-align: top;\n",
       "    }\n",
       "\n",
       "    .dataframe thead th {\n",
       "        text-align: right;\n",
       "    }\n",
       "</style>\n",
       "<table border=\"1\" class=\"dataframe\">\n",
       "  <thead>\n",
       "    <tr style=\"text-align: right;\">\n",
       "      <th></th>\n",
       "      <th>Model</th>\n",
       "      <th>Accuracy</th>\n",
       "      <th>AUC</th>\n",
       "      <th>Recall</th>\n",
       "      <th>Prec.</th>\n",
       "      <th>F1</th>\n",
       "      <th>Kappa</th>\n",
       "      <th>MCC</th>\n",
       "      <th>brier</th>\n",
       "    </tr>\n",
       "  </thead>\n",
       "  <tbody>\n",
       "    <tr>\n",
       "      <th>0</th>\n",
       "      <td>Random Forest Classifier</td>\n",
       "      <td>0.6129</td>\n",
       "      <td>0.6496</td>\n",
       "      <td>0.6203</td>\n",
       "      <td>0.6339</td>\n",
       "      <td>0.627</td>\n",
       "      <td>0.2248</td>\n",
       "      <td>0.2248</td>\n",
       "      <td>0.2328</td>\n",
       "    </tr>\n",
       "  </tbody>\n",
       "</table>\n",
       "</div>"
      ],
      "text/plain": [
       "                      Model  Accuracy     AUC  Recall   Prec.     F1   Kappa  \\\n",
       "0  Random Forest Classifier    0.6129  0.6496  0.6203  0.6339  0.627  0.2248   \n",
       "\n",
       "      MCC   brier  \n",
       "0  0.2248  0.2328  "
      ]
     },
     "metadata": {},
     "output_type": "display_data"
    },
    {
     "data": {
      "text/html": [
       "<div>\n",
       "<style scoped>\n",
       "    .dataframe tbody tr th:only-of-type {\n",
       "        vertical-align: middle;\n",
       "    }\n",
       "\n",
       "    .dataframe tbody tr th {\n",
       "        vertical-align: top;\n",
       "    }\n",
       "\n",
       "    .dataframe thead th {\n",
       "        text-align: right;\n",
       "    }\n",
       "</style>\n",
       "<table border=\"1\" class=\"dataframe\">\n",
       "  <thead>\n",
       "    <tr style=\"text-align: right;\">\n",
       "      <th></th>\n",
       "      <th>Model</th>\n",
       "      <th>Accuracy</th>\n",
       "      <th>AUC</th>\n",
       "      <th>Recall</th>\n",
       "      <th>Prec.</th>\n",
       "      <th>F1</th>\n",
       "      <th>Kappa</th>\n",
       "      <th>MCC</th>\n",
       "      <th>brier</th>\n",
       "    </tr>\n",
       "  </thead>\n",
       "  <tbody>\n",
       "    <tr>\n",
       "      <th>0</th>\n",
       "      <td>Logistic Regression</td>\n",
       "      <td>0.5835</td>\n",
       "      <td>0.6074</td>\n",
       "      <td>0.5909</td>\n",
       "      <td>0.6055</td>\n",
       "      <td>0.5981</td>\n",
       "      <td>0.1659</td>\n",
       "      <td>0.166</td>\n",
       "      <td>0.3312</td>\n",
       "    </tr>\n",
       "  </tbody>\n",
       "</table>\n",
       "</div>"
      ],
      "text/plain": [
       "                 Model  Accuracy     AUC  Recall   Prec.      F1   Kappa  \\\n",
       "0  Logistic Regression    0.5835  0.6074  0.5909  0.6055  0.5981  0.1659   \n",
       "\n",
       "     MCC   brier  \n",
       "0  0.166  0.3312  "
      ]
     },
     "metadata": {},
     "output_type": "display_data"
    },
    {
     "data": {
      "text/html": [
       "<div>\n",
       "<style scoped>\n",
       "    .dataframe tbody tr th:only-of-type {\n",
       "        vertical-align: middle;\n",
       "    }\n",
       "\n",
       "    .dataframe tbody tr th {\n",
       "        vertical-align: top;\n",
       "    }\n",
       "\n",
       "    .dataframe thead th {\n",
       "        text-align: right;\n",
       "    }\n",
       "</style>\n",
       "<table border=\"1\" class=\"dataframe\">\n",
       "  <thead>\n",
       "    <tr style=\"text-align: right;\">\n",
       "      <th></th>\n",
       "      <th>Model</th>\n",
       "      <th>Accuracy</th>\n",
       "      <th>AUC</th>\n",
       "      <th>Recall</th>\n",
       "      <th>Prec.</th>\n",
       "      <th>F1</th>\n",
       "      <th>Kappa</th>\n",
       "      <th>MCC</th>\n",
       "      <th>brier</th>\n",
       "    </tr>\n",
       "  </thead>\n",
       "  <tbody>\n",
       "    <tr>\n",
       "      <th>0</th>\n",
       "      <td>Logistic Regression</td>\n",
       "      <td>0.5835</td>\n",
       "      <td>0.6074</td>\n",
       "      <td>0.5909</td>\n",
       "      <td>0.6055</td>\n",
       "      <td>0.5981</td>\n",
       "      <td>0.1659</td>\n",
       "      <td>0.166</td>\n",
       "      <td>0.3312</td>\n",
       "    </tr>\n",
       "  </tbody>\n",
       "</table>\n",
       "</div>"
      ],
      "text/plain": [
       "                 Model  Accuracy     AUC  Recall   Prec.      F1   Kappa  \\\n",
       "0  Logistic Regression    0.5835  0.6074  0.5909  0.6055  0.5981  0.1659   \n",
       "\n",
       "     MCC   brier  \n",
       "0  0.166  0.3312  "
      ]
     },
     "metadata": {},
     "output_type": "display_data"
    },
    {
     "data": {
      "text/html": [
       "<div>\n",
       "<style scoped>\n",
       "    .dataframe tbody tr th:only-of-type {\n",
       "        vertical-align: middle;\n",
       "    }\n",
       "\n",
       "    .dataframe tbody tr th {\n",
       "        vertical-align: top;\n",
       "    }\n",
       "\n",
       "    .dataframe thead th {\n",
       "        text-align: right;\n",
       "    }\n",
       "</style>\n",
       "<table border=\"1\" class=\"dataframe\">\n",
       "  <thead>\n",
       "    <tr style=\"text-align: right;\">\n",
       "      <th></th>\n",
       "      <th>Model</th>\n",
       "      <th>Accuracy</th>\n",
       "      <th>AUC</th>\n",
       "      <th>Recall</th>\n",
       "      <th>Prec.</th>\n",
       "      <th>F1</th>\n",
       "      <th>Kappa</th>\n",
       "      <th>MCC</th>\n",
       "      <th>brier</th>\n",
       "    </tr>\n",
       "  </thead>\n",
       "  <tbody>\n",
       "    <tr>\n",
       "      <th>0</th>\n",
       "      <td>Logistic Regression</td>\n",
       "      <td>0.5919</td>\n",
       "      <td>0.6216</td>\n",
       "      <td>0.5802</td>\n",
       "      <td>0.6182</td>\n",
       "      <td>0.5986</td>\n",
       "      <td>0.1843</td>\n",
       "      <td>0.1847</td>\n",
       "      <td>0.287</td>\n",
       "    </tr>\n",
       "  </tbody>\n",
       "</table>\n",
       "</div>"
      ],
      "text/plain": [
       "                 Model  Accuracy     AUC  Recall   Prec.      F1   Kappa  \\\n",
       "0  Logistic Regression    0.5919  0.6216  0.5802  0.6182  0.5986  0.1843   \n",
       "\n",
       "      MCC  brier  \n",
       "0  0.1847  0.287  "
      ]
     },
     "metadata": {},
     "output_type": "display_data"
    },
    {
     "data": {
      "text/html": [
       "<div>\n",
       "<style scoped>\n",
       "    .dataframe tbody tr th:only-of-type {\n",
       "        vertical-align: middle;\n",
       "    }\n",
       "\n",
       "    .dataframe tbody tr th {\n",
       "        vertical-align: top;\n",
       "    }\n",
       "\n",
       "    .dataframe thead th {\n",
       "        text-align: right;\n",
       "    }\n",
       "</style>\n",
       "<table border=\"1\" class=\"dataframe\">\n",
       "  <thead>\n",
       "    <tr style=\"text-align: right;\">\n",
       "      <th></th>\n",
       "      <th>Model</th>\n",
       "      <th>Accuracy</th>\n",
       "      <th>AUC</th>\n",
       "      <th>Recall</th>\n",
       "      <th>Prec.</th>\n",
       "      <th>F1</th>\n",
       "      <th>Kappa</th>\n",
       "      <th>MCC</th>\n",
       "      <th>brier</th>\n",
       "    </tr>\n",
       "  </thead>\n",
       "  <tbody>\n",
       "    <tr>\n",
       "      <th>0</th>\n",
       "      <td>Logistic Regression</td>\n",
       "      <td>0.5919</td>\n",
       "      <td>0.6216</td>\n",
       "      <td>0.5802</td>\n",
       "      <td>0.6182</td>\n",
       "      <td>0.5986</td>\n",
       "      <td>0.1843</td>\n",
       "      <td>0.1847</td>\n",
       "      <td>0.287</td>\n",
       "    </tr>\n",
       "  </tbody>\n",
       "</table>\n",
       "</div>"
      ],
      "text/plain": [
       "                 Model  Accuracy     AUC  Recall   Prec.      F1   Kappa  \\\n",
       "0  Logistic Regression    0.5919  0.6216  0.5802  0.6182  0.5986  0.1843   \n",
       "\n",
       "      MCC  brier  \n",
       "0  0.1847  0.287  "
      ]
     },
     "metadata": {},
     "output_type": "display_data"
    },
    {
     "data": {
      "text/html": [
       "<div>\n",
       "<style scoped>\n",
       "    .dataframe tbody tr th:only-of-type {\n",
       "        vertical-align: middle;\n",
       "    }\n",
       "\n",
       "    .dataframe tbody tr th {\n",
       "        vertical-align: top;\n",
       "    }\n",
       "\n",
       "    .dataframe thead th {\n",
       "        text-align: right;\n",
       "    }\n",
       "</style>\n",
       "<table border=\"1\" class=\"dataframe\">\n",
       "  <thead>\n",
       "    <tr style=\"text-align: right;\">\n",
       "      <th></th>\n",
       "      <th>Model</th>\n",
       "      <th>Accuracy</th>\n",
       "      <th>AUC</th>\n",
       "      <th>Recall</th>\n",
       "      <th>Prec.</th>\n",
       "      <th>F1</th>\n",
       "      <th>Kappa</th>\n",
       "      <th>MCC</th>\n",
       "      <th>brier</th>\n",
       "    </tr>\n",
       "  </thead>\n",
       "  <tbody>\n",
       "    <tr>\n",
       "      <th>0</th>\n",
       "      <td>Logistic Regression</td>\n",
       "      <td>0.5919</td>\n",
       "      <td>0.6216</td>\n",
       "      <td>0.5802</td>\n",
       "      <td>0.6182</td>\n",
       "      <td>0.5986</td>\n",
       "      <td>0.1843</td>\n",
       "      <td>0.1847</td>\n",
       "      <td>0.287</td>\n",
       "    </tr>\n",
       "  </tbody>\n",
       "</table>\n",
       "</div>"
      ],
      "text/plain": [
       "                 Model  Accuracy     AUC  Recall   Prec.      F1   Kappa  \\\n",
       "0  Logistic Regression    0.5919  0.6216  0.5802  0.6182  0.5986  0.1843   \n",
       "\n",
       "      MCC  brier  \n",
       "0  0.1847  0.287  "
      ]
     },
     "metadata": {},
     "output_type": "display_data"
    },
    {
     "data": {
      "text/html": [
       "<div>\n",
       "<style scoped>\n",
       "    .dataframe tbody tr th:only-of-type {\n",
       "        vertical-align: middle;\n",
       "    }\n",
       "\n",
       "    .dataframe tbody tr th {\n",
       "        vertical-align: top;\n",
       "    }\n",
       "\n",
       "    .dataframe thead th {\n",
       "        text-align: right;\n",
       "    }\n",
       "</style>\n",
       "<table border=\"1\" class=\"dataframe\">\n",
       "  <thead>\n",
       "    <tr style=\"text-align: right;\">\n",
       "      <th></th>\n",
       "      <th>Model</th>\n",
       "      <th>Accuracy</th>\n",
       "      <th>AUC</th>\n",
       "      <th>Recall</th>\n",
       "      <th>Prec.</th>\n",
       "      <th>F1</th>\n",
       "      <th>Kappa</th>\n",
       "      <th>MCC</th>\n",
       "      <th>brier</th>\n",
       "    </tr>\n",
       "  </thead>\n",
       "  <tbody>\n",
       "    <tr>\n",
       "      <th>0</th>\n",
       "      <td>Random Forest Classifier</td>\n",
       "      <td>0.5975</td>\n",
       "      <td>0.652</td>\n",
       "      <td>0.6176</td>\n",
       "      <td>0.616</td>\n",
       "      <td>0.6168</td>\n",
       "      <td>0.1929</td>\n",
       "      <td>0.1929</td>\n",
       "      <td>0.2347</td>\n",
       "    </tr>\n",
       "  </tbody>\n",
       "</table>\n",
       "</div>"
      ],
      "text/plain": [
       "                      Model  Accuracy    AUC  Recall  Prec.      F1   Kappa  \\\n",
       "0  Random Forest Classifier    0.5975  0.652  0.6176  0.616  0.6168  0.1929   \n",
       "\n",
       "      MCC   brier  \n",
       "0  0.1929  0.2347  "
      ]
     },
     "metadata": {},
     "output_type": "display_data"
    },
    {
     "data": {
      "text/html": [
       "<div>\n",
       "<style scoped>\n",
       "    .dataframe tbody tr th:only-of-type {\n",
       "        vertical-align: middle;\n",
       "    }\n",
       "\n",
       "    .dataframe tbody tr th {\n",
       "        vertical-align: top;\n",
       "    }\n",
       "\n",
       "    .dataframe thead th {\n",
       "        text-align: right;\n",
       "    }\n",
       "</style>\n",
       "<table border=\"1\" class=\"dataframe\">\n",
       "  <thead>\n",
       "    <tr style=\"text-align: right;\">\n",
       "      <th></th>\n",
       "      <th>Model</th>\n",
       "      <th>Accuracy</th>\n",
       "      <th>AUC</th>\n",
       "      <th>Recall</th>\n",
       "      <th>Prec.</th>\n",
       "      <th>F1</th>\n",
       "      <th>Kappa</th>\n",
       "      <th>MCC</th>\n",
       "      <th>brier</th>\n",
       "    </tr>\n",
       "  </thead>\n",
       "  <tbody>\n",
       "    <tr>\n",
       "      <th>0</th>\n",
       "      <td>Random Forest Classifier</td>\n",
       "      <td>0.6059</td>\n",
       "      <td>0.6564</td>\n",
       "      <td>0.6417</td>\n",
       "      <td>0.6202</td>\n",
       "      <td>0.6307</td>\n",
       "      <td>0.2085</td>\n",
       "      <td>0.2086</td>\n",
       "      <td>0.2321</td>\n",
       "    </tr>\n",
       "  </tbody>\n",
       "</table>\n",
       "</div>"
      ],
      "text/plain": [
       "                      Model  Accuracy     AUC  Recall   Prec.      F1   Kappa  \\\n",
       "0  Random Forest Classifier    0.6059  0.6564  0.6417  0.6202  0.6307  0.2085   \n",
       "\n",
       "      MCC   brier  \n",
       "0  0.2086  0.2321  "
      ]
     },
     "metadata": {},
     "output_type": "display_data"
    },
    {
     "data": {
      "text/html": [
       "<div>\n",
       "<style scoped>\n",
       "    .dataframe tbody tr th:only-of-type {\n",
       "        vertical-align: middle;\n",
       "    }\n",
       "\n",
       "    .dataframe tbody tr th {\n",
       "        vertical-align: top;\n",
       "    }\n",
       "\n",
       "    .dataframe thead th {\n",
       "        text-align: right;\n",
       "    }\n",
       "</style>\n",
       "<table border=\"1\" class=\"dataframe\">\n",
       "  <thead>\n",
       "    <tr style=\"text-align: right;\">\n",
       "      <th></th>\n",
       "      <th>Model</th>\n",
       "      <th>Accuracy</th>\n",
       "      <th>AUC</th>\n",
       "      <th>Recall</th>\n",
       "      <th>Prec.</th>\n",
       "      <th>F1</th>\n",
       "      <th>Kappa</th>\n",
       "      <th>MCC</th>\n",
       "      <th>brier</th>\n",
       "    </tr>\n",
       "  </thead>\n",
       "  <tbody>\n",
       "    <tr>\n",
       "      <th>0</th>\n",
       "      <td>Random Forest Classifier</td>\n",
       "      <td>0.5245</td>\n",
       "      <td>0.5</td>\n",
       "      <td>1.0</td>\n",
       "      <td>0.5245</td>\n",
       "      <td>0.6881</td>\n",
       "      <td>0.0</td>\n",
       "      <td>0.0</td>\n",
       "      <td>0.25</td>\n",
       "    </tr>\n",
       "  </tbody>\n",
       "</table>\n",
       "</div>"
      ],
      "text/plain": [
       "                      Model  Accuracy  AUC  Recall   Prec.      F1  Kappa  \\\n",
       "0  Random Forest Classifier    0.5245  0.5     1.0  0.5245  0.6881    0.0   \n",
       "\n",
       "   MCC  brier  \n",
       "0  0.0   0.25  "
      ]
     },
     "metadata": {},
     "output_type": "display_data"
    },
    {
     "data": {
      "text/html": [
       "<div>\n",
       "<style scoped>\n",
       "    .dataframe tbody tr th:only-of-type {\n",
       "        vertical-align: middle;\n",
       "    }\n",
       "\n",
       "    .dataframe tbody tr th {\n",
       "        vertical-align: top;\n",
       "    }\n",
       "\n",
       "    .dataframe thead th {\n",
       "        text-align: right;\n",
       "    }\n",
       "</style>\n",
       "<table border=\"1\" class=\"dataframe\">\n",
       "  <thead>\n",
       "    <tr style=\"text-align: right;\">\n",
       "      <th></th>\n",
       "      <th>Model</th>\n",
       "      <th>Accuracy</th>\n",
       "      <th>AUC</th>\n",
       "      <th>Recall</th>\n",
       "      <th>Prec.</th>\n",
       "      <th>F1</th>\n",
       "      <th>Kappa</th>\n",
       "      <th>MCC</th>\n",
       "      <th>brier</th>\n",
       "    </tr>\n",
       "  </thead>\n",
       "  <tbody>\n",
       "    <tr>\n",
       "      <th>0</th>\n",
       "      <td>Random Forest Classifier</td>\n",
       "      <td>0.5975</td>\n",
       "      <td>0.652</td>\n",
       "      <td>0.6176</td>\n",
       "      <td>0.616</td>\n",
       "      <td>0.6168</td>\n",
       "      <td>0.1929</td>\n",
       "      <td>0.1929</td>\n",
       "      <td>0.2347</td>\n",
       "    </tr>\n",
       "  </tbody>\n",
       "</table>\n",
       "</div>"
      ],
      "text/plain": [
       "                      Model  Accuracy    AUC  Recall  Prec.      F1   Kappa  \\\n",
       "0  Random Forest Classifier    0.5975  0.652  0.6176  0.616  0.6168  0.1929   \n",
       "\n",
       "      MCC   brier  \n",
       "0  0.1929  0.2347  "
      ]
     },
     "metadata": {},
     "output_type": "display_data"
    },
    {
     "data": {
      "text/html": [
       "<div>\n",
       "<style scoped>\n",
       "    .dataframe tbody tr th:only-of-type {\n",
       "        vertical-align: middle;\n",
       "    }\n",
       "\n",
       "    .dataframe tbody tr th {\n",
       "        vertical-align: top;\n",
       "    }\n",
       "\n",
       "    .dataframe thead th {\n",
       "        text-align: right;\n",
       "    }\n",
       "</style>\n",
       "<table border=\"1\" class=\"dataframe\">\n",
       "  <thead>\n",
       "    <tr style=\"text-align: right;\">\n",
       "      <th></th>\n",
       "      <th>Model</th>\n",
       "      <th>Accuracy</th>\n",
       "      <th>AUC</th>\n",
       "      <th>Recall</th>\n",
       "      <th>Prec.</th>\n",
       "      <th>F1</th>\n",
       "      <th>Kappa</th>\n",
       "      <th>MCC</th>\n",
       "      <th>brier</th>\n",
       "    </tr>\n",
       "  </thead>\n",
       "  <tbody>\n",
       "    <tr>\n",
       "      <th>0</th>\n",
       "      <td>Random Forest Classifier</td>\n",
       "      <td>0.6059</td>\n",
       "      <td>0.6564</td>\n",
       "      <td>0.6417</td>\n",
       "      <td>0.6202</td>\n",
       "      <td>0.6307</td>\n",
       "      <td>0.2085</td>\n",
       "      <td>0.2086</td>\n",
       "      <td>0.2321</td>\n",
       "    </tr>\n",
       "  </tbody>\n",
       "</table>\n",
       "</div>"
      ],
      "text/plain": [
       "                      Model  Accuracy     AUC  Recall   Prec.      F1   Kappa  \\\n",
       "0  Random Forest Classifier    0.6059  0.6564  0.6417  0.6202  0.6307  0.2085   \n",
       "\n",
       "      MCC   brier  \n",
       "0  0.2086  0.2321  "
      ]
     },
     "metadata": {},
     "output_type": "display_data"
    },
    {
     "data": {
      "text/html": [
       "<div>\n",
       "<style scoped>\n",
       "    .dataframe tbody tr th:only-of-type {\n",
       "        vertical-align: middle;\n",
       "    }\n",
       "\n",
       "    .dataframe tbody tr th {\n",
       "        vertical-align: top;\n",
       "    }\n",
       "\n",
       "    .dataframe thead th {\n",
       "        text-align: right;\n",
       "    }\n",
       "</style>\n",
       "<table border=\"1\" class=\"dataframe\">\n",
       "  <thead>\n",
       "    <tr style=\"text-align: right;\">\n",
       "      <th></th>\n",
       "      <th>Model</th>\n",
       "      <th>Accuracy</th>\n",
       "      <th>AUC</th>\n",
       "      <th>Recall</th>\n",
       "      <th>Prec.</th>\n",
       "      <th>F1</th>\n",
       "      <th>Kappa</th>\n",
       "      <th>MCC</th>\n",
       "      <th>brier</th>\n",
       "    </tr>\n",
       "  </thead>\n",
       "  <tbody>\n",
       "    <tr>\n",
       "      <th>0</th>\n",
       "      <td>Logistic Regression</td>\n",
       "      <td>0.5849</td>\n",
       "      <td>0.6255</td>\n",
       "      <td>0.5829</td>\n",
       "      <td>0.6089</td>\n",
       "      <td>0.5956</td>\n",
       "      <td>0.1695</td>\n",
       "      <td>0.1697</td>\n",
       "      <td>0.284</td>\n",
       "    </tr>\n",
       "  </tbody>\n",
       "</table>\n",
       "</div>"
      ],
      "text/plain": [
       "                 Model  Accuracy     AUC  Recall   Prec.      F1   Kappa  \\\n",
       "0  Logistic Regression    0.5849  0.6255  0.5829  0.6089  0.5956  0.1695   \n",
       "\n",
       "      MCC  brier  \n",
       "0  0.1697  0.284  "
      ]
     },
     "metadata": {},
     "output_type": "display_data"
    },
    {
     "data": {
      "text/html": [
       "<div>\n",
       "<style scoped>\n",
       "    .dataframe tbody tr th:only-of-type {\n",
       "        vertical-align: middle;\n",
       "    }\n",
       "\n",
       "    .dataframe tbody tr th {\n",
       "        vertical-align: top;\n",
       "    }\n",
       "\n",
       "    .dataframe thead th {\n",
       "        text-align: right;\n",
       "    }\n",
       "</style>\n",
       "<table border=\"1\" class=\"dataframe\">\n",
       "  <thead>\n",
       "    <tr style=\"text-align: right;\">\n",
       "      <th></th>\n",
       "      <th>Model</th>\n",
       "      <th>Accuracy</th>\n",
       "      <th>AUC</th>\n",
       "      <th>Recall</th>\n",
       "      <th>Prec.</th>\n",
       "      <th>F1</th>\n",
       "      <th>Kappa</th>\n",
       "      <th>MCC</th>\n",
       "      <th>brier</th>\n",
       "    </tr>\n",
       "  </thead>\n",
       "  <tbody>\n",
       "    <tr>\n",
       "      <th>0</th>\n",
       "      <td>Random Forest Classifier</td>\n",
       "      <td>0.6157</td>\n",
       "      <td>0.6616</td>\n",
       "      <td>0.6444</td>\n",
       "      <td>0.6309</td>\n",
       "      <td>0.6376</td>\n",
       "      <td>0.2287</td>\n",
       "      <td>0.2288</td>\n",
       "      <td>0.23</td>\n",
       "    </tr>\n",
       "  </tbody>\n",
       "</table>\n",
       "</div>"
      ],
      "text/plain": [
       "                      Model  Accuracy     AUC  Recall   Prec.      F1   Kappa  \\\n",
       "0  Random Forest Classifier    0.6157  0.6616  0.6444  0.6309  0.6376  0.2287   \n",
       "\n",
       "      MCC  brier  \n",
       "0  0.2288   0.23  "
      ]
     },
     "metadata": {},
     "output_type": "display_data"
    },
    {
     "data": {
      "text/html": [
       "<div>\n",
       "<style scoped>\n",
       "    .dataframe tbody tr th:only-of-type {\n",
       "        vertical-align: middle;\n",
       "    }\n",
       "\n",
       "    .dataframe tbody tr th {\n",
       "        vertical-align: top;\n",
       "    }\n",
       "\n",
       "    .dataframe thead th {\n",
       "        text-align: right;\n",
       "    }\n",
       "</style>\n",
       "<table border=\"1\" class=\"dataframe\">\n",
       "  <thead>\n",
       "    <tr style=\"text-align: right;\">\n",
       "      <th></th>\n",
       "      <th>Model</th>\n",
       "      <th>Accuracy</th>\n",
       "      <th>AUC</th>\n",
       "      <th>Recall</th>\n",
       "      <th>Prec.</th>\n",
       "      <th>F1</th>\n",
       "      <th>Kappa</th>\n",
       "      <th>MCC</th>\n",
       "      <th>brier</th>\n",
       "    </tr>\n",
       "  </thead>\n",
       "  <tbody>\n",
       "    <tr>\n",
       "      <th>0</th>\n",
       "      <td>Logistic Regression</td>\n",
       "      <td>0.5905</td>\n",
       "      <td>0.6359</td>\n",
       "      <td>0.5963</td>\n",
       "      <td>0.6126</td>\n",
       "      <td>0.6043</td>\n",
       "      <td>0.1801</td>\n",
       "      <td>0.1801</td>\n",
       "      <td>0.2612</td>\n",
       "    </tr>\n",
       "  </tbody>\n",
       "</table>\n",
       "</div>"
      ],
      "text/plain": [
       "                 Model  Accuracy     AUC  Recall   Prec.      F1   Kappa  \\\n",
       "0  Logistic Regression    0.5905  0.6359  0.5963  0.6126  0.6043  0.1801   \n",
       "\n",
       "      MCC   brier  \n",
       "0  0.1801  0.2612  "
      ]
     },
     "metadata": {},
     "output_type": "display_data"
    },
    {
     "data": {
      "text/html": [
       "<div>\n",
       "<style scoped>\n",
       "    .dataframe tbody tr th:only-of-type {\n",
       "        vertical-align: middle;\n",
       "    }\n",
       "\n",
       "    .dataframe tbody tr th {\n",
       "        vertical-align: top;\n",
       "    }\n",
       "\n",
       "    .dataframe thead th {\n",
       "        text-align: right;\n",
       "    }\n",
       "</style>\n",
       "<table border=\"1\" class=\"dataframe\">\n",
       "  <thead>\n",
       "    <tr style=\"text-align: right;\">\n",
       "      <th></th>\n",
       "      <th>Model</th>\n",
       "      <th>Accuracy</th>\n",
       "      <th>AUC</th>\n",
       "      <th>Recall</th>\n",
       "      <th>Prec.</th>\n",
       "      <th>F1</th>\n",
       "      <th>Kappa</th>\n",
       "      <th>MCC</th>\n",
       "      <th>brier</th>\n",
       "    </tr>\n",
       "  </thead>\n",
       "  <tbody>\n",
       "    <tr>\n",
       "      <th>0</th>\n",
       "      <td>Logistic Regression</td>\n",
       "      <td>0.5905</td>\n",
       "      <td>0.6359</td>\n",
       "      <td>0.5963</td>\n",
       "      <td>0.6126</td>\n",
       "      <td>0.6043</td>\n",
       "      <td>0.1801</td>\n",
       "      <td>0.1801</td>\n",
       "      <td>0.2612</td>\n",
       "    </tr>\n",
       "  </tbody>\n",
       "</table>\n",
       "</div>"
      ],
      "text/plain": [
       "                 Model  Accuracy     AUC  Recall   Prec.      F1   Kappa  \\\n",
       "0  Logistic Regression    0.5905  0.6359  0.5963  0.6126  0.6043  0.1801   \n",
       "\n",
       "      MCC   brier  \n",
       "0  0.1801  0.2612  "
      ]
     },
     "metadata": {},
     "output_type": "display_data"
    },
    {
     "data": {
      "text/html": [
       "<div>\n",
       "<style scoped>\n",
       "    .dataframe tbody tr th:only-of-type {\n",
       "        vertical-align: middle;\n",
       "    }\n",
       "\n",
       "    .dataframe tbody tr th {\n",
       "        vertical-align: top;\n",
       "    }\n",
       "\n",
       "    .dataframe thead th {\n",
       "        text-align: right;\n",
       "    }\n",
       "</style>\n",
       "<table border=\"1\" class=\"dataframe\">\n",
       "  <thead>\n",
       "    <tr style=\"text-align: right;\">\n",
       "      <th></th>\n",
       "      <th>Model</th>\n",
       "      <th>Accuracy</th>\n",
       "      <th>AUC</th>\n",
       "      <th>Recall</th>\n",
       "      <th>Prec.</th>\n",
       "      <th>F1</th>\n",
       "      <th>Kappa</th>\n",
       "      <th>MCC</th>\n",
       "      <th>brier</th>\n",
       "    </tr>\n",
       "  </thead>\n",
       "  <tbody>\n",
       "    <tr>\n",
       "      <th>0</th>\n",
       "      <td>Logistic Regression</td>\n",
       "      <td>0.5877</td>\n",
       "      <td>0.6267</td>\n",
       "      <td>0.5856</td>\n",
       "      <td>0.6117</td>\n",
       "      <td>0.5984</td>\n",
       "      <td>0.1751</td>\n",
       "      <td>0.1753</td>\n",
       "      <td>0.2807</td>\n",
       "    </tr>\n",
       "  </tbody>\n",
       "</table>\n",
       "</div>"
      ],
      "text/plain": [
       "                 Model  Accuracy     AUC  Recall   Prec.      F1   Kappa  \\\n",
       "0  Logistic Regression    0.5877  0.6267  0.5856  0.6117  0.5984  0.1751   \n",
       "\n",
       "      MCC   brier  \n",
       "0  0.1753  0.2807  "
      ]
     },
     "metadata": {},
     "output_type": "display_data"
    },
    {
     "data": {
      "text/html": [
       "<div>\n",
       "<style scoped>\n",
       "    .dataframe tbody tr th:only-of-type {\n",
       "        vertical-align: middle;\n",
       "    }\n",
       "\n",
       "    .dataframe tbody tr th {\n",
       "        vertical-align: top;\n",
       "    }\n",
       "\n",
       "    .dataframe thead th {\n",
       "        text-align: right;\n",
       "    }\n",
       "</style>\n",
       "<table border=\"1\" class=\"dataframe\">\n",
       "  <thead>\n",
       "    <tr style=\"text-align: right;\">\n",
       "      <th></th>\n",
       "      <th>Model</th>\n",
       "      <th>Accuracy</th>\n",
       "      <th>AUC</th>\n",
       "      <th>Recall</th>\n",
       "      <th>Prec.</th>\n",
       "      <th>F1</th>\n",
       "      <th>Kappa</th>\n",
       "      <th>MCC</th>\n",
       "      <th>brier</th>\n",
       "    </tr>\n",
       "  </thead>\n",
       "  <tbody>\n",
       "    <tr>\n",
       "      <th>0</th>\n",
       "      <td>Logistic Regression</td>\n",
       "      <td>0.5877</td>\n",
       "      <td>0.6267</td>\n",
       "      <td>0.5856</td>\n",
       "      <td>0.6117</td>\n",
       "      <td>0.5984</td>\n",
       "      <td>0.1751</td>\n",
       "      <td>0.1753</td>\n",
       "      <td>0.2807</td>\n",
       "    </tr>\n",
       "  </tbody>\n",
       "</table>\n",
       "</div>"
      ],
      "text/plain": [
       "                 Model  Accuracy     AUC  Recall   Prec.      F1   Kappa  \\\n",
       "0  Logistic Regression    0.5877  0.6267  0.5856  0.6117  0.5984  0.1751   \n",
       "\n",
       "      MCC   brier  \n",
       "0  0.1753  0.2807  "
      ]
     },
     "metadata": {},
     "output_type": "display_data"
    },
    {
     "data": {
      "text/html": [
       "<div>\n",
       "<style scoped>\n",
       "    .dataframe tbody tr th:only-of-type {\n",
       "        vertical-align: middle;\n",
       "    }\n",
       "\n",
       "    .dataframe tbody tr th {\n",
       "        vertical-align: top;\n",
       "    }\n",
       "\n",
       "    .dataframe thead th {\n",
       "        text-align: right;\n",
       "    }\n",
       "</style>\n",
       "<table border=\"1\" class=\"dataframe\">\n",
       "  <thead>\n",
       "    <tr style=\"text-align: right;\">\n",
       "      <th></th>\n",
       "      <th>Model</th>\n",
       "      <th>Accuracy</th>\n",
       "      <th>AUC</th>\n",
       "      <th>Recall</th>\n",
       "      <th>Prec.</th>\n",
       "      <th>F1</th>\n",
       "      <th>Kappa</th>\n",
       "      <th>MCC</th>\n",
       "      <th>brier</th>\n",
       "    </tr>\n",
       "  </thead>\n",
       "  <tbody>\n",
       "    <tr>\n",
       "      <th>0</th>\n",
       "      <td>Logistic Regression</td>\n",
       "      <td>0.5905</td>\n",
       "      <td>0.6359</td>\n",
       "      <td>0.5963</td>\n",
       "      <td>0.6126</td>\n",
       "      <td>0.6043</td>\n",
       "      <td>0.1801</td>\n",
       "      <td>0.1801</td>\n",
       "      <td>0.2612</td>\n",
       "    </tr>\n",
       "  </tbody>\n",
       "</table>\n",
       "</div>"
      ],
      "text/plain": [
       "                 Model  Accuracy     AUC  Recall   Prec.      F1   Kappa  \\\n",
       "0  Logistic Regression    0.5905  0.6359  0.5963  0.6126  0.6043  0.1801   \n",
       "\n",
       "      MCC   brier  \n",
       "0  0.1801  0.2612  "
      ]
     },
     "metadata": {},
     "output_type": "display_data"
    },
    {
     "data": {
      "text/html": [
       "<div>\n",
       "<style scoped>\n",
       "    .dataframe tbody tr th:only-of-type {\n",
       "        vertical-align: middle;\n",
       "    }\n",
       "\n",
       "    .dataframe tbody tr th {\n",
       "        vertical-align: top;\n",
       "    }\n",
       "\n",
       "    .dataframe thead th {\n",
       "        text-align: right;\n",
       "    }\n",
       "</style>\n",
       "<table border=\"1\" class=\"dataframe\">\n",
       "  <thead>\n",
       "    <tr style=\"text-align: right;\">\n",
       "      <th></th>\n",
       "      <th>Model</th>\n",
       "      <th>Accuracy</th>\n",
       "      <th>AUC</th>\n",
       "      <th>Recall</th>\n",
       "      <th>Prec.</th>\n",
       "      <th>F1</th>\n",
       "      <th>Kappa</th>\n",
       "      <th>MCC</th>\n",
       "      <th>brier</th>\n",
       "    </tr>\n",
       "  </thead>\n",
       "  <tbody>\n",
       "    <tr>\n",
       "      <th>0</th>\n",
       "      <td>Random Forest Classifier</td>\n",
       "      <td>0.6269</td>\n",
       "      <td>0.6663</td>\n",
       "      <td>0.6444</td>\n",
       "      <td>0.6444</td>\n",
       "      <td>0.6444</td>\n",
       "      <td>0.2521</td>\n",
       "      <td>0.2521</td>\n",
       "      <td>0.2291</td>\n",
       "    </tr>\n",
       "  </tbody>\n",
       "</table>\n",
       "</div>"
      ],
      "text/plain": [
       "                      Model  Accuracy     AUC  Recall   Prec.      F1   Kappa  \\\n",
       "0  Random Forest Classifier    0.6269  0.6663  0.6444  0.6444  0.6444  0.2521   \n",
       "\n",
       "      MCC   brier  \n",
       "0  0.2521  0.2291  "
      ]
     },
     "metadata": {},
     "output_type": "display_data"
    },
    {
     "data": {
      "text/html": [
       "<div>\n",
       "<style scoped>\n",
       "    .dataframe tbody tr th:only-of-type {\n",
       "        vertical-align: middle;\n",
       "    }\n",
       "\n",
       "    .dataframe tbody tr th {\n",
       "        vertical-align: top;\n",
       "    }\n",
       "\n",
       "    .dataframe thead th {\n",
       "        text-align: right;\n",
       "    }\n",
       "</style>\n",
       "<table border=\"1\" class=\"dataframe\">\n",
       "  <thead>\n",
       "    <tr style=\"text-align: right;\">\n",
       "      <th></th>\n",
       "      <th>Model</th>\n",
       "      <th>Accuracy</th>\n",
       "      <th>AUC</th>\n",
       "      <th>Recall</th>\n",
       "      <th>Prec.</th>\n",
       "      <th>F1</th>\n",
       "      <th>Kappa</th>\n",
       "      <th>MCC</th>\n",
       "      <th>brier</th>\n",
       "    </tr>\n",
       "  </thead>\n",
       "  <tbody>\n",
       "    <tr>\n",
       "      <th>0</th>\n",
       "      <td>Random Forest Classifier</td>\n",
       "      <td>0.6269</td>\n",
       "      <td>0.6663</td>\n",
       "      <td>0.6444</td>\n",
       "      <td>0.6444</td>\n",
       "      <td>0.6444</td>\n",
       "      <td>0.2521</td>\n",
       "      <td>0.2521</td>\n",
       "      <td>0.2291</td>\n",
       "    </tr>\n",
       "  </tbody>\n",
       "</table>\n",
       "</div>"
      ],
      "text/plain": [
       "                      Model  Accuracy     AUC  Recall   Prec.      F1   Kappa  \\\n",
       "0  Random Forest Classifier    0.6269  0.6663  0.6444  0.6444  0.6444  0.2521   \n",
       "\n",
       "      MCC   brier  \n",
       "0  0.2521  0.2291  "
      ]
     },
     "metadata": {},
     "output_type": "display_data"
    },
    {
     "data": {
      "text/html": [
       "<div>\n",
       "<style scoped>\n",
       "    .dataframe tbody tr th:only-of-type {\n",
       "        vertical-align: middle;\n",
       "    }\n",
       "\n",
       "    .dataframe tbody tr th {\n",
       "        vertical-align: top;\n",
       "    }\n",
       "\n",
       "    .dataframe thead th {\n",
       "        text-align: right;\n",
       "    }\n",
       "</style>\n",
       "<table border=\"1\" class=\"dataframe\">\n",
       "  <thead>\n",
       "    <tr style=\"text-align: right;\">\n",
       "      <th></th>\n",
       "      <th>Model</th>\n",
       "      <th>Accuracy</th>\n",
       "      <th>AUC</th>\n",
       "      <th>Recall</th>\n",
       "      <th>Prec.</th>\n",
       "      <th>F1</th>\n",
       "      <th>Kappa</th>\n",
       "      <th>MCC</th>\n",
       "      <th>brier</th>\n",
       "    </tr>\n",
       "  </thead>\n",
       "  <tbody>\n",
       "    <tr>\n",
       "      <th>0</th>\n",
       "      <td>Random Forest Classifier</td>\n",
       "      <td>0.6031</td>\n",
       "      <td>0.6586</td>\n",
       "      <td>0.6337</td>\n",
       "      <td>0.6188</td>\n",
       "      <td>0.6262</td>\n",
       "      <td>0.2033</td>\n",
       "      <td>0.2033</td>\n",
       "      <td>0.2326</td>\n",
       "    </tr>\n",
       "  </tbody>\n",
       "</table>\n",
       "</div>"
      ],
      "text/plain": [
       "                      Model  Accuracy     AUC  Recall   Prec.      F1   Kappa  \\\n",
       "0  Random Forest Classifier    0.6031  0.6586  0.6337  0.6188  0.6262  0.2033   \n",
       "\n",
       "      MCC   brier  \n",
       "0  0.2033  0.2326  "
      ]
     },
     "metadata": {},
     "output_type": "display_data"
    },
    {
     "data": {
      "text/html": [
       "<div>\n",
       "<style scoped>\n",
       "    .dataframe tbody tr th:only-of-type {\n",
       "        vertical-align: middle;\n",
       "    }\n",
       "\n",
       "    .dataframe tbody tr th {\n",
       "        vertical-align: top;\n",
       "    }\n",
       "\n",
       "    .dataframe thead th {\n",
       "        text-align: right;\n",
       "    }\n",
       "</style>\n",
       "<table border=\"1\" class=\"dataframe\">\n",
       "  <thead>\n",
       "    <tr style=\"text-align: right;\">\n",
       "      <th></th>\n",
       "      <th>Model</th>\n",
       "      <th>Accuracy</th>\n",
       "      <th>AUC</th>\n",
       "      <th>Recall</th>\n",
       "      <th>Prec.</th>\n",
       "      <th>F1</th>\n",
       "      <th>Kappa</th>\n",
       "      <th>MCC</th>\n",
       "      <th>brier</th>\n",
       "    </tr>\n",
       "  </thead>\n",
       "  <tbody>\n",
       "    <tr>\n",
       "      <th>0</th>\n",
       "      <td>Random Forest Classifier</td>\n",
       "      <td>0.6269</td>\n",
       "      <td>0.6663</td>\n",
       "      <td>0.6444</td>\n",
       "      <td>0.6444</td>\n",
       "      <td>0.6444</td>\n",
       "      <td>0.2521</td>\n",
       "      <td>0.2521</td>\n",
       "      <td>0.2291</td>\n",
       "    </tr>\n",
       "  </tbody>\n",
       "</table>\n",
       "</div>"
      ],
      "text/plain": [
       "                      Model  Accuracy     AUC  Recall   Prec.      F1   Kappa  \\\n",
       "0  Random Forest Classifier    0.6269  0.6663  0.6444  0.6444  0.6444  0.2521   \n",
       "\n",
       "      MCC   brier  \n",
       "0  0.2521  0.2291  "
      ]
     },
     "metadata": {},
     "output_type": "display_data"
    },
    {
     "data": {
      "text/html": [
       "<div>\n",
       "<style scoped>\n",
       "    .dataframe tbody tr th:only-of-type {\n",
       "        vertical-align: middle;\n",
       "    }\n",
       "\n",
       "    .dataframe tbody tr th {\n",
       "        vertical-align: top;\n",
       "    }\n",
       "\n",
       "    .dataframe thead th {\n",
       "        text-align: right;\n",
       "    }\n",
       "</style>\n",
       "<table border=\"1\" class=\"dataframe\">\n",
       "  <thead>\n",
       "    <tr style=\"text-align: right;\">\n",
       "      <th></th>\n",
       "      <th>Model</th>\n",
       "      <th>Accuracy</th>\n",
       "      <th>AUC</th>\n",
       "      <th>Recall</th>\n",
       "      <th>Prec.</th>\n",
       "      <th>F1</th>\n",
       "      <th>Kappa</th>\n",
       "      <th>MCC</th>\n",
       "      <th>brier</th>\n",
       "    </tr>\n",
       "  </thead>\n",
       "  <tbody>\n",
       "    <tr>\n",
       "      <th>0</th>\n",
       "      <td>Random Forest Classifier</td>\n",
       "      <td>0.6031</td>\n",
       "      <td>0.6586</td>\n",
       "      <td>0.6337</td>\n",
       "      <td>0.6188</td>\n",
       "      <td>0.6262</td>\n",
       "      <td>0.2033</td>\n",
       "      <td>0.2033</td>\n",
       "      <td>0.2326</td>\n",
       "    </tr>\n",
       "  </tbody>\n",
       "</table>\n",
       "</div>"
      ],
      "text/plain": [
       "                      Model  Accuracy     AUC  Recall   Prec.      F1   Kappa  \\\n",
       "0  Random Forest Classifier    0.6031  0.6586  0.6337  0.6188  0.6262  0.2033   \n",
       "\n",
       "      MCC   brier  \n",
       "0  0.2033  0.2326  "
      ]
     },
     "metadata": {},
     "output_type": "display_data"
    }
   ],
   "source": [
    "metric_param = {\n",
    "        \"Accuracy\": 0.1,\n",
    "        \"AUC\": 0.1,\n",
    "        \"Recall\": 0.1,\n",
    "        \"Precision\": 0.1,\n",
    "        \"F1\": 0.1,\n",
    "        \"Kappa\": -1.0,\n",
    "        \"MCC\": -1.0,\n",
    "    }\n",
    "feat_sel = FeatureSelection(target=target,\n",
    "                            dataset=referee_train.dropna(),\n",
    "                            target_features=210,\n",
    "                            filter_metrics=metric_param,\n",
    "                            include=[\"lr\", \"rf\"],\n",
    "                            setup_kwargs=setup_kwargs,\n",
    "                            optimize=True,\n",
    "                           )\n",
    "selected_features = feat_sel.repeat_pipeline()"
   ]
  },
  {
   "cell_type": "code",
   "execution_count": 125,
   "metadata": {},
   "outputs": [],
   "source": [
    "new_features = [x for x in set(selected_features+ NEW_FEATURES + [target]) if x in referee_train.columns]\n",
    "referee_train_sub = referee_train[new_features]\n",
    "\n",
    "_ = setup(data=referee_train_sub.dropna(), target=target, **setup_kwargs)\n",
    "x_train = get_config('X_train')\n",
    "\n"
   ]
  },
  {
   "cell_type": "code",
   "execution_count": 126,
   "metadata": {},
   "outputs": [
    {
     "data": {
      "text/html": [
       "<style  type=\"text/css\" >\n",
       "    #T_ac8578a0_7880_11ec_a40e_7399565d7a7c th {\n",
       "          text-align: left;\n",
       "    }#T_ac8578a0_7880_11ec_a40e_7399565d7a7crow0_col0,#T_ac8578a0_7880_11ec_a40e_7399565d7a7crow0_col1,#T_ac8578a0_7880_11ec_a40e_7399565d7a7crow0_col3,#T_ac8578a0_7880_11ec_a40e_7399565d7a7crow0_col4,#T_ac8578a0_7880_11ec_a40e_7399565d7a7crow0_col5,#T_ac8578a0_7880_11ec_a40e_7399565d7a7crow0_col6,#T_ac8578a0_7880_11ec_a40e_7399565d7a7crow0_col7,#T_ac8578a0_7880_11ec_a40e_7399565d7a7crow1_col0,#T_ac8578a0_7880_11ec_a40e_7399565d7a7crow1_col2,#T_ac8578a0_7880_11ec_a40e_7399565d7a7crow1_col4,#T_ac8578a0_7880_11ec_a40e_7399565d7a7crow1_col6,#T_ac8578a0_7880_11ec_a40e_7399565d7a7crow1_col7,#T_ac8578a0_7880_11ec_a40e_7399565d7a7crow2_col0,#T_ac8578a0_7880_11ec_a40e_7399565d7a7crow2_col1,#T_ac8578a0_7880_11ec_a40e_7399565d7a7crow2_col2,#T_ac8578a0_7880_11ec_a40e_7399565d7a7crow2_col3,#T_ac8578a0_7880_11ec_a40e_7399565d7a7crow2_col4,#T_ac8578a0_7880_11ec_a40e_7399565d7a7crow2_col5,#T_ac8578a0_7880_11ec_a40e_7399565d7a7crow2_col6,#T_ac8578a0_7880_11ec_a40e_7399565d7a7crow2_col7,#T_ac8578a0_7880_11ec_a40e_7399565d7a7crow3_col0,#T_ac8578a0_7880_11ec_a40e_7399565d7a7crow3_col1,#T_ac8578a0_7880_11ec_a40e_7399565d7a7crow3_col2,#T_ac8578a0_7880_11ec_a40e_7399565d7a7crow3_col3,#T_ac8578a0_7880_11ec_a40e_7399565d7a7crow3_col5,#T_ac8578a0_7880_11ec_a40e_7399565d7a7crow4_col0,#T_ac8578a0_7880_11ec_a40e_7399565d7a7crow4_col1,#T_ac8578a0_7880_11ec_a40e_7399565d7a7crow4_col2,#T_ac8578a0_7880_11ec_a40e_7399565d7a7crow4_col3,#T_ac8578a0_7880_11ec_a40e_7399565d7a7crow4_col4,#T_ac8578a0_7880_11ec_a40e_7399565d7a7crow4_col5,#T_ac8578a0_7880_11ec_a40e_7399565d7a7crow4_col6,#T_ac8578a0_7880_11ec_a40e_7399565d7a7crow4_col7,#T_ac8578a0_7880_11ec_a40e_7399565d7a7crow5_col0,#T_ac8578a0_7880_11ec_a40e_7399565d7a7crow5_col1,#T_ac8578a0_7880_11ec_a40e_7399565d7a7crow5_col2,#T_ac8578a0_7880_11ec_a40e_7399565d7a7crow5_col3,#T_ac8578a0_7880_11ec_a40e_7399565d7a7crow5_col4,#T_ac8578a0_7880_11ec_a40e_7399565d7a7crow5_col5,#T_ac8578a0_7880_11ec_a40e_7399565d7a7crow5_col6,#T_ac8578a0_7880_11ec_a40e_7399565d7a7crow5_col7,#T_ac8578a0_7880_11ec_a40e_7399565d7a7crow6_col0,#T_ac8578a0_7880_11ec_a40e_7399565d7a7crow6_col1,#T_ac8578a0_7880_11ec_a40e_7399565d7a7crow6_col2,#T_ac8578a0_7880_11ec_a40e_7399565d7a7crow6_col3,#T_ac8578a0_7880_11ec_a40e_7399565d7a7crow6_col4,#T_ac8578a0_7880_11ec_a40e_7399565d7a7crow6_col5,#T_ac8578a0_7880_11ec_a40e_7399565d7a7crow6_col6,#T_ac8578a0_7880_11ec_a40e_7399565d7a7crow6_col7,#T_ac8578a0_7880_11ec_a40e_7399565d7a7crow7_col0,#T_ac8578a0_7880_11ec_a40e_7399565d7a7crow7_col1,#T_ac8578a0_7880_11ec_a40e_7399565d7a7crow7_col2,#T_ac8578a0_7880_11ec_a40e_7399565d7a7crow7_col3,#T_ac8578a0_7880_11ec_a40e_7399565d7a7crow7_col4,#T_ac8578a0_7880_11ec_a40e_7399565d7a7crow7_col5,#T_ac8578a0_7880_11ec_a40e_7399565d7a7crow7_col6,#T_ac8578a0_7880_11ec_a40e_7399565d7a7crow7_col7,#T_ac8578a0_7880_11ec_a40e_7399565d7a7crow8_col0,#T_ac8578a0_7880_11ec_a40e_7399565d7a7crow8_col1,#T_ac8578a0_7880_11ec_a40e_7399565d7a7crow8_col2,#T_ac8578a0_7880_11ec_a40e_7399565d7a7crow8_col3,#T_ac8578a0_7880_11ec_a40e_7399565d7a7crow8_col4,#T_ac8578a0_7880_11ec_a40e_7399565d7a7crow8_col5,#T_ac8578a0_7880_11ec_a40e_7399565d7a7crow8_col6,#T_ac8578a0_7880_11ec_a40e_7399565d7a7crow8_col7,#T_ac8578a0_7880_11ec_a40e_7399565d7a7crow9_col0,#T_ac8578a0_7880_11ec_a40e_7399565d7a7crow9_col1,#T_ac8578a0_7880_11ec_a40e_7399565d7a7crow9_col2,#T_ac8578a0_7880_11ec_a40e_7399565d7a7crow9_col3,#T_ac8578a0_7880_11ec_a40e_7399565d7a7crow9_col4,#T_ac8578a0_7880_11ec_a40e_7399565d7a7crow9_col5,#T_ac8578a0_7880_11ec_a40e_7399565d7a7crow9_col6,#T_ac8578a0_7880_11ec_a40e_7399565d7a7crow9_col7,#T_ac8578a0_7880_11ec_a40e_7399565d7a7crow10_col0,#T_ac8578a0_7880_11ec_a40e_7399565d7a7crow10_col1,#T_ac8578a0_7880_11ec_a40e_7399565d7a7crow10_col2,#T_ac8578a0_7880_11ec_a40e_7399565d7a7crow10_col3,#T_ac8578a0_7880_11ec_a40e_7399565d7a7crow10_col4,#T_ac8578a0_7880_11ec_a40e_7399565d7a7crow10_col5,#T_ac8578a0_7880_11ec_a40e_7399565d7a7crow10_col6,#T_ac8578a0_7880_11ec_a40e_7399565d7a7crow10_col7,#T_ac8578a0_7880_11ec_a40e_7399565d7a7crow11_col0,#T_ac8578a0_7880_11ec_a40e_7399565d7a7crow11_col1,#T_ac8578a0_7880_11ec_a40e_7399565d7a7crow11_col2,#T_ac8578a0_7880_11ec_a40e_7399565d7a7crow11_col3,#T_ac8578a0_7880_11ec_a40e_7399565d7a7crow11_col4,#T_ac8578a0_7880_11ec_a40e_7399565d7a7crow11_col5,#T_ac8578a0_7880_11ec_a40e_7399565d7a7crow11_col6,#T_ac8578a0_7880_11ec_a40e_7399565d7a7crow11_col7,#T_ac8578a0_7880_11ec_a40e_7399565d7a7crow12_col0,#T_ac8578a0_7880_11ec_a40e_7399565d7a7crow12_col1,#T_ac8578a0_7880_11ec_a40e_7399565d7a7crow12_col2,#T_ac8578a0_7880_11ec_a40e_7399565d7a7crow12_col3,#T_ac8578a0_7880_11ec_a40e_7399565d7a7crow12_col4,#T_ac8578a0_7880_11ec_a40e_7399565d7a7crow12_col5,#T_ac8578a0_7880_11ec_a40e_7399565d7a7crow12_col6,#T_ac8578a0_7880_11ec_a40e_7399565d7a7crow12_col7{\n",
       "            text-align:  left;\n",
       "            text-align:  left;\n",
       "        }#T_ac8578a0_7880_11ec_a40e_7399565d7a7crow0_col2,#T_ac8578a0_7880_11ec_a40e_7399565d7a7crow1_col1,#T_ac8578a0_7880_11ec_a40e_7399565d7a7crow1_col3,#T_ac8578a0_7880_11ec_a40e_7399565d7a7crow1_col5,#T_ac8578a0_7880_11ec_a40e_7399565d7a7crow3_col4,#T_ac8578a0_7880_11ec_a40e_7399565d7a7crow3_col6,#T_ac8578a0_7880_11ec_a40e_7399565d7a7crow3_col7{\n",
       "            text-align:  left;\n",
       "            text-align:  left;\n",
       "            background-color:  yellow;\n",
       "        }#T_ac8578a0_7880_11ec_a40e_7399565d7a7crow0_col8,#T_ac8578a0_7880_11ec_a40e_7399565d7a7crow1_col8,#T_ac8578a0_7880_11ec_a40e_7399565d7a7crow2_col8,#T_ac8578a0_7880_11ec_a40e_7399565d7a7crow3_col8,#T_ac8578a0_7880_11ec_a40e_7399565d7a7crow4_col8,#T_ac8578a0_7880_11ec_a40e_7399565d7a7crow5_col8,#T_ac8578a0_7880_11ec_a40e_7399565d7a7crow6_col8,#T_ac8578a0_7880_11ec_a40e_7399565d7a7crow7_col8,#T_ac8578a0_7880_11ec_a40e_7399565d7a7crow8_col8,#T_ac8578a0_7880_11ec_a40e_7399565d7a7crow9_col8,#T_ac8578a0_7880_11ec_a40e_7399565d7a7crow11_col8{\n",
       "            text-align:  left;\n",
       "            text-align:  left;\n",
       "            background-color:  lightgrey;\n",
       "        }#T_ac8578a0_7880_11ec_a40e_7399565d7a7crow10_col8,#T_ac8578a0_7880_11ec_a40e_7399565d7a7crow12_col8{\n",
       "            text-align:  left;\n",
       "            text-align:  left;\n",
       "            background-color:  yellow;\n",
       "            background-color:  lightgrey;\n",
       "        }</style><table id=\"T_ac8578a0_7880_11ec_a40e_7399565d7a7c\" ><thead>    <tr>        <th class=\"blank level0\" ></th>        <th class=\"col_heading level0 col0\" >Model</th>        <th class=\"col_heading level0 col1\" >Accuracy</th>        <th class=\"col_heading level0 col2\" >AUC</th>        <th class=\"col_heading level0 col3\" >Recall</th>        <th class=\"col_heading level0 col4\" >Prec.</th>        <th class=\"col_heading level0 col5\" >F1</th>        <th class=\"col_heading level0 col6\" >Kappa</th>        <th class=\"col_heading level0 col7\" >MCC</th>        <th class=\"col_heading level0 col8\" >TT (Sec)</th>    </tr></thead><tbody>\n",
       "                <tr>\n",
       "                        <th id=\"T_ac8578a0_7880_11ec_a40e_7399565d7a7clevel0_row0\" class=\"row_heading level0 row0\" >lr</th>\n",
       "                        <td id=\"T_ac8578a0_7880_11ec_a40e_7399565d7a7crow0_col0\" class=\"data row0 col0\" >Logistic Regression</td>\n",
       "                        <td id=\"T_ac8578a0_7880_11ec_a40e_7399565d7a7crow0_col1\" class=\"data row0 col1\" >0.6786</td>\n",
       "                        <td id=\"T_ac8578a0_7880_11ec_a40e_7399565d7a7crow0_col2\" class=\"data row0 col2\" >0.6756</td>\n",
       "                        <td id=\"T_ac8578a0_7880_11ec_a40e_7399565d7a7crow0_col3\" class=\"data row0 col3\" >0.7300</td>\n",
       "                        <td id=\"T_ac8578a0_7880_11ec_a40e_7399565d7a7crow0_col4\" class=\"data row0 col4\" >0.8307</td>\n",
       "                        <td id=\"T_ac8578a0_7880_11ec_a40e_7399565d7a7crow0_col5\" class=\"data row0 col5\" >0.7769</td>\n",
       "                        <td id=\"T_ac8578a0_7880_11ec_a40e_7399565d7a7crow0_col6\" class=\"data row0 col6\" >0.2107</td>\n",
       "                        <td id=\"T_ac8578a0_7880_11ec_a40e_7399565d7a7crow0_col7\" class=\"data row0 col7\" >0.2163</td>\n",
       "                        <td id=\"T_ac8578a0_7880_11ec_a40e_7399565d7a7crow0_col8\" class=\"data row0 col8\" >0.9067</td>\n",
       "            </tr>\n",
       "            <tr>\n",
       "                        <th id=\"T_ac8578a0_7880_11ec_a40e_7399565d7a7clevel0_row1\" class=\"row_heading level0 row1\" >et</th>\n",
       "                        <td id=\"T_ac8578a0_7880_11ec_a40e_7399565d7a7crow1_col0\" class=\"data row1 col0\" >Extra Trees Classifier</td>\n",
       "                        <td id=\"T_ac8578a0_7880_11ec_a40e_7399565d7a7crow1_col1\" class=\"data row1 col1\" >0.7498</td>\n",
       "                        <td id=\"T_ac8578a0_7880_11ec_a40e_7399565d7a7crow1_col2\" class=\"data row1 col2\" >0.6739</td>\n",
       "                        <td id=\"T_ac8578a0_7880_11ec_a40e_7399565d7a7crow1_col3\" class=\"data row1 col3\" >0.9319</td>\n",
       "                        <td id=\"T_ac8578a0_7880_11ec_a40e_7399565d7a7crow1_col4\" class=\"data row1 col4\" >0.7835</td>\n",
       "                        <td id=\"T_ac8578a0_7880_11ec_a40e_7399565d7a7crow1_col5\" class=\"data row1 col5\" >0.8511</td>\n",
       "                        <td id=\"T_ac8578a0_7880_11ec_a40e_7399565d7a7crow1_col6\" class=\"data row1 col6\" >0.0999</td>\n",
       "                        <td id=\"T_ac8578a0_7880_11ec_a40e_7399565d7a7crow1_col7\" class=\"data row1 col7\" >0.1148</td>\n",
       "                        <td id=\"T_ac8578a0_7880_11ec_a40e_7399565d7a7crow1_col8\" class=\"data row1 col8\" >0.3900</td>\n",
       "            </tr>\n",
       "            <tr>\n",
       "                        <th id=\"T_ac8578a0_7880_11ec_a40e_7399565d7a7clevel0_row2\" class=\"row_heading level0 row2\" >catboost</th>\n",
       "                        <td id=\"T_ac8578a0_7880_11ec_a40e_7399565d7a7crow2_col0\" class=\"data row2 col0\" >CatBoost Classifier</td>\n",
       "                        <td id=\"T_ac8578a0_7880_11ec_a40e_7399565d7a7crow2_col1\" class=\"data row2 col1\" >0.7423</td>\n",
       "                        <td id=\"T_ac8578a0_7880_11ec_a40e_7399565d7a7crow2_col2\" class=\"data row2 col2\" >0.6724</td>\n",
       "                        <td id=\"T_ac8578a0_7880_11ec_a40e_7399565d7a7crow2_col3\" class=\"data row2 col3\" >0.9221</td>\n",
       "                        <td id=\"T_ac8578a0_7880_11ec_a40e_7399565d7a7crow2_col4\" class=\"data row2 col4\" >0.7815</td>\n",
       "                        <td id=\"T_ac8578a0_7880_11ec_a40e_7399565d7a7crow2_col5\" class=\"data row2 col5\" >0.8460</td>\n",
       "                        <td id=\"T_ac8578a0_7880_11ec_a40e_7399565d7a7crow2_col6\" class=\"data row2 col6\" >0.0887</td>\n",
       "                        <td id=\"T_ac8578a0_7880_11ec_a40e_7399565d7a7crow2_col7\" class=\"data row2 col7\" >0.1021</td>\n",
       "                        <td id=\"T_ac8578a0_7880_11ec_a40e_7399565d7a7crow2_col8\" class=\"data row2 col8\" >3.2533</td>\n",
       "            </tr>\n",
       "            <tr>\n",
       "                        <th id=\"T_ac8578a0_7880_11ec_a40e_7399565d7a7clevel0_row3\" class=\"row_heading level0 row3\" >lda</th>\n",
       "                        <td id=\"T_ac8578a0_7880_11ec_a40e_7399565d7a7crow3_col0\" class=\"data row3 col0\" >Linear Discriminant Analysis</td>\n",
       "                        <td id=\"T_ac8578a0_7880_11ec_a40e_7399565d7a7crow3_col1\" class=\"data row3 col1\" >0.6660</td>\n",
       "                        <td id=\"T_ac8578a0_7880_11ec_a40e_7399565d7a7crow3_col2\" class=\"data row3 col2\" >0.6705</td>\n",
       "                        <td id=\"T_ac8578a0_7880_11ec_a40e_7399565d7a7crow3_col3\" class=\"data row3 col3\" >0.7004</td>\n",
       "                        <td id=\"T_ac8578a0_7880_11ec_a40e_7399565d7a7crow3_col4\" class=\"data row3 col4\" >0.8378</td>\n",
       "                        <td id=\"T_ac8578a0_7880_11ec_a40e_7399565d7a7crow3_col5\" class=\"data row3 col5\" >0.7628</td>\n",
       "                        <td id=\"T_ac8578a0_7880_11ec_a40e_7399565d7a7crow3_col6\" class=\"data row3 col6\" >0.2137</td>\n",
       "                        <td id=\"T_ac8578a0_7880_11ec_a40e_7399565d7a7crow3_col7\" class=\"data row3 col7\" >0.2236</td>\n",
       "                        <td id=\"T_ac8578a0_7880_11ec_a40e_7399565d7a7crow3_col8\" class=\"data row3 col8\" >0.3100</td>\n",
       "            </tr>\n",
       "            <tr>\n",
       "                        <th id=\"T_ac8578a0_7880_11ec_a40e_7399565d7a7clevel0_row4\" class=\"row_heading level0 row4\" >rf</th>\n",
       "                        <td id=\"T_ac8578a0_7880_11ec_a40e_7399565d7a7crow4_col0\" class=\"data row4 col0\" >Random Forest Classifier</td>\n",
       "                        <td id=\"T_ac8578a0_7880_11ec_a40e_7399565d7a7crow4_col1\" class=\"data row4 col1\" >0.7454</td>\n",
       "                        <td id=\"T_ac8578a0_7880_11ec_a40e_7399565d7a7crow4_col2\" class=\"data row4 col2\" >0.6702</td>\n",
       "                        <td id=\"T_ac8578a0_7880_11ec_a40e_7399565d7a7crow4_col3\" class=\"data row4 col3\" >0.9081</td>\n",
       "                        <td id=\"T_ac8578a0_7880_11ec_a40e_7399565d7a7crow4_col4\" class=\"data row4 col4\" >0.7912</td>\n",
       "                        <td id=\"T_ac8578a0_7880_11ec_a40e_7399565d7a7crow4_col5\" class=\"data row4 col5\" >0.8455</td>\n",
       "                        <td id=\"T_ac8578a0_7880_11ec_a40e_7399565d7a7crow4_col6\" class=\"data row4 col6\" >0.1409</td>\n",
       "                        <td id=\"T_ac8578a0_7880_11ec_a40e_7399565d7a7crow4_col7\" class=\"data row4 col7\" >0.1530</td>\n",
       "                        <td id=\"T_ac8578a0_7880_11ec_a40e_7399565d7a7crow4_col8\" class=\"data row4 col8\" >0.4133</td>\n",
       "            </tr>\n",
       "            <tr>\n",
       "                        <th id=\"T_ac8578a0_7880_11ec_a40e_7399565d7a7clevel0_row5\" class=\"row_heading level0 row5\" >lightgbm</th>\n",
       "                        <td id=\"T_ac8578a0_7880_11ec_a40e_7399565d7a7crow5_col0\" class=\"data row5 col0\" >Light Gradient Boosting Machine</td>\n",
       "                        <td id=\"T_ac8578a0_7880_11ec_a40e_7399565d7a7crow5_col1\" class=\"data row5 col1\" >0.7461</td>\n",
       "                        <td id=\"T_ac8578a0_7880_11ec_a40e_7399565d7a7crow5_col2\" class=\"data row5 col2\" >0.6686</td>\n",
       "                        <td id=\"T_ac8578a0_7880_11ec_a40e_7399565d7a7crow5_col3\" class=\"data row5 col3\" >0.9229</td>\n",
       "                        <td id=\"T_ac8578a0_7880_11ec_a40e_7399565d7a7crow5_col4\" class=\"data row5 col4\" >0.7844</td>\n",
       "                        <td id=\"T_ac8578a0_7880_11ec_a40e_7399565d7a7crow5_col5\" class=\"data row5 col5\" >0.8480</td>\n",
       "                        <td id=\"T_ac8578a0_7880_11ec_a40e_7399565d7a7crow5_col6\" class=\"data row5 col6\" >0.1056</td>\n",
       "                        <td id=\"T_ac8578a0_7880_11ec_a40e_7399565d7a7crow5_col7\" class=\"data row5 col7\" >0.1198</td>\n",
       "                        <td id=\"T_ac8578a0_7880_11ec_a40e_7399565d7a7crow5_col8\" class=\"data row5 col8\" >0.9833</td>\n",
       "            </tr>\n",
       "            <tr>\n",
       "                        <th id=\"T_ac8578a0_7880_11ec_a40e_7399565d7a7clevel0_row6\" class=\"row_heading level0 row6\" >gbc</th>\n",
       "                        <td id=\"T_ac8578a0_7880_11ec_a40e_7399565d7a7crow6_col0\" class=\"data row6 col0\" >Gradient Boosting Classifier</td>\n",
       "                        <td id=\"T_ac8578a0_7880_11ec_a40e_7399565d7a7crow6_col1\" class=\"data row6 col1\" >0.7360</td>\n",
       "                        <td id=\"T_ac8578a0_7880_11ec_a40e_7399565d7a7crow6_col2\" class=\"data row6 col2\" >0.6608</td>\n",
       "                        <td id=\"T_ac8578a0_7880_11ec_a40e_7399565d7a7crow6_col3\" class=\"data row6 col3\" >0.8934</td>\n",
       "                        <td id=\"T_ac8578a0_7880_11ec_a40e_7399565d7a7crow6_col4\" class=\"data row6 col4\" >0.7900</td>\n",
       "                        <td id=\"T_ac8578a0_7880_11ec_a40e_7399565d7a7crow6_col5\" class=\"data row6 col5\" >0.8385</td>\n",
       "                        <td id=\"T_ac8578a0_7880_11ec_a40e_7399565d7a7crow6_col6\" class=\"data row6 col6\" >0.1303</td>\n",
       "                        <td id=\"T_ac8578a0_7880_11ec_a40e_7399565d7a7crow6_col7\" class=\"data row6 col7\" >0.1401</td>\n",
       "                        <td id=\"T_ac8578a0_7880_11ec_a40e_7399565d7a7crow6_col8\" class=\"data row6 col8\" >1.8567</td>\n",
       "            </tr>\n",
       "            <tr>\n",
       "                        <th id=\"T_ac8578a0_7880_11ec_a40e_7399565d7a7clevel0_row7\" class=\"row_heading level0 row7\" >xgboost</th>\n",
       "                        <td id=\"T_ac8578a0_7880_11ec_a40e_7399565d7a7crow7_col0\" class=\"data row7 col0\" >Extreme Gradient Boosting</td>\n",
       "                        <td id=\"T_ac8578a0_7880_11ec_a40e_7399565d7a7crow7_col1\" class=\"data row7 col1\" >0.7398</td>\n",
       "                        <td id=\"T_ac8578a0_7880_11ec_a40e_7399565d7a7crow7_col2\" class=\"data row7 col2\" >0.6577</td>\n",
       "                        <td id=\"T_ac8578a0_7880_11ec_a40e_7399565d7a7crow7_col3\" class=\"data row7 col3\" >0.8991</td>\n",
       "                        <td id=\"T_ac8578a0_7880_11ec_a40e_7399565d7a7crow7_col4\" class=\"data row7 col4\" >0.7906</td>\n",
       "                        <td id=\"T_ac8578a0_7880_11ec_a40e_7399565d7a7crow7_col5\" class=\"data row7 col5\" >0.8414</td>\n",
       "                        <td id=\"T_ac8578a0_7880_11ec_a40e_7399565d7a7crow7_col6\" class=\"data row7 col6\" >0.1337</td>\n",
       "                        <td id=\"T_ac8578a0_7880_11ec_a40e_7399565d7a7crow7_col7\" class=\"data row7 col7\" >0.1429</td>\n",
       "                        <td id=\"T_ac8578a0_7880_11ec_a40e_7399565d7a7crow7_col8\" class=\"data row7 col8\" >1.0967</td>\n",
       "            </tr>\n",
       "            <tr>\n",
       "                        <th id=\"T_ac8578a0_7880_11ec_a40e_7399565d7a7clevel0_row8\" class=\"row_heading level0 row8\" >ada</th>\n",
       "                        <td id=\"T_ac8578a0_7880_11ec_a40e_7399565d7a7crow8_col0\" class=\"data row8 col0\" >Ada Boost Classifier</td>\n",
       "                        <td id=\"T_ac8578a0_7880_11ec_a40e_7399565d7a7crow8_col1\" class=\"data row8 col1\" >0.6755</td>\n",
       "                        <td id=\"T_ac8578a0_7880_11ec_a40e_7399565d7a7crow8_col2\" class=\"data row8 col2\" >0.6062</td>\n",
       "                        <td id=\"T_ac8578a0_7880_11ec_a40e_7399565d7a7crow8_col3\" class=\"data row8 col3\" >0.7802</td>\n",
       "                        <td id=\"T_ac8578a0_7880_11ec_a40e_7399565d7a7crow8_col4\" class=\"data row8 col4\" >0.7935</td>\n",
       "                        <td id=\"T_ac8578a0_7880_11ec_a40e_7399565d7a7crow8_col5\" class=\"data row8 col5\" >0.7865</td>\n",
       "                        <td id=\"T_ac8578a0_7880_11ec_a40e_7399565d7a7crow8_col6\" class=\"data row8 col6\" >0.1102</td>\n",
       "                        <td id=\"T_ac8578a0_7880_11ec_a40e_7399565d7a7crow8_col7\" class=\"data row8 col7\" >0.1104</td>\n",
       "                        <td id=\"T_ac8578a0_7880_11ec_a40e_7399565d7a7crow8_col8\" class=\"data row8 col8\" >0.6000</td>\n",
       "            </tr>\n",
       "            <tr>\n",
       "                        <th id=\"T_ac8578a0_7880_11ec_a40e_7399565d7a7clevel0_row9\" class=\"row_heading level0 row9\" >dt</th>\n",
       "                        <td id=\"T_ac8578a0_7880_11ec_a40e_7399565d7a7crow9_col0\" class=\"data row9 col0\" >Decision Tree Classifier</td>\n",
       "                        <td id=\"T_ac8578a0_7880_11ec_a40e_7399565d7a7crow9_col1\" class=\"data row9 col1\" >0.6377</td>\n",
       "                        <td id=\"T_ac8578a0_7880_11ec_a40e_7399565d7a7crow9_col2\" class=\"data row9 col2\" >0.5320</td>\n",
       "                        <td id=\"T_ac8578a0_7880_11ec_a40e_7399565d7a7crow9_col3\" class=\"data row9 col3\" >0.7299</td>\n",
       "                        <td id=\"T_ac8578a0_7880_11ec_a40e_7399565d7a7crow9_col4\" class=\"data row9 col4\" >0.7837</td>\n",
       "                        <td id=\"T_ac8578a0_7880_11ec_a40e_7399565d7a7crow9_col5\" class=\"data row9 col5\" >0.7557</td>\n",
       "                        <td id=\"T_ac8578a0_7880_11ec_a40e_7399565d7a7crow9_col6\" class=\"data row9 col6\" >0.0579</td>\n",
       "                        <td id=\"T_ac8578a0_7880_11ec_a40e_7399565d7a7crow9_col7\" class=\"data row9 col7\" >0.0588</td>\n",
       "                        <td id=\"T_ac8578a0_7880_11ec_a40e_7399565d7a7crow9_col8\" class=\"data row9 col8\" >0.3433</td>\n",
       "            </tr>\n",
       "            <tr>\n",
       "                        <th id=\"T_ac8578a0_7880_11ec_a40e_7399565d7a7clevel0_row10\" class=\"row_heading level0 row10\" >dummy</th>\n",
       "                        <td id=\"T_ac8578a0_7880_11ec_a40e_7399565d7a7crow10_col0\" class=\"data row10 col0\" >Dummy Classifier</td>\n",
       "                        <td id=\"T_ac8578a0_7880_11ec_a40e_7399565d7a7crow10_col1\" class=\"data row10 col1\" >0.2325</td>\n",
       "                        <td id=\"T_ac8578a0_7880_11ec_a40e_7399565d7a7crow10_col2\" class=\"data row10 col2\" >0.5000</td>\n",
       "                        <td id=\"T_ac8578a0_7880_11ec_a40e_7399565d7a7crow10_col3\" class=\"data row10 col3\" >0.0000</td>\n",
       "                        <td id=\"T_ac8578a0_7880_11ec_a40e_7399565d7a7crow10_col4\" class=\"data row10 col4\" >0.0000</td>\n",
       "                        <td id=\"T_ac8578a0_7880_11ec_a40e_7399565d7a7crow10_col5\" class=\"data row10 col5\" >0.0000</td>\n",
       "                        <td id=\"T_ac8578a0_7880_11ec_a40e_7399565d7a7crow10_col6\" class=\"data row10 col6\" >0.0000</td>\n",
       "                        <td id=\"T_ac8578a0_7880_11ec_a40e_7399565d7a7crow10_col7\" class=\"data row10 col7\" >0.0000</td>\n",
       "                        <td id=\"T_ac8578a0_7880_11ec_a40e_7399565d7a7crow10_col8\" class=\"data row10 col8\" >0.2933</td>\n",
       "            </tr>\n",
       "            <tr>\n",
       "                        <th id=\"T_ac8578a0_7880_11ec_a40e_7399565d7a7clevel0_row11\" class=\"row_heading level0 row11\" >svm</th>\n",
       "                        <td id=\"T_ac8578a0_7880_11ec_a40e_7399565d7a7crow11_col0\" class=\"data row11 col0\" >SVM - Linear Kernel</td>\n",
       "                        <td id=\"T_ac8578a0_7880_11ec_a40e_7399565d7a7crow11_col1\" class=\"data row11 col1\" >0.6560</td>\n",
       "                        <td id=\"T_ac8578a0_7880_11ec_a40e_7399565d7a7crow11_col2\" class=\"data row11 col2\" >0.0000</td>\n",
       "                        <td id=\"T_ac8578a0_7880_11ec_a40e_7399565d7a7crow11_col3\" class=\"data row11 col3\" >0.7020</td>\n",
       "                        <td id=\"T_ac8578a0_7880_11ec_a40e_7399565d7a7crow11_col4\" class=\"data row11 col4\" >0.8237</td>\n",
       "                        <td id=\"T_ac8578a0_7880_11ec_a40e_7399565d7a7crow11_col5\" class=\"data row11 col5\" >0.7580</td>\n",
       "                        <td id=\"T_ac8578a0_7880_11ec_a40e_7399565d7a7crow11_col6\" class=\"data row11 col6\" >0.1761</td>\n",
       "                        <td id=\"T_ac8578a0_7880_11ec_a40e_7399565d7a7crow11_col7\" class=\"data row11 col7\" >0.1829</td>\n",
       "                        <td id=\"T_ac8578a0_7880_11ec_a40e_7399565d7a7crow11_col8\" class=\"data row11 col8\" >0.3067</td>\n",
       "            </tr>\n",
       "            <tr>\n",
       "                        <th id=\"T_ac8578a0_7880_11ec_a40e_7399565d7a7clevel0_row12\" class=\"row_heading level0 row12\" >ridge</th>\n",
       "                        <td id=\"T_ac8578a0_7880_11ec_a40e_7399565d7a7crow12_col0\" class=\"data row12 col0\" >Ridge Classifier</td>\n",
       "                        <td id=\"T_ac8578a0_7880_11ec_a40e_7399565d7a7crow12_col1\" class=\"data row12 col1\" >0.6654</td>\n",
       "                        <td id=\"T_ac8578a0_7880_11ec_a40e_7399565d7a7crow12_col2\" class=\"data row12 col2\" >0.0000</td>\n",
       "                        <td id=\"T_ac8578a0_7880_11ec_a40e_7399565d7a7crow12_col3\" class=\"data row12 col3\" >0.7020</td>\n",
       "                        <td id=\"T_ac8578a0_7880_11ec_a40e_7399565d7a7crow12_col4\" class=\"data row12 col4\" >0.8356</td>\n",
       "                        <td id=\"T_ac8578a0_7880_11ec_a40e_7399565d7a7crow12_col5\" class=\"data row12 col5\" >0.7629</td>\n",
       "                        <td id=\"T_ac8578a0_7880_11ec_a40e_7399565d7a7crow12_col6\" class=\"data row12 col6\" >0.2089</td>\n",
       "                        <td id=\"T_ac8578a0_7880_11ec_a40e_7399565d7a7crow12_col7\" class=\"data row12 col7\" >0.2181</td>\n",
       "                        <td id=\"T_ac8578a0_7880_11ec_a40e_7399565d7a7crow12_col8\" class=\"data row12 col8\" >0.2933</td>\n",
       "            </tr>\n",
       "    </tbody></table>"
      ],
      "text/plain": [
       "<pandas.io.formats.style.Styler at 0x7f18d0dc7e80>"
      ]
     },
     "metadata": {},
     "output_type": "display_data"
    }
   ],
   "source": [
    "top_models = compare_models(\n",
    "            n_select=5,\n",
    "            sort='AUC',\n",
    "            exclude=[\"qda\", \"knn\", \"nb\"],\n",
    "            verbose=True,\n",
    "        )"
   ]
  },
  {
   "cell_type": "code",
   "execution_count": null,
   "metadata": {},
   "outputs": [],
   "source": []
  },
  {
   "cell_type": "code",
   "execution_count": 127,
   "metadata": {},
   "outputs": [
    {
     "data": {
      "text/html": [
       "<style  type=\"text/css\" >\n",
       "#T_b466795c_7880_11ec_a40e_7399565d7a7crow3_col0,#T_b466795c_7880_11ec_a40e_7399565d7a7crow3_col1,#T_b466795c_7880_11ec_a40e_7399565d7a7crow3_col2,#T_b466795c_7880_11ec_a40e_7399565d7a7crow3_col3,#T_b466795c_7880_11ec_a40e_7399565d7a7crow3_col4,#T_b466795c_7880_11ec_a40e_7399565d7a7crow3_col5,#T_b466795c_7880_11ec_a40e_7399565d7a7crow3_col6{\n",
       "            background:  yellow;\n",
       "        }</style><table id=\"T_b466795c_7880_11ec_a40e_7399565d7a7c\" ><thead>    <tr>        <th class=\"blank level0\" ></th>        <th class=\"col_heading level0 col0\" >Accuracy</th>        <th class=\"col_heading level0 col1\" >AUC</th>        <th class=\"col_heading level0 col2\" >Recall</th>        <th class=\"col_heading level0 col3\" >Prec.</th>        <th class=\"col_heading level0 col4\" >F1</th>        <th class=\"col_heading level0 col5\" >Kappa</th>        <th class=\"col_heading level0 col6\" >MCC</th>    </tr></thead><tbody>\n",
       "                <tr>\n",
       "                        <th id=\"T_b466795c_7880_11ec_a40e_7399565d7a7clevel0_row0\" class=\"row_heading level0 row0\" >0</th>\n",
       "                        <td id=\"T_b466795c_7880_11ec_a40e_7399565d7a7crow0_col0\" class=\"data row0 col0\" >0.6767</td>\n",
       "                        <td id=\"T_b466795c_7880_11ec_a40e_7399565d7a7crow0_col1\" class=\"data row0 col1\" >0.6884</td>\n",
       "                        <td id=\"T_b466795c_7880_11ec_a40e_7399565d7a7crow0_col2\" class=\"data row0 col2\" >0.7188</td>\n",
       "                        <td id=\"T_b466795c_7880_11ec_a40e_7399565d7a7crow0_col3\" class=\"data row0 col3\" >0.8400</td>\n",
       "                        <td id=\"T_b466795c_7880_11ec_a40e_7399565d7a7crow0_col4\" class=\"data row0 col4\" >0.7747</td>\n",
       "                        <td id=\"T_b466795c_7880_11ec_a40e_7399565d7a7crow0_col5\" class=\"data row0 col5\" >0.2148</td>\n",
       "                        <td id=\"T_b466795c_7880_11ec_a40e_7399565d7a7crow0_col6\" class=\"data row0 col6\" >0.2232</td>\n",
       "            </tr>\n",
       "            <tr>\n",
       "                        <th id=\"T_b466795c_7880_11ec_a40e_7399565d7a7clevel0_row1\" class=\"row_heading level0 row1\" >1</th>\n",
       "                        <td id=\"T_b466795c_7880_11ec_a40e_7399565d7a7crow1_col0\" class=\"data row1 col0\" >0.6938</td>\n",
       "                        <td id=\"T_b466795c_7880_11ec_a40e_7399565d7a7crow1_col1\" class=\"data row1 col1\" >0.6922</td>\n",
       "                        <td id=\"T_b466795c_7880_11ec_a40e_7399565d7a7crow1_col2\" class=\"data row1 col2\" >0.7345</td>\n",
       "                        <td id=\"T_b466795c_7880_11ec_a40e_7399565d7a7crow1_col3\" class=\"data row1 col3\" >0.8433</td>\n",
       "                        <td id=\"T_b466795c_7880_11ec_a40e_7399565d7a7crow1_col4\" class=\"data row1 col4\" >0.7851</td>\n",
       "                        <td id=\"T_b466795c_7880_11ec_a40e_7399565d7a7crow1_col5\" class=\"data row1 col5\" >0.2610</td>\n",
       "                        <td id=\"T_b466795c_7880_11ec_a40e_7399565d7a7crow1_col6\" class=\"data row1 col6\" >0.2686</td>\n",
       "            </tr>\n",
       "            <tr>\n",
       "                        <th id=\"T_b466795c_7880_11ec_a40e_7399565d7a7clevel0_row2\" class=\"row_heading level0 row2\" >2</th>\n",
       "                        <td id=\"T_b466795c_7880_11ec_a40e_7399565d7a7crow2_col0\" class=\"data row2 col0\" >0.6560</td>\n",
       "                        <td id=\"T_b466795c_7880_11ec_a40e_7399565d7a7crow2_col1\" class=\"data row2 col1\" >0.6855</td>\n",
       "                        <td id=\"T_b466795c_7880_11ec_a40e_7399565d7a7crow2_col2\" class=\"data row2 col2\" >0.6995</td>\n",
       "                        <td id=\"T_b466795c_7880_11ec_a40e_7399565d7a7crow2_col3\" class=\"data row2 col3\" >0.8256</td>\n",
       "                        <td id=\"T_b466795c_7880_11ec_a40e_7399565d7a7crow2_col4\" class=\"data row2 col4\" >0.7573</td>\n",
       "                        <td id=\"T_b466795c_7880_11ec_a40e_7399565d7a7crow2_col5\" class=\"data row2 col5\" >0.1801</td>\n",
       "                        <td id=\"T_b466795c_7880_11ec_a40e_7399565d7a7crow2_col6\" class=\"data row2 col6\" >0.1875</td>\n",
       "            </tr>\n",
       "            <tr>\n",
       "                        <th id=\"T_b466795c_7880_11ec_a40e_7399565d7a7clevel0_row3\" class=\"row_heading level0 row3\" >Mean</th>\n",
       "                        <td id=\"T_b466795c_7880_11ec_a40e_7399565d7a7crow3_col0\" class=\"data row3 col0\" >0.6755</td>\n",
       "                        <td id=\"T_b466795c_7880_11ec_a40e_7399565d7a7crow3_col1\" class=\"data row3 col1\" >0.6887</td>\n",
       "                        <td id=\"T_b466795c_7880_11ec_a40e_7399565d7a7crow3_col2\" class=\"data row3 col2\" >0.7176</td>\n",
       "                        <td id=\"T_b466795c_7880_11ec_a40e_7399565d7a7crow3_col3\" class=\"data row3 col3\" >0.8363</td>\n",
       "                        <td id=\"T_b466795c_7880_11ec_a40e_7399565d7a7crow3_col4\" class=\"data row3 col4\" >0.7724</td>\n",
       "                        <td id=\"T_b466795c_7880_11ec_a40e_7399565d7a7crow3_col5\" class=\"data row3 col5\" >0.2186</td>\n",
       "                        <td id=\"T_b466795c_7880_11ec_a40e_7399565d7a7crow3_col6\" class=\"data row3 col6\" >0.2265</td>\n",
       "            </tr>\n",
       "            <tr>\n",
       "                        <th id=\"T_b466795c_7880_11ec_a40e_7399565d7a7clevel0_row4\" class=\"row_heading level0 row4\" >SD</th>\n",
       "                        <td id=\"T_b466795c_7880_11ec_a40e_7399565d7a7crow4_col0\" class=\"data row4 col0\" >0.0155</td>\n",
       "                        <td id=\"T_b466795c_7880_11ec_a40e_7399565d7a7crow4_col1\" class=\"data row4 col1\" >0.0028</td>\n",
       "                        <td id=\"T_b466795c_7880_11ec_a40e_7399565d7a7crow4_col2\" class=\"data row4 col2\" >0.0143</td>\n",
       "                        <td id=\"T_b466795c_7880_11ec_a40e_7399565d7a7crow4_col3\" class=\"data row4 col3\" >0.0077</td>\n",
       "                        <td id=\"T_b466795c_7880_11ec_a40e_7399565d7a7crow4_col4\" class=\"data row4 col4\" >0.0115</td>\n",
       "                        <td id=\"T_b466795c_7880_11ec_a40e_7399565d7a7crow4_col5\" class=\"data row4 col5\" >0.0331</td>\n",
       "                        <td id=\"T_b466795c_7880_11ec_a40e_7399565d7a7crow4_col6\" class=\"data row4 col6\" >0.0332</td>\n",
       "            </tr>\n",
       "    </tbody></table>"
      ],
      "text/plain": [
       "<pandas.io.formats.style.Styler at 0x7f173bb93b50>"
      ]
     },
     "metadata": {},
     "output_type": "display_data"
    }
   ],
   "source": [
    "tuned= tune_model(top_models[0], optimize=\"Precision\")#, search_library=\"optuna\")"
   ]
  },
  {
   "cell_type": "code",
   "execution_count": 128,
   "metadata": {},
   "outputs": [
    {
     "data": {
      "text/html": [
       "<style  type=\"text/css\" >\n",
       "#T_ba6cafc4_7880_11ec_a40e_7399565d7a7crow3_col0,#T_ba6cafc4_7880_11ec_a40e_7399565d7a7crow3_col1,#T_ba6cafc4_7880_11ec_a40e_7399565d7a7crow3_col2,#T_ba6cafc4_7880_11ec_a40e_7399565d7a7crow3_col3,#T_ba6cafc4_7880_11ec_a40e_7399565d7a7crow3_col4,#T_ba6cafc4_7880_11ec_a40e_7399565d7a7crow3_col5,#T_ba6cafc4_7880_11ec_a40e_7399565d7a7crow3_col6{\n",
       "            background:  yellow;\n",
       "        }</style><table id=\"T_ba6cafc4_7880_11ec_a40e_7399565d7a7c\" ><thead>    <tr>        <th class=\"blank level0\" ></th>        <th class=\"col_heading level0 col0\" >Accuracy</th>        <th class=\"col_heading level0 col1\" >AUC</th>        <th class=\"col_heading level0 col2\" >Recall</th>        <th class=\"col_heading level0 col3\" >Prec.</th>        <th class=\"col_heading level0 col4\" >F1</th>        <th class=\"col_heading level0 col5\" >Kappa</th>        <th class=\"col_heading level0 col6\" >MCC</th>    </tr></thead><tbody>\n",
       "                <tr>\n",
       "                        <th id=\"T_ba6cafc4_7880_11ec_a40e_7399565d7a7clevel0_row0\" class=\"row_heading level0 row0\" >0</th>\n",
       "                        <td id=\"T_ba6cafc4_7880_11ec_a40e_7399565d7a7crow0_col0\" class=\"data row0 col0\" >0.6957</td>\n",
       "                        <td id=\"T_ba6cafc4_7880_11ec_a40e_7399565d7a7crow0_col1\" class=\"data row0 col1\" >0.6900</td>\n",
       "                        <td id=\"T_ba6cafc4_7880_11ec_a40e_7399565d7a7crow0_col2\" class=\"data row0 col2\" >0.7482</td>\n",
       "                        <td id=\"T_ba6cafc4_7880_11ec_a40e_7399565d7a7crow0_col3\" class=\"data row0 col3\" >0.8407</td>\n",
       "                        <td id=\"T_ba6cafc4_7880_11ec_a40e_7399565d7a7crow0_col4\" class=\"data row0 col4\" >0.7917</td>\n",
       "                        <td id=\"T_ba6cafc4_7880_11ec_a40e_7399565d7a7crow0_col5\" class=\"data row0 col5\" >0.2339</td>\n",
       "                        <td id=\"T_ba6cafc4_7880_11ec_a40e_7399565d7a7crow0_col6\" class=\"data row0 col6\" >0.2394</td>\n",
       "            </tr>\n",
       "            <tr>\n",
       "                        <th id=\"T_ba6cafc4_7880_11ec_a40e_7399565d7a7clevel0_row1\" class=\"row_heading level0 row1\" >1</th>\n",
       "                        <td id=\"T_ba6cafc4_7880_11ec_a40e_7399565d7a7crow1_col0\" class=\"data row1 col0\" >0.6975</td>\n",
       "                        <td id=\"T_ba6cafc4_7880_11ec_a40e_7399565d7a7crow1_col1\" class=\"data row1 col1\" >0.6933</td>\n",
       "                        <td id=\"T_ba6cafc4_7880_11ec_a40e_7399565d7a7crow1_col2\" class=\"data row1 col2\" >0.7444</td>\n",
       "                        <td id=\"T_ba6cafc4_7880_11ec_a40e_7399565d7a7crow1_col3\" class=\"data row1 col3\" >0.8403</td>\n",
       "                        <td id=\"T_ba6cafc4_7880_11ec_a40e_7399565d7a7crow1_col4\" class=\"data row1 col4\" >0.7895</td>\n",
       "                        <td id=\"T_ba6cafc4_7880_11ec_a40e_7399565d7a7crow1_col5\" class=\"data row1 col5\" >0.2595</td>\n",
       "                        <td id=\"T_ba6cafc4_7880_11ec_a40e_7399565d7a7crow1_col6\" class=\"data row1 col6\" >0.2656</td>\n",
       "            </tr>\n",
       "            <tr>\n",
       "                        <th id=\"T_ba6cafc4_7880_11ec_a40e_7399565d7a7clevel0_row2\" class=\"row_heading level0 row2\" >2</th>\n",
       "                        <td id=\"T_ba6cafc4_7880_11ec_a40e_7399565d7a7crow2_col0\" class=\"data row2 col0\" >0.6597</td>\n",
       "                        <td id=\"T_ba6cafc4_7880_11ec_a40e_7399565d7a7crow2_col1\" class=\"data row2 col1\" >0.6883</td>\n",
       "                        <td id=\"T_ba6cafc4_7880_11ec_a40e_7399565d7a7crow2_col2\" class=\"data row2 col2\" >0.7069</td>\n",
       "                        <td id=\"T_ba6cafc4_7880_11ec_a40e_7399565d7a7crow2_col3\" class=\"data row2 col3\" >0.8247</td>\n",
       "                        <td id=\"T_ba6cafc4_7880_11ec_a40e_7399565d7a7crow2_col4\" class=\"data row2 col4\" >0.7613</td>\n",
       "                        <td id=\"T_ba6cafc4_7880_11ec_a40e_7399565d7a7crow2_col5\" class=\"data row2 col5\" >0.1812</td>\n",
       "                        <td id=\"T_ba6cafc4_7880_11ec_a40e_7399565d7a7crow2_col6\" class=\"data row2 col6\" >0.1878</td>\n",
       "            </tr>\n",
       "            <tr>\n",
       "                        <th id=\"T_ba6cafc4_7880_11ec_a40e_7399565d7a7clevel0_row3\" class=\"row_heading level0 row3\" >Mean</th>\n",
       "                        <td id=\"T_ba6cafc4_7880_11ec_a40e_7399565d7a7crow3_col0\" class=\"data row3 col0\" >0.6843</td>\n",
       "                        <td id=\"T_ba6cafc4_7880_11ec_a40e_7399565d7a7crow3_col1\" class=\"data row3 col1\" >0.6905</td>\n",
       "                        <td id=\"T_ba6cafc4_7880_11ec_a40e_7399565d7a7crow3_col2\" class=\"data row3 col2\" >0.7332</td>\n",
       "                        <td id=\"T_ba6cafc4_7880_11ec_a40e_7399565d7a7crow3_col3\" class=\"data row3 col3\" >0.8352</td>\n",
       "                        <td id=\"T_ba6cafc4_7880_11ec_a40e_7399565d7a7crow3_col4\" class=\"data row3 col4\" >0.7808</td>\n",
       "                        <td id=\"T_ba6cafc4_7880_11ec_a40e_7399565d7a7crow3_col5\" class=\"data row3 col5\" >0.2248</td>\n",
       "                        <td id=\"T_ba6cafc4_7880_11ec_a40e_7399565d7a7crow3_col6\" class=\"data row3 col6\" >0.2309</td>\n",
       "            </tr>\n",
       "            <tr>\n",
       "                        <th id=\"T_ba6cafc4_7880_11ec_a40e_7399565d7a7clevel0_row4\" class=\"row_heading level0 row4\" >SD</th>\n",
       "                        <td id=\"T_ba6cafc4_7880_11ec_a40e_7399565d7a7crow4_col0\" class=\"data row4 col0\" >0.0174</td>\n",
       "                        <td id=\"T_ba6cafc4_7880_11ec_a40e_7399565d7a7crow4_col1\" class=\"data row4 col1\" >0.0021</td>\n",
       "                        <td id=\"T_ba6cafc4_7880_11ec_a40e_7399565d7a7crow4_col2\" class=\"data row4 col2\" >0.0186</td>\n",
       "                        <td id=\"T_ba6cafc4_7880_11ec_a40e_7399565d7a7crow4_col3\" class=\"data row4 col3\" >0.0074</td>\n",
       "                        <td id=\"T_ba6cafc4_7880_11ec_a40e_7399565d7a7crow4_col4\" class=\"data row4 col4\" >0.0139</td>\n",
       "                        <td id=\"T_ba6cafc4_7880_11ec_a40e_7399565d7a7crow4_col5\" class=\"data row4 col5\" >0.0326</td>\n",
       "                        <td id=\"T_ba6cafc4_7880_11ec_a40e_7399565d7a7crow4_col6\" class=\"data row4 col6\" >0.0323</td>\n",
       "            </tr>\n",
       "    </tbody></table>"
      ],
      "text/plain": [
       "<pandas.io.formats.style.Styler at 0x7f18d02f0220>"
      ]
     },
     "metadata": {},
     "output_type": "display_data"
    }
   ],
   "source": [
    "cali = calibrate_model(tuned)\n",
    "\n",
    "final = finalize_model(cali)"
   ]
  },
  {
   "cell_type": "code",
   "execution_count": 129,
   "metadata": {},
   "outputs": [
    {
     "data": {
      "application/vnd.jupyter.widget-view+json": {
       "model_id": "526e89c4d2fb4f57bb4bf83c9e25ba85",
       "version_major": 2,
       "version_minor": 0
      },
      "text/plain": [
       "interactive(children=(ToggleButtons(description='Plot Type:', icons=('',), options=(('Hyperparameters', 'param…"
      ]
     },
     "metadata": {},
     "output_type": "display_data"
    }
   ],
   "source": [
    "evaluate_model(cali)"
   ]
  },
  {
   "cell_type": "code",
   "execution_count": 130,
   "metadata": {},
   "outputs": [
    {
     "data": {
      "application/vnd.plotly.v1+json": {
       "config": {
        "plotlyServerURL": "https://plot.ly"
       },
       "data": [
        {
         "hovertemplate": "variable=Accuracy<br>probability_threshold=%{x}<br>value=%{y}<extra></extra>",
         "legendgroup": "Accuracy",
         "line": {
          "color": "#636efa",
          "dash": "solid"
         },
         "marker": {
          "symbol": "circle"
         },
         "mode": "lines",
         "name": "Accuracy",
         "orientation": "v",
         "showlegend": true,
         "type": "scatter",
         "x": [
          0,
          0.05,
          0.1,
          0.15000000000000002,
          0.2,
          0.25,
          0.30000000000000004,
          0.35000000000000003,
          0.4,
          0.45,
          0.5,
          0.55,
          0.6000000000000001,
          0.65,
          0.7000000000000001,
          0.75,
          0.8,
          0.8500000000000001,
          0.9,
          0.9500000000000001,
          1
         ],
         "xaxis": "x",
         "y": [
          0.6843,
          0.7675,
          0.77,
          0.7719,
          0.7643,
          0.7561,
          0.7517,
          0.7417,
          0.7278,
          0.7152,
          0.6843,
          0.6641,
          0.6301,
          0.6043,
          0.5747,
          0.5268,
          0.4764,
          0.4121,
          0.3529,
          0.2804,
          0.2325
         ],
         "yaxis": "y"
        },
        {
         "hovertemplate": "variable=AUC<br>probability_threshold=%{x}<br>value=%{y}<extra></extra>",
         "legendgroup": "AUC",
         "line": {
          "color": "#EF553B",
          "dash": "solid"
         },
         "marker": {
          "symbol": "circle"
         },
         "mode": "lines",
         "name": "AUC",
         "orientation": "v",
         "showlegend": true,
         "type": "scatter",
         "x": [
          0,
          0.05,
          0.1,
          0.15000000000000002,
          0.2,
          0.25,
          0.30000000000000004,
          0.35000000000000003,
          0.4,
          0.45,
          0.5,
          0.55,
          0.6000000000000001,
          0.65,
          0.7000000000000001,
          0.75,
          0.8,
          0.8500000000000001,
          0.9,
          0.9500000000000001,
          1
         ],
         "xaxis": "x",
         "y": [
          0.6905,
          0.6905,
          0.6905,
          0.6905,
          0.6905,
          0.6905,
          0.6905,
          0.6905,
          0.6905,
          0.6905,
          0.6905,
          0.6905,
          0.6905,
          0.6905,
          0.6905,
          0.6905,
          0.6905,
          0.6905,
          0.6905,
          0.6905,
          0.6905
         ],
         "yaxis": "y"
        },
        {
         "hovertemplate": "variable=Recall<br>probability_threshold=%{x}<br>value=%{y}<extra></extra>",
         "legendgroup": "Recall",
         "line": {
          "color": "#00cc96",
          "dash": "solid"
         },
         "marker": {
          "symbol": "circle"
         },
         "mode": "lines",
         "name": "Recall",
         "orientation": "v",
         "showlegend": true,
         "type": "scatter",
         "x": [
          0,
          0.05,
          0.1,
          0.15000000000000002,
          0.2,
          0.25,
          0.30000000000000004,
          0.35000000000000003,
          0.4,
          0.45,
          0.5,
          0.55,
          0.6000000000000001,
          0.65,
          0.7000000000000001,
          0.75,
          0.8,
          0.8500000000000001,
          0.9,
          0.9500000000000001,
          1
         ],
         "xaxis": "x",
         "y": [
          0.7332,
          0.9984,
          0.9836,
          0.9688,
          0.9434,
          0.9163,
          0.8908,
          0.8629,
          0.8251,
          0.7865,
          0.7332,
          0.6856,
          0.6215,
          0.5731,
          0.518,
          0.4433,
          0.3661,
          0.2617,
          0.1731,
          0.064,
          0
         ],
         "yaxis": "y"
        },
        {
         "hovertemplate": "variable=Prec.<br>probability_threshold=%{x}<br>value=%{y}<extra></extra>",
         "legendgroup": "Prec.",
         "line": {
          "color": "#ab63fa",
          "dash": "solid"
         },
         "marker": {
          "symbol": "circle"
         },
         "mode": "lines",
         "name": "Prec.",
         "orientation": "v",
         "showlegend": true,
         "type": "scatter",
         "x": [
          0,
          0.05,
          0.1,
          0.15000000000000002,
          0.2,
          0.25,
          0.30000000000000004,
          0.35000000000000003,
          0.4,
          0.45,
          0.5,
          0.55,
          0.6000000000000001,
          0.65,
          0.7000000000000001,
          0.75,
          0.8,
          0.8500000000000001,
          0.9,
          0.9500000000000001,
          1
         ],
         "xaxis": "x",
         "y": [
          0.8352,
          0.7682,
          0.7764,
          0.7846,
          0.7902,
          0.7966,
          0.8062,
          0.8123,
          0.8212,
          0.833,
          0.8352,
          0.8477,
          0.8572,
          0.866,
          0.8779,
          0.8813,
          0.8836,
          0.9051,
          0.9191,
          0.9833,
          0
         ],
         "yaxis": "y"
        },
        {
         "hovertemplate": "variable=F1<br>probability_threshold=%{x}<br>value=%{y}<extra></extra>",
         "legendgroup": "F1",
         "line": {
          "color": "#FFA15A",
          "dash": "solid"
         },
         "marker": {
          "symbol": "circle"
         },
         "mode": "lines",
         "name": "F1",
         "orientation": "v",
         "showlegend": true,
         "type": "scatter",
         "x": [
          0,
          0.05,
          0.1,
          0.15000000000000002,
          0.2,
          0.25,
          0.30000000000000004,
          0.35000000000000003,
          0.4,
          0.45,
          0.5,
          0.55,
          0.6000000000000001,
          0.65,
          0.7000000000000001,
          0.75,
          0.8,
          0.8500000000000001,
          0.9,
          0.9500000000000001,
          1
         ],
         "xaxis": "x",
         "y": [
          0.7808,
          0.8683,
          0.8678,
          0.867,
          0.86,
          0.8523,
          0.8464,
          0.8368,
          0.8231,
          0.8091,
          0.7808,
          0.7579,
          0.7202,
          0.6891,
          0.6506,
          0.588,
          0.5141,
          0.4025,
          0.288,
          0.1188,
          0
         ],
         "yaxis": "y"
        },
        {
         "hovertemplate": "variable=Kappa<br>probability_threshold=%{x}<br>value=%{y}<extra></extra>",
         "legendgroup": "Kappa",
         "line": {
          "color": "#19d3f3",
          "dash": "solid"
         },
         "marker": {
          "symbol": "circle"
         },
         "mode": "lines",
         "name": "Kappa",
         "orientation": "v",
         "showlegend": true,
         "type": "scatter",
         "x": [
          0,
          0.05,
          0.1,
          0.15000000000000002,
          0.2,
          0.25,
          0.30000000000000004,
          0.35000000000000003,
          0.4,
          0.45,
          0.5,
          0.55,
          0.6000000000000001,
          0.65,
          0.7000000000000001,
          0.75,
          0.8,
          0.8500000000000001,
          0.9,
          0.9500000000000001,
          1
         ],
         "xaxis": "x",
         "y": [
          0.2248,
          0.0058,
          0.0701,
          0.1238,
          0.1496,
          0.173,
          0.2072,
          0.2189,
          0.2317,
          0.25,
          0.2248,
          0.2292,
          0.2133,
          0.2025,
          0.1905,
          0.157,
          0.1245,
          0.094,
          0.0617,
          0.0283,
          0
         ],
         "yaxis": "y"
        },
        {
         "hovertemplate": "variable=MCC<br>probability_threshold=%{x}<br>value=%{y}<extra></extra>",
         "legendgroup": "MCC",
         "line": {
          "color": "#FF6692",
          "dash": "solid"
         },
         "marker": {
          "symbol": "circle"
         },
         "mode": "lines",
         "name": "MCC",
         "orientation": "v",
         "showlegend": true,
         "type": "scatter",
         "x": [
          0,
          0.05,
          0.1,
          0.15000000000000002,
          0.2,
          0.25,
          0.30000000000000004,
          0.35000000000000003,
          0.4,
          0.45,
          0.5,
          0.55,
          0.6000000000000001,
          0.65,
          0.7000000000000001,
          0.75,
          0.8,
          0.8500000000000001,
          0.9,
          0.9500000000000001,
          1
         ],
         "xaxis": "x",
         "y": [
          0.2309,
          0.0414,
          0.1248,
          0.1712,
          0.1771,
          0.1877,
          0.2142,
          0.2213,
          0.2318,
          0.2516,
          0.2309,
          0.2433,
          0.2386,
          0.2373,
          0.2376,
          0.2136,
          0.1877,
          0.1727,
          0.1435,
          0.1119,
          0
         ],
         "yaxis": "y"
        }
       ],
       "layout": {
        "legend": {
         "title": {
          "text": "variable"
         },
         "tracegroupgap": 0
        },
        "template": {
         "data": {
          "bar": [
           {
            "error_x": {
             "color": "#2a3f5f"
            },
            "error_y": {
             "color": "#2a3f5f"
            },
            "marker": {
             "line": {
              "color": "#E5ECF6",
              "width": 0.5
             },
             "pattern": {
              "fillmode": "overlay",
              "size": 10,
              "solidity": 0.2
             }
            },
            "type": "bar"
           }
          ],
          "barpolar": [
           {
            "marker": {
             "line": {
              "color": "#E5ECF6",
              "width": 0.5
             },
             "pattern": {
              "fillmode": "overlay",
              "size": 10,
              "solidity": 0.2
             }
            },
            "type": "barpolar"
           }
          ],
          "carpet": [
           {
            "aaxis": {
             "endlinecolor": "#2a3f5f",
             "gridcolor": "white",
             "linecolor": "white",
             "minorgridcolor": "white",
             "startlinecolor": "#2a3f5f"
            },
            "baxis": {
             "endlinecolor": "#2a3f5f",
             "gridcolor": "white",
             "linecolor": "white",
             "minorgridcolor": "white",
             "startlinecolor": "#2a3f5f"
            },
            "type": "carpet"
           }
          ],
          "choropleth": [
           {
            "colorbar": {
             "outlinewidth": 0,
             "ticks": ""
            },
            "type": "choropleth"
           }
          ],
          "contour": [
           {
            "colorbar": {
             "outlinewidth": 0,
             "ticks": ""
            },
            "colorscale": [
             [
              0,
              "#0d0887"
             ],
             [
              0.1111111111111111,
              "#46039f"
             ],
             [
              0.2222222222222222,
              "#7201a8"
             ],
             [
              0.3333333333333333,
              "#9c179e"
             ],
             [
              0.4444444444444444,
              "#bd3786"
             ],
             [
              0.5555555555555556,
              "#d8576b"
             ],
             [
              0.6666666666666666,
              "#ed7953"
             ],
             [
              0.7777777777777778,
              "#fb9f3a"
             ],
             [
              0.8888888888888888,
              "#fdca26"
             ],
             [
              1,
              "#f0f921"
             ]
            ],
            "type": "contour"
           }
          ],
          "contourcarpet": [
           {
            "colorbar": {
             "outlinewidth": 0,
             "ticks": ""
            },
            "type": "contourcarpet"
           }
          ],
          "heatmap": [
           {
            "colorbar": {
             "outlinewidth": 0,
             "ticks": ""
            },
            "colorscale": [
             [
              0,
              "#0d0887"
             ],
             [
              0.1111111111111111,
              "#46039f"
             ],
             [
              0.2222222222222222,
              "#7201a8"
             ],
             [
              0.3333333333333333,
              "#9c179e"
             ],
             [
              0.4444444444444444,
              "#bd3786"
             ],
             [
              0.5555555555555556,
              "#d8576b"
             ],
             [
              0.6666666666666666,
              "#ed7953"
             ],
             [
              0.7777777777777778,
              "#fb9f3a"
             ],
             [
              0.8888888888888888,
              "#fdca26"
             ],
             [
              1,
              "#f0f921"
             ]
            ],
            "type": "heatmap"
           }
          ],
          "heatmapgl": [
           {
            "colorbar": {
             "outlinewidth": 0,
             "ticks": ""
            },
            "colorscale": [
             [
              0,
              "#0d0887"
             ],
             [
              0.1111111111111111,
              "#46039f"
             ],
             [
              0.2222222222222222,
              "#7201a8"
             ],
             [
              0.3333333333333333,
              "#9c179e"
             ],
             [
              0.4444444444444444,
              "#bd3786"
             ],
             [
              0.5555555555555556,
              "#d8576b"
             ],
             [
              0.6666666666666666,
              "#ed7953"
             ],
             [
              0.7777777777777778,
              "#fb9f3a"
             ],
             [
              0.8888888888888888,
              "#fdca26"
             ],
             [
              1,
              "#f0f921"
             ]
            ],
            "type": "heatmapgl"
           }
          ],
          "histogram": [
           {
            "marker": {
             "pattern": {
              "fillmode": "overlay",
              "size": 10,
              "solidity": 0.2
             }
            },
            "type": "histogram"
           }
          ],
          "histogram2d": [
           {
            "colorbar": {
             "outlinewidth": 0,
             "ticks": ""
            },
            "colorscale": [
             [
              0,
              "#0d0887"
             ],
             [
              0.1111111111111111,
              "#46039f"
             ],
             [
              0.2222222222222222,
              "#7201a8"
             ],
             [
              0.3333333333333333,
              "#9c179e"
             ],
             [
              0.4444444444444444,
              "#bd3786"
             ],
             [
              0.5555555555555556,
              "#d8576b"
             ],
             [
              0.6666666666666666,
              "#ed7953"
             ],
             [
              0.7777777777777778,
              "#fb9f3a"
             ],
             [
              0.8888888888888888,
              "#fdca26"
             ],
             [
              1,
              "#f0f921"
             ]
            ],
            "type": "histogram2d"
           }
          ],
          "histogram2dcontour": [
           {
            "colorbar": {
             "outlinewidth": 0,
             "ticks": ""
            },
            "colorscale": [
             [
              0,
              "#0d0887"
             ],
             [
              0.1111111111111111,
              "#46039f"
             ],
             [
              0.2222222222222222,
              "#7201a8"
             ],
             [
              0.3333333333333333,
              "#9c179e"
             ],
             [
              0.4444444444444444,
              "#bd3786"
             ],
             [
              0.5555555555555556,
              "#d8576b"
             ],
             [
              0.6666666666666666,
              "#ed7953"
             ],
             [
              0.7777777777777778,
              "#fb9f3a"
             ],
             [
              0.8888888888888888,
              "#fdca26"
             ],
             [
              1,
              "#f0f921"
             ]
            ],
            "type": "histogram2dcontour"
           }
          ],
          "mesh3d": [
           {
            "colorbar": {
             "outlinewidth": 0,
             "ticks": ""
            },
            "type": "mesh3d"
           }
          ],
          "parcoords": [
           {
            "line": {
             "colorbar": {
              "outlinewidth": 0,
              "ticks": ""
             }
            },
            "type": "parcoords"
           }
          ],
          "pie": [
           {
            "automargin": true,
            "type": "pie"
           }
          ],
          "scatter": [
           {
            "marker": {
             "colorbar": {
              "outlinewidth": 0,
              "ticks": ""
             }
            },
            "type": "scatter"
           }
          ],
          "scatter3d": [
           {
            "line": {
             "colorbar": {
              "outlinewidth": 0,
              "ticks": ""
             }
            },
            "marker": {
             "colorbar": {
              "outlinewidth": 0,
              "ticks": ""
             }
            },
            "type": "scatter3d"
           }
          ],
          "scattercarpet": [
           {
            "marker": {
             "colorbar": {
              "outlinewidth": 0,
              "ticks": ""
             }
            },
            "type": "scattercarpet"
           }
          ],
          "scattergeo": [
           {
            "marker": {
             "colorbar": {
              "outlinewidth": 0,
              "ticks": ""
             }
            },
            "type": "scattergeo"
           }
          ],
          "scattergl": [
           {
            "marker": {
             "colorbar": {
              "outlinewidth": 0,
              "ticks": ""
             }
            },
            "type": "scattergl"
           }
          ],
          "scattermapbox": [
           {
            "marker": {
             "colorbar": {
              "outlinewidth": 0,
              "ticks": ""
             }
            },
            "type": "scattermapbox"
           }
          ],
          "scatterpolar": [
           {
            "marker": {
             "colorbar": {
              "outlinewidth": 0,
              "ticks": ""
             }
            },
            "type": "scatterpolar"
           }
          ],
          "scatterpolargl": [
           {
            "marker": {
             "colorbar": {
              "outlinewidth": 0,
              "ticks": ""
             }
            },
            "type": "scatterpolargl"
           }
          ],
          "scatterternary": [
           {
            "marker": {
             "colorbar": {
              "outlinewidth": 0,
              "ticks": ""
             }
            },
            "type": "scatterternary"
           }
          ],
          "surface": [
           {
            "colorbar": {
             "outlinewidth": 0,
             "ticks": ""
            },
            "colorscale": [
             [
              0,
              "#0d0887"
             ],
             [
              0.1111111111111111,
              "#46039f"
             ],
             [
              0.2222222222222222,
              "#7201a8"
             ],
             [
              0.3333333333333333,
              "#9c179e"
             ],
             [
              0.4444444444444444,
              "#bd3786"
             ],
             [
              0.5555555555555556,
              "#d8576b"
             ],
             [
              0.6666666666666666,
              "#ed7953"
             ],
             [
              0.7777777777777778,
              "#fb9f3a"
             ],
             [
              0.8888888888888888,
              "#fdca26"
             ],
             [
              1,
              "#f0f921"
             ]
            ],
            "type": "surface"
           }
          ],
          "table": [
           {
            "cells": {
             "fill": {
              "color": "#EBF0F8"
             },
             "line": {
              "color": "white"
             }
            },
            "header": {
             "fill": {
              "color": "#C8D4E3"
             },
             "line": {
              "color": "white"
             }
            },
            "type": "table"
           }
          ]
         },
         "layout": {
          "annotationdefaults": {
           "arrowcolor": "#2a3f5f",
           "arrowhead": 0,
           "arrowwidth": 1
          },
          "autotypenumbers": "strict",
          "coloraxis": {
           "colorbar": {
            "outlinewidth": 0,
            "ticks": ""
           }
          },
          "colorscale": {
           "diverging": [
            [
             0,
             "#8e0152"
            ],
            [
             0.1,
             "#c51b7d"
            ],
            [
             0.2,
             "#de77ae"
            ],
            [
             0.3,
             "#f1b6da"
            ],
            [
             0.4,
             "#fde0ef"
            ],
            [
             0.5,
             "#f7f7f7"
            ],
            [
             0.6,
             "#e6f5d0"
            ],
            [
             0.7,
             "#b8e186"
            ],
            [
             0.8,
             "#7fbc41"
            ],
            [
             0.9,
             "#4d9221"
            ],
            [
             1,
             "#276419"
            ]
           ],
           "sequential": [
            [
             0,
             "#0d0887"
            ],
            [
             0.1111111111111111,
             "#46039f"
            ],
            [
             0.2222222222222222,
             "#7201a8"
            ],
            [
             0.3333333333333333,
             "#9c179e"
            ],
            [
             0.4444444444444444,
             "#bd3786"
            ],
            [
             0.5555555555555556,
             "#d8576b"
            ],
            [
             0.6666666666666666,
             "#ed7953"
            ],
            [
             0.7777777777777778,
             "#fb9f3a"
            ],
            [
             0.8888888888888888,
             "#fdca26"
            ],
            [
             1,
             "#f0f921"
            ]
           ],
           "sequentialminus": [
            [
             0,
             "#0d0887"
            ],
            [
             0.1111111111111111,
             "#46039f"
            ],
            [
             0.2222222222222222,
             "#7201a8"
            ],
            [
             0.3333333333333333,
             "#9c179e"
            ],
            [
             0.4444444444444444,
             "#bd3786"
            ],
            [
             0.5555555555555556,
             "#d8576b"
            ],
            [
             0.6666666666666666,
             "#ed7953"
            ],
            [
             0.7777777777777778,
             "#fb9f3a"
            ],
            [
             0.8888888888888888,
             "#fdca26"
            ],
            [
             1,
             "#f0f921"
            ]
           ]
          },
          "colorway": [
           "#636efa",
           "#EF553B",
           "#00cc96",
           "#ab63fa",
           "#FFA15A",
           "#19d3f3",
           "#FF6692",
           "#B6E880",
           "#FF97FF",
           "#FECB52"
          ],
          "font": {
           "color": "#2a3f5f"
          },
          "geo": {
           "bgcolor": "white",
           "lakecolor": "white",
           "landcolor": "#E5ECF6",
           "showlakes": true,
           "showland": true,
           "subunitcolor": "white"
          },
          "hoverlabel": {
           "align": "left"
          },
          "hovermode": "closest",
          "mapbox": {
           "style": "light"
          },
          "paper_bgcolor": "white",
          "plot_bgcolor": "#E5ECF6",
          "polar": {
           "angularaxis": {
            "gridcolor": "white",
            "linecolor": "white",
            "ticks": ""
           },
           "bgcolor": "#E5ECF6",
           "radialaxis": {
            "gridcolor": "white",
            "linecolor": "white",
            "ticks": ""
           }
          },
          "scene": {
           "xaxis": {
            "backgroundcolor": "#E5ECF6",
            "gridcolor": "white",
            "gridwidth": 2,
            "linecolor": "white",
            "showbackground": true,
            "ticks": "",
            "zerolinecolor": "white"
           },
           "yaxis": {
            "backgroundcolor": "#E5ECF6",
            "gridcolor": "white",
            "gridwidth": 2,
            "linecolor": "white",
            "showbackground": true,
            "ticks": "",
            "zerolinecolor": "white"
           },
           "zaxis": {
            "backgroundcolor": "#E5ECF6",
            "gridcolor": "white",
            "gridwidth": 2,
            "linecolor": "white",
            "showbackground": true,
            "ticks": "",
            "zerolinecolor": "white"
           }
          },
          "shapedefaults": {
           "line": {
            "color": "#2a3f5f"
           }
          },
          "ternary": {
           "aaxis": {
            "gridcolor": "white",
            "linecolor": "white",
            "ticks": ""
           },
           "baxis": {
            "gridcolor": "white",
            "linecolor": "white",
            "ticks": ""
           },
           "bgcolor": "#E5ECF6",
           "caxis": {
            "gridcolor": "white",
            "linecolor": "white",
            "ticks": ""
           }
          },
          "title": {
           "x": 0.05
          },
          "xaxis": {
           "automargin": true,
           "gridcolor": "white",
           "linecolor": "white",
           "ticks": "",
           "title": {
            "standoff": 15
           },
           "zerolinecolor": "white",
           "zerolinewidth": 2
          },
          "yaxis": {
           "automargin": true,
           "gridcolor": "white",
           "linecolor": "white",
           "ticks": "",
           "title": {
            "standoff": 15
           },
           "zerolinecolor": "white",
           "zerolinewidth": 2
          }
         }
        },
        "title": {
         "text": "Logistic Regression Probability Threshold Optimization (default = 0.5)"
        },
        "xaxis": {
         "anchor": "y",
         "domain": [
          0,
          1
         ],
         "title": {
          "text": "probability_threshold"
         }
        },
        "yaxis": {
         "anchor": "x",
         "domain": [
          0,
          1
         ],
         "title": {
          "text": "value"
         }
        }
       }
      },
      "text/html": [
       "<div>                            <div id=\"60bfef18-f9d8-479f-a698-332b25cb70e5\" class=\"plotly-graph-div\" style=\"height:525px; width:100%;\"></div>            <script type=\"text/javascript\">                require([\"plotly\"], function(Plotly) {                    window.PLOTLYENV=window.PLOTLYENV || {};                                    if (document.getElementById(\"60bfef18-f9d8-479f-a698-332b25cb70e5\")) {                    Plotly.newPlot(                        \"60bfef18-f9d8-479f-a698-332b25cb70e5\",                        [{\"hovertemplate\":\"variable=Accuracy<br>probability_threshold=%{x}<br>value=%{y}<extra></extra>\",\"legendgroup\":\"Accuracy\",\"line\":{\"color\":\"#636efa\",\"dash\":\"solid\"},\"marker\":{\"symbol\":\"circle\"},\"mode\":\"lines\",\"name\":\"Accuracy\",\"orientation\":\"v\",\"showlegend\":true,\"type\":\"scatter\",\"x\":[0.0,0.05,0.1,0.15000000000000002,0.2,0.25,0.30000000000000004,0.35000000000000003,0.4,0.45,0.5,0.55,0.6000000000000001,0.65,0.7000000000000001,0.75,0.8,0.8500000000000001,0.9,0.9500000000000001,1.0],\"xaxis\":\"x\",\"y\":[0.6843,0.7675,0.77,0.7719,0.7643,0.7561,0.7517,0.7417,0.7278,0.7152,0.6843,0.6641,0.6301,0.6043,0.5747,0.5268,0.4764,0.4121,0.3529,0.2804,0.2325],\"yaxis\":\"y\"},{\"hovertemplate\":\"variable=AUC<br>probability_threshold=%{x}<br>value=%{y}<extra></extra>\",\"legendgroup\":\"AUC\",\"line\":{\"color\":\"#EF553B\",\"dash\":\"solid\"},\"marker\":{\"symbol\":\"circle\"},\"mode\":\"lines\",\"name\":\"AUC\",\"orientation\":\"v\",\"showlegend\":true,\"type\":\"scatter\",\"x\":[0.0,0.05,0.1,0.15000000000000002,0.2,0.25,0.30000000000000004,0.35000000000000003,0.4,0.45,0.5,0.55,0.6000000000000001,0.65,0.7000000000000001,0.75,0.8,0.8500000000000001,0.9,0.9500000000000001,1.0],\"xaxis\":\"x\",\"y\":[0.6905,0.6905,0.6905,0.6905,0.6905,0.6905,0.6905,0.6905,0.6905,0.6905,0.6905,0.6905,0.6905,0.6905,0.6905,0.6905,0.6905,0.6905,0.6905,0.6905,0.6905],\"yaxis\":\"y\"},{\"hovertemplate\":\"variable=Recall<br>probability_threshold=%{x}<br>value=%{y}<extra></extra>\",\"legendgroup\":\"Recall\",\"line\":{\"color\":\"#00cc96\",\"dash\":\"solid\"},\"marker\":{\"symbol\":\"circle\"},\"mode\":\"lines\",\"name\":\"Recall\",\"orientation\":\"v\",\"showlegend\":true,\"type\":\"scatter\",\"x\":[0.0,0.05,0.1,0.15000000000000002,0.2,0.25,0.30000000000000004,0.35000000000000003,0.4,0.45,0.5,0.55,0.6000000000000001,0.65,0.7000000000000001,0.75,0.8,0.8500000000000001,0.9,0.9500000000000001,1.0],\"xaxis\":\"x\",\"y\":[0.7332,0.9984,0.9836,0.9688,0.9434,0.9163,0.8908,0.8629,0.8251,0.7865,0.7332,0.6856,0.6215,0.5731,0.518,0.4433,0.3661,0.2617,0.1731,0.064,0.0],\"yaxis\":\"y\"},{\"hovertemplate\":\"variable=Prec.<br>probability_threshold=%{x}<br>value=%{y}<extra></extra>\",\"legendgroup\":\"Prec.\",\"line\":{\"color\":\"#ab63fa\",\"dash\":\"solid\"},\"marker\":{\"symbol\":\"circle\"},\"mode\":\"lines\",\"name\":\"Prec.\",\"orientation\":\"v\",\"showlegend\":true,\"type\":\"scatter\",\"x\":[0.0,0.05,0.1,0.15000000000000002,0.2,0.25,0.30000000000000004,0.35000000000000003,0.4,0.45,0.5,0.55,0.6000000000000001,0.65,0.7000000000000001,0.75,0.8,0.8500000000000001,0.9,0.9500000000000001,1.0],\"xaxis\":\"x\",\"y\":[0.8352,0.7682,0.7764,0.7846,0.7902,0.7966,0.8062,0.8123,0.8212,0.833,0.8352,0.8477,0.8572,0.866,0.8779,0.8813,0.8836,0.9051,0.9191,0.9833,0.0],\"yaxis\":\"y\"},{\"hovertemplate\":\"variable=F1<br>probability_threshold=%{x}<br>value=%{y}<extra></extra>\",\"legendgroup\":\"F1\",\"line\":{\"color\":\"#FFA15A\",\"dash\":\"solid\"},\"marker\":{\"symbol\":\"circle\"},\"mode\":\"lines\",\"name\":\"F1\",\"orientation\":\"v\",\"showlegend\":true,\"type\":\"scatter\",\"x\":[0.0,0.05,0.1,0.15000000000000002,0.2,0.25,0.30000000000000004,0.35000000000000003,0.4,0.45,0.5,0.55,0.6000000000000001,0.65,0.7000000000000001,0.75,0.8,0.8500000000000001,0.9,0.9500000000000001,1.0],\"xaxis\":\"x\",\"y\":[0.7808,0.8683,0.8678,0.867,0.86,0.8523,0.8464,0.8368,0.8231,0.8091,0.7808,0.7579,0.7202,0.6891,0.6506,0.588,0.5141,0.4025,0.288,0.1188,0.0],\"yaxis\":\"y\"},{\"hovertemplate\":\"variable=Kappa<br>probability_threshold=%{x}<br>value=%{y}<extra></extra>\",\"legendgroup\":\"Kappa\",\"line\":{\"color\":\"#19d3f3\",\"dash\":\"solid\"},\"marker\":{\"symbol\":\"circle\"},\"mode\":\"lines\",\"name\":\"Kappa\",\"orientation\":\"v\",\"showlegend\":true,\"type\":\"scatter\",\"x\":[0.0,0.05,0.1,0.15000000000000002,0.2,0.25,0.30000000000000004,0.35000000000000003,0.4,0.45,0.5,0.55,0.6000000000000001,0.65,0.7000000000000001,0.75,0.8,0.8500000000000001,0.9,0.9500000000000001,1.0],\"xaxis\":\"x\",\"y\":[0.2248,0.0058,0.0701,0.1238,0.1496,0.173,0.2072,0.2189,0.2317,0.25,0.2248,0.2292,0.2133,0.2025,0.1905,0.157,0.1245,0.094,0.0617,0.0283,0.0],\"yaxis\":\"y\"},{\"hovertemplate\":\"variable=MCC<br>probability_threshold=%{x}<br>value=%{y}<extra></extra>\",\"legendgroup\":\"MCC\",\"line\":{\"color\":\"#FF6692\",\"dash\":\"solid\"},\"marker\":{\"symbol\":\"circle\"},\"mode\":\"lines\",\"name\":\"MCC\",\"orientation\":\"v\",\"showlegend\":true,\"type\":\"scatter\",\"x\":[0.0,0.05,0.1,0.15000000000000002,0.2,0.25,0.30000000000000004,0.35000000000000003,0.4,0.45,0.5,0.55,0.6000000000000001,0.65,0.7000000000000001,0.75,0.8,0.8500000000000001,0.9,0.9500000000000001,1.0],\"xaxis\":\"x\",\"y\":[0.2309,0.0414,0.1248,0.1712,0.1771,0.1877,0.2142,0.2213,0.2318,0.2516,0.2309,0.2433,0.2386,0.2373,0.2376,0.2136,0.1877,0.1727,0.1435,0.1119,0.0],\"yaxis\":\"y\"}],                        {\"legend\":{\"title\":{\"text\":\"variable\"},\"tracegroupgap\":0},\"template\":{\"data\":{\"bar\":[{\"error_x\":{\"color\":\"#2a3f5f\"},\"error_y\":{\"color\":\"#2a3f5f\"},\"marker\":{\"line\":{\"color\":\"#E5ECF6\",\"width\":0.5},\"pattern\":{\"fillmode\":\"overlay\",\"size\":10,\"solidity\":0.2}},\"type\":\"bar\"}],\"barpolar\":[{\"marker\":{\"line\":{\"color\":\"#E5ECF6\",\"width\":0.5},\"pattern\":{\"fillmode\":\"overlay\",\"size\":10,\"solidity\":0.2}},\"type\":\"barpolar\"}],\"carpet\":[{\"aaxis\":{\"endlinecolor\":\"#2a3f5f\",\"gridcolor\":\"white\",\"linecolor\":\"white\",\"minorgridcolor\":\"white\",\"startlinecolor\":\"#2a3f5f\"},\"baxis\":{\"endlinecolor\":\"#2a3f5f\",\"gridcolor\":\"white\",\"linecolor\":\"white\",\"minorgridcolor\":\"white\",\"startlinecolor\":\"#2a3f5f\"},\"type\":\"carpet\"}],\"choropleth\":[{\"colorbar\":{\"outlinewidth\":0,\"ticks\":\"\"},\"type\":\"choropleth\"}],\"contour\":[{\"colorbar\":{\"outlinewidth\":0,\"ticks\":\"\"},\"colorscale\":[[0.0,\"#0d0887\"],[0.1111111111111111,\"#46039f\"],[0.2222222222222222,\"#7201a8\"],[0.3333333333333333,\"#9c179e\"],[0.4444444444444444,\"#bd3786\"],[0.5555555555555556,\"#d8576b\"],[0.6666666666666666,\"#ed7953\"],[0.7777777777777778,\"#fb9f3a\"],[0.8888888888888888,\"#fdca26\"],[1.0,\"#f0f921\"]],\"type\":\"contour\"}],\"contourcarpet\":[{\"colorbar\":{\"outlinewidth\":0,\"ticks\":\"\"},\"type\":\"contourcarpet\"}],\"heatmap\":[{\"colorbar\":{\"outlinewidth\":0,\"ticks\":\"\"},\"colorscale\":[[0.0,\"#0d0887\"],[0.1111111111111111,\"#46039f\"],[0.2222222222222222,\"#7201a8\"],[0.3333333333333333,\"#9c179e\"],[0.4444444444444444,\"#bd3786\"],[0.5555555555555556,\"#d8576b\"],[0.6666666666666666,\"#ed7953\"],[0.7777777777777778,\"#fb9f3a\"],[0.8888888888888888,\"#fdca26\"],[1.0,\"#f0f921\"]],\"type\":\"heatmap\"}],\"heatmapgl\":[{\"colorbar\":{\"outlinewidth\":0,\"ticks\":\"\"},\"colorscale\":[[0.0,\"#0d0887\"],[0.1111111111111111,\"#46039f\"],[0.2222222222222222,\"#7201a8\"],[0.3333333333333333,\"#9c179e\"],[0.4444444444444444,\"#bd3786\"],[0.5555555555555556,\"#d8576b\"],[0.6666666666666666,\"#ed7953\"],[0.7777777777777778,\"#fb9f3a\"],[0.8888888888888888,\"#fdca26\"],[1.0,\"#f0f921\"]],\"type\":\"heatmapgl\"}],\"histogram\":[{\"marker\":{\"pattern\":{\"fillmode\":\"overlay\",\"size\":10,\"solidity\":0.2}},\"type\":\"histogram\"}],\"histogram2d\":[{\"colorbar\":{\"outlinewidth\":0,\"ticks\":\"\"},\"colorscale\":[[0.0,\"#0d0887\"],[0.1111111111111111,\"#46039f\"],[0.2222222222222222,\"#7201a8\"],[0.3333333333333333,\"#9c179e\"],[0.4444444444444444,\"#bd3786\"],[0.5555555555555556,\"#d8576b\"],[0.6666666666666666,\"#ed7953\"],[0.7777777777777778,\"#fb9f3a\"],[0.8888888888888888,\"#fdca26\"],[1.0,\"#f0f921\"]],\"type\":\"histogram2d\"}],\"histogram2dcontour\":[{\"colorbar\":{\"outlinewidth\":0,\"ticks\":\"\"},\"colorscale\":[[0.0,\"#0d0887\"],[0.1111111111111111,\"#46039f\"],[0.2222222222222222,\"#7201a8\"],[0.3333333333333333,\"#9c179e\"],[0.4444444444444444,\"#bd3786\"],[0.5555555555555556,\"#d8576b\"],[0.6666666666666666,\"#ed7953\"],[0.7777777777777778,\"#fb9f3a\"],[0.8888888888888888,\"#fdca26\"],[1.0,\"#f0f921\"]],\"type\":\"histogram2dcontour\"}],\"mesh3d\":[{\"colorbar\":{\"outlinewidth\":0,\"ticks\":\"\"},\"type\":\"mesh3d\"}],\"parcoords\":[{\"line\":{\"colorbar\":{\"outlinewidth\":0,\"ticks\":\"\"}},\"type\":\"parcoords\"}],\"pie\":[{\"automargin\":true,\"type\":\"pie\"}],\"scatter\":[{\"marker\":{\"colorbar\":{\"outlinewidth\":0,\"ticks\":\"\"}},\"type\":\"scatter\"}],\"scatter3d\":[{\"line\":{\"colorbar\":{\"outlinewidth\":0,\"ticks\":\"\"}},\"marker\":{\"colorbar\":{\"outlinewidth\":0,\"ticks\":\"\"}},\"type\":\"scatter3d\"}],\"scattercarpet\":[{\"marker\":{\"colorbar\":{\"outlinewidth\":0,\"ticks\":\"\"}},\"type\":\"scattercarpet\"}],\"scattergeo\":[{\"marker\":{\"colorbar\":{\"outlinewidth\":0,\"ticks\":\"\"}},\"type\":\"scattergeo\"}],\"scattergl\":[{\"marker\":{\"colorbar\":{\"outlinewidth\":0,\"ticks\":\"\"}},\"type\":\"scattergl\"}],\"scattermapbox\":[{\"marker\":{\"colorbar\":{\"outlinewidth\":0,\"ticks\":\"\"}},\"type\":\"scattermapbox\"}],\"scatterpolar\":[{\"marker\":{\"colorbar\":{\"outlinewidth\":0,\"ticks\":\"\"}},\"type\":\"scatterpolar\"}],\"scatterpolargl\":[{\"marker\":{\"colorbar\":{\"outlinewidth\":0,\"ticks\":\"\"}},\"type\":\"scatterpolargl\"}],\"scatterternary\":[{\"marker\":{\"colorbar\":{\"outlinewidth\":0,\"ticks\":\"\"}},\"type\":\"scatterternary\"}],\"surface\":[{\"colorbar\":{\"outlinewidth\":0,\"ticks\":\"\"},\"colorscale\":[[0.0,\"#0d0887\"],[0.1111111111111111,\"#46039f\"],[0.2222222222222222,\"#7201a8\"],[0.3333333333333333,\"#9c179e\"],[0.4444444444444444,\"#bd3786\"],[0.5555555555555556,\"#d8576b\"],[0.6666666666666666,\"#ed7953\"],[0.7777777777777778,\"#fb9f3a\"],[0.8888888888888888,\"#fdca26\"],[1.0,\"#f0f921\"]],\"type\":\"surface\"}],\"table\":[{\"cells\":{\"fill\":{\"color\":\"#EBF0F8\"},\"line\":{\"color\":\"white\"}},\"header\":{\"fill\":{\"color\":\"#C8D4E3\"},\"line\":{\"color\":\"white\"}},\"type\":\"table\"}]},\"layout\":{\"annotationdefaults\":{\"arrowcolor\":\"#2a3f5f\",\"arrowhead\":0,\"arrowwidth\":1},\"autotypenumbers\":\"strict\",\"coloraxis\":{\"colorbar\":{\"outlinewidth\":0,\"ticks\":\"\"}},\"colorscale\":{\"diverging\":[[0,\"#8e0152\"],[0.1,\"#c51b7d\"],[0.2,\"#de77ae\"],[0.3,\"#f1b6da\"],[0.4,\"#fde0ef\"],[0.5,\"#f7f7f7\"],[0.6,\"#e6f5d0\"],[0.7,\"#b8e186\"],[0.8,\"#7fbc41\"],[0.9,\"#4d9221\"],[1,\"#276419\"]],\"sequential\":[[0.0,\"#0d0887\"],[0.1111111111111111,\"#46039f\"],[0.2222222222222222,\"#7201a8\"],[0.3333333333333333,\"#9c179e\"],[0.4444444444444444,\"#bd3786\"],[0.5555555555555556,\"#d8576b\"],[0.6666666666666666,\"#ed7953\"],[0.7777777777777778,\"#fb9f3a\"],[0.8888888888888888,\"#fdca26\"],[1.0,\"#f0f921\"]],\"sequentialminus\":[[0.0,\"#0d0887\"],[0.1111111111111111,\"#46039f\"],[0.2222222222222222,\"#7201a8\"],[0.3333333333333333,\"#9c179e\"],[0.4444444444444444,\"#bd3786\"],[0.5555555555555556,\"#d8576b\"],[0.6666666666666666,\"#ed7953\"],[0.7777777777777778,\"#fb9f3a\"],[0.8888888888888888,\"#fdca26\"],[1.0,\"#f0f921\"]]},\"colorway\":[\"#636efa\",\"#EF553B\",\"#00cc96\",\"#ab63fa\",\"#FFA15A\",\"#19d3f3\",\"#FF6692\",\"#B6E880\",\"#FF97FF\",\"#FECB52\"],\"font\":{\"color\":\"#2a3f5f\"},\"geo\":{\"bgcolor\":\"white\",\"lakecolor\":\"white\",\"landcolor\":\"#E5ECF6\",\"showlakes\":true,\"showland\":true,\"subunitcolor\":\"white\"},\"hoverlabel\":{\"align\":\"left\"},\"hovermode\":\"closest\",\"mapbox\":{\"style\":\"light\"},\"paper_bgcolor\":\"white\",\"plot_bgcolor\":\"#E5ECF6\",\"polar\":{\"angularaxis\":{\"gridcolor\":\"white\",\"linecolor\":\"white\",\"ticks\":\"\"},\"bgcolor\":\"#E5ECF6\",\"radialaxis\":{\"gridcolor\":\"white\",\"linecolor\":\"white\",\"ticks\":\"\"}},\"scene\":{\"xaxis\":{\"backgroundcolor\":\"#E5ECF6\",\"gridcolor\":\"white\",\"gridwidth\":2,\"linecolor\":\"white\",\"showbackground\":true,\"ticks\":\"\",\"zerolinecolor\":\"white\"},\"yaxis\":{\"backgroundcolor\":\"#E5ECF6\",\"gridcolor\":\"white\",\"gridwidth\":2,\"linecolor\":\"white\",\"showbackground\":true,\"ticks\":\"\",\"zerolinecolor\":\"white\"},\"zaxis\":{\"backgroundcolor\":\"#E5ECF6\",\"gridcolor\":\"white\",\"gridwidth\":2,\"linecolor\":\"white\",\"showbackground\":true,\"ticks\":\"\",\"zerolinecolor\":\"white\"}},\"shapedefaults\":{\"line\":{\"color\":\"#2a3f5f\"}},\"ternary\":{\"aaxis\":{\"gridcolor\":\"white\",\"linecolor\":\"white\",\"ticks\":\"\"},\"baxis\":{\"gridcolor\":\"white\",\"linecolor\":\"white\",\"ticks\":\"\"},\"bgcolor\":\"#E5ECF6\",\"caxis\":{\"gridcolor\":\"white\",\"linecolor\":\"white\",\"ticks\":\"\"}},\"title\":{\"x\":0.05},\"xaxis\":{\"automargin\":true,\"gridcolor\":\"white\",\"linecolor\":\"white\",\"ticks\":\"\",\"title\":{\"standoff\":15},\"zerolinecolor\":\"white\",\"zerolinewidth\":2},\"yaxis\":{\"automargin\":true,\"gridcolor\":\"white\",\"linecolor\":\"white\",\"ticks\":\"\",\"title\":{\"standoff\":15},\"zerolinecolor\":\"white\",\"zerolinewidth\":2}}},\"title\":{\"text\":\"Logistic Regression Probability Threshold Optimization (default = 0.5)\"},\"xaxis\":{\"anchor\":\"y\",\"domain\":[0.0,1.0],\"title\":{\"text\":\"probability_threshold\"}},\"yaxis\":{\"anchor\":\"x\",\"domain\":[0.0,1.0],\"title\":{\"text\":\"value\"}}},                        {\"responsive\": true}                    ).then(function(){\n",
       "                            \n",
       "var gd = document.getElementById('60bfef18-f9d8-479f-a698-332b25cb70e5');\n",
       "var x = new MutationObserver(function (mutations, observer) {{\n",
       "        var display = window.getComputedStyle(gd).display;\n",
       "        if (!display || display === 'none') {{\n",
       "            console.log([gd, 'removed!']);\n",
       "            Plotly.purge(gd);\n",
       "            observer.disconnect();\n",
       "        }}\n",
       "}});\n",
       "\n",
       "// Listen for the removal of the full notebook cells\n",
       "var notebookContainer = gd.closest('#notebook-container');\n",
       "if (notebookContainer) {{\n",
       "    x.observe(notebookContainer, {childList: true});\n",
       "}}\n",
       "\n",
       "// Listen for the clearing of the current output cell\n",
       "var outputEl = gd.closest('.output');\n",
       "if (outputEl) {{\n",
       "    x.observe(outputEl, {childList: true});\n",
       "}}\n",
       "\n",
       "                        })                };                });            </script>        </div>"
      ]
     },
     "metadata": {},
     "output_type": "display_data"
    }
   ],
   "source": [
    "thresholded = optimize_threshold(final, optimize=\"precision\", grid_interval=0.05)"
   ]
  },
  {
   "cell_type": "code",
   "execution_count": 151,
   "metadata": {},
   "outputs": [
    {
     "data": {
      "text/plain": [
       "(33, 684)"
      ]
     },
     "execution_count": 151,
     "metadata": {},
     "output_type": "execute_result"
    }
   ],
   "source": [
    "predictions = predict_model(final, data=referee_test, probability_threshold=0.8)\n",
    "predictions[predictions['Label'] == 1].shape[0], predictions.shape[0]"
   ]
  },
  {
   "cell_type": "code",
   "execution_count": null,
   "metadata": {},
   "outputs": [],
   "source": [
    "# Desglose por ligas y semanas\n",
    "# anyadir numero de apuestas\n",
    "# Siempre la columna total al principio seguida de las metricas desglosadas"
   ]
  },
  {
   "cell_type": "code",
   "execution_count": 152,
   "metadata": {},
   "outputs": [],
   "source": [
    "metrics_list = [\"Accuracy\", \"AUC\", \"Recall\", \"Precision\", \"F1\", \"Kappa\", \"MCC\"]\n",
    "metrics_dict = {\n",
    "    metric: check_metric(\n",
    "        actual=predictions[target], \n",
    "        prediction=predictions['Label'], \n",
    "        metric=metric\n",
    "    ) for metric in metrics_list\n",
    "}"
   ]
  },
  {
   "cell_type": "code",
   "execution_count": 153,
   "metadata": {},
   "outputs": [
    {
     "data": {
      "text/html": [
       "<div>\n",
       "<style scoped>\n",
       "    .dataframe tbody tr th:only-of-type {\n",
       "        vertical-align: middle;\n",
       "    }\n",
       "\n",
       "    .dataframe tbody tr th {\n",
       "        vertical-align: top;\n",
       "    }\n",
       "\n",
       "    .dataframe thead th {\n",
       "        text-align: right;\n",
       "    }\n",
       "</style>\n",
       "<table border=\"1\" class=\"dataframe\">\n",
       "  <thead>\n",
       "    <tr style=\"text-align: right;\">\n",
       "      <th></th>\n",
       "      <th>Accuracy</th>\n",
       "      <th>AUC</th>\n",
       "      <th>Recall</th>\n",
       "      <th>Precision</th>\n",
       "      <th>F1</th>\n",
       "      <th>Kappa</th>\n",
       "      <th>MCC</th>\n",
       "    </tr>\n",
       "  </thead>\n",
       "  <tbody>\n",
       "    <tr>\n",
       "      <th>new_feat_model</th>\n",
       "      <td>0.2544</td>\n",
       "      <td>0.5219</td>\n",
       "      <td>0.0575</td>\n",
       "      <td>0.9394</td>\n",
       "      <td>0.1084</td>\n",
       "      <td>0.0192</td>\n",
       "      <td>0.0834</td>\n",
       "    </tr>\n",
       "  </tbody>\n",
       "</table>\n",
       "</div>"
      ],
      "text/plain": [
       "               Accuracy     AUC  Recall Precision      F1   Kappa     MCC\n",
       "new_feat_model   0.2544  0.5219  0.0575    0.9394  0.1084  0.0192  0.0834"
      ]
     },
     "execution_count": 153,
     "metadata": {},
     "output_type": "execute_result"
    }
   ],
   "source": [
    "new_model_metrics_df = pd.DataFrame(columns=metrics_dict.keys(), index=pd.Index(range(1)))\n",
    "new_model_metrics_df.index = ['new_feat_model']\n",
    "for col, val in metrics_dict.items():\n",
    "    new_model_metrics_df.loc['new_feat_model', col] = val \n",
    "new_model_metrics_df"
   ]
  },
  {
   "cell_type": "code",
   "execution_count": 144,
   "metadata": {},
   "outputs": [
    {
     "data": {
      "text/plain": [
       "(0.2631578947368421, 0.09210526315789473)"
      ]
     },
     "execution_count": 144,
     "metadata": {},
     "output_type": "execute_result"
    }
   ],
   "source": [
    "x = (feats.odds[feats.odds[\"match_id\"].isin(predictions[predictions['Label'] == 1].index)])\n",
    "\n",
    "ix = np.logical_and(x[\"type\"]==\"over\", x[\"market\"]==\"goals\")\n",
    "ix = np.logical_and(ix, x[\"cutoff\"]==2.5)\n",
    "\n",
    "\n",
    "(x[ix][\"outcome\"] <= 2).mean(), (x[ix][\"outcome\"] < 2).mean()"
   ]
  },
  {
   "cell_type": "code",
   "execution_count": null,
   "metadata": {},
   "outputs": [],
   "source": []
  }
 ],
 "metadata": {
  "kernelspec": {
   "display_name": "Python 3 (ipykernel)",
   "language": "python",
   "name": "python3"
  },
  "language_info": {
   "codemirror_mode": {
    "name": "ipython",
    "version": 3
   },
   "file_extension": ".py",
   "mimetype": "text/x-python",
   "name": "python",
   "nbconvert_exporter": "python",
   "pygments_lexer": "ipython3",
   "version": "3.8.9"
  }
 },
 "nbformat": 4,
 "nbformat_minor": 4
}
