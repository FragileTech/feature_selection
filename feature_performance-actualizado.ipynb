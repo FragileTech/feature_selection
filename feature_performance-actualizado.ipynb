{
 "cells": [
  {
   "cell_type": "markdown",
   "id": "e25fce36-e1f2-444a-87a3-98ce51bbd857",
   "metadata": {},
   "source": [
    "# Imports "
   ]
  },
  {
   "cell_type": "code",
   "execution_count": 1,
   "id": "1a8aff6f",
   "metadata": {},
   "outputs": [],
   "source": [
    "import pandas as pd\n",
    "import numpy as np\n",
    "from pathlib import Path\n",
    "import os\n",
    "\n",
    "from ml_bets.constants import FEATURES_PATH\n",
    "from ml_bets.features.features import Features\n",
    "from ml_bets.modeling.match_model import PipelineDatasets, run_pycaret_setup\n",
    "from ml_bets.supplementary.functions import create_dataset, add_targets, add_columns_table, train_test_split, compute_seasons \n",
    "from feature_selection.feature_selection import FeatureSelection\n",
    "\n",
    "from pycaret.utils import check_metric\n",
    "from pycaret.classification import (add_metric,\n",
    "    create_model,\n",
    "    finalize_model,\n",
    "    optimize_threshold,\n",
    "                                    \n",
    "    save_model,\n",
    "    compare_models, \n",
    "    evaluate_model,\n",
    "    get_config,\n",
    "    setup,\n",
    "    tune_model,\n",
    "    predict_model,\n",
    ")"
   ]
  },
  {
   "cell_type": "markdown",
   "id": "5246bac6-24f5-4778-9ad3-bceb8b867e3d",
   "metadata": {},
   "source": [
    "# Parameters "
   ]
  },
  {
   "cell_type": "code",
   "execution_count": 2,
   "id": "561e4a75-4d6c-45e7-8a92-cf3001b4bbf2",
   "metadata": {},
   "outputs": [],
   "source": [
    "metric_param = {\n",
    "        \"Accuracy\": 0.1,\n",
    "        \"AUC\": 0.1,\n",
    "        \"Recall\": 0.1,\n",
    "        \"Precision\": 0.1,\n",
    "        \"F1\": 0.1,\n",
    "        \"Kappa\": -1.0,\n",
    "        \"MCC\": -1.0,\n",
    "    }  # NEED TO BE FIXED. REWRITE PARAMETERS!!!!! \n",
    "metrics_list = [\"Accuracy\", \"AUC\", \"Recall\", \"Precision\", \"F1\", \"Kappa\", \"MCC\"]\n",
    "user_date = \"20-October-2021\"\n",
    "user_target = 'goals_2.5'\n",
    "cutoff = user_target.split(\"_\")[-1]\n",
    "ignore_features = ['month','date','competition','month_start_or_end', 'season']\n",
    "fold_strategy = \"timeseries\""
   ]
  },
  {
   "cell_type": "markdown",
   "id": "ab772006-78cb-49c9-b6fd-efd1ea09b29b",
   "metadata": {
    "tags": []
   },
   "source": [
    "### Pycaret setup kwargs "
   ]
  },
  {
   "cell_type": "code",
   "execution_count": 87,
   "id": "ba91d82b-8fd3-40ce-a15e-e1491d70dc56",
   "metadata": {},
   "outputs": [],
   "source": [
    "setup_kwargs = dict(\n",
    "        preprocess=True,\n",
    "        train_size=0.75,\n",
    "        session_id=123,\n",
    "        normalize=True,\n",
    "        transformation=True,\n",
    "        ignore_low_variance=True,\n",
    "        remove_multicollinearity=False,\n",
    "        multicollinearity_threshold=0.99,\n",
    "        n_jobs=-1,\n",
    "        use_gpu=False,\n",
    "        profile=False,\n",
    "        #ignore_features=ignore_features,\n",
    "        fold_strategy=fold_strategy,\n",
    "        remove_perfect_collinearity=True,\n",
    "        create_clusters=False,\n",
    "        fold=3,\n",
    "        feature_selection=False,\n",
    "        # you can use this to keep the 95 % most relevant features (fat_sel_threshold)\n",
    "        feature_selection_threshold=0.5,\n",
    "        combine_rare_levels=False,\n",
    "        rare_level_threshold=0.02,\n",
    "        pca=False,\n",
    "        pca_method=\"kernel\",\n",
    "        pca_components=30,\n",
    "        polynomial_features=False,\n",
    "        polynomial_degree=2,\n",
    "        polynomial_threshold=0.01,\n",
    "        trigonometry_features=False,\n",
    "        remove_outliers=True,\n",
    "        outliers_threshold=0.01,\n",
    "        feature_ratio=False,\n",
    "        feature_interaction=False,\n",
    "        # Makes everything slow AF. use to find out possibly interesting features\n",
    "        interaction_threshold=0.01,\n",
    "        fix_imbalance=True,\n",
    "        log_experiment=False,\n",
    "        verbose=False,\n",
    "        silent=True,\n",
    "        experiment_name=\"lagstest\",\n",
    "    )"
   ]
  },
  {
   "cell_type": "markdown",
   "id": "783f0048-5499-453d-8210-89e227d25b85",
   "metadata": {
    "tags": []
   },
   "source": [
    "# Creation dataset (standard)"
   ]
  },
  {
   "cell_type": "code",
   "execution_count": 83,
   "id": "5d79ebba-4ac2-4b91-b1f4-d1e496187d05",
   "metadata": {},
   "outputs": [
    {
     "name": "stdout",
     "output_type": "stream",
     "text": [
      "/home/guillem/ml_bets/data/future_matches/ESP1C.xls\n",
      "/home/guillem/ml_bets/data/future_matches/ING1C.xls\n",
      "/home/guillem/ml_bets/data/future_matches/ITA1C.xls\n",
      "Excel file /home/guillem/ml_bets/data/future_matches/MEX1C.xls is empty. Skipping\n",
      "/home/guillem/ml_bets/data/future_matches/FRA1C.xls\n",
      "Excel file /home/guillem/ml_bets/data/future_matches/MLS1C.xls is empty. Skipping\n",
      "/home/guillem/ml_bets/data/future_matches/ALE1C.xls\n",
      "/home/guillem/ml_bets/data/future_matches/ESP1C.xls\n",
      "/home/guillem/ml_bets/data/future_matches/ING1C.xls\n",
      "/home/guillem/ml_bets/data/future_matches/ITA1C.xls\n",
      "Excel file /home/guillem/ml_bets/data/future_matches/MEX1C.xls is empty. Skipping\n",
      "/home/guillem/ml_bets/data/future_matches/FRA1C.xls\n",
      "Excel file /home/guillem/ml_bets/data/future_matches/MLS1C.xls is empty. Skipping\n",
      "/home/guillem/ml_bets/data/future_matches/ALE1C.xls\n"
     ]
    }
   ],
   "source": [
    "df = create_dataset()\n",
    "df = add_targets(df=df, cutoff=cutoff)\n",
    "# Train-test split\n",
    "train, test = train_test_split(df=df, sep=user_date) # insert table to evaluate and separation date "
   ]
  },
  {
   "cell_type": "markdown",
   "id": "5f1dbecb-84cb-401c-9d15-7ff437b53ee7",
   "metadata": {},
   "source": [
    "## Run this cell if target is boolean"
   ]
  },
  {
   "cell_type": "code",
   "execution_count": 84,
   "id": "00331e8c-fcad-4880-b1d9-1c3b7b757a1d",
   "metadata": {},
   "outputs": [],
   "source": [
    "train = train.astype({user_target: int})\n",
    "test = test.astype({user_target: int})"
   ]
  },
  {
   "cell_type": "markdown",
   "id": "446247eb-6347-4bfc-a1fe-6fd1327dd228",
   "metadata": {
    "tags": []
   },
   "source": [
    "## Pycaret evaluation "
   ]
  },
  {
   "cell_type": "code",
   "execution_count": 85,
   "id": "85f31290-da78-4fda-ba17-cac16cd008c0",
   "metadata": {},
   "outputs": [],
   "source": [
    "numerics = [\"int16\", \"int32\", \"int64\", \"float16\", \"float32\", \"float64\", \"int\", \"float\"]\n",
    "num_cols = train.select_dtypes(include=numerics).columns.tolist()\n",
    "setup_kwargs['numeric_features'] = num_cols "
   ]
  },
  {
   "cell_type": "code",
   "execution_count": 88,
   "id": "fc228fc4-233e-471a-8977-24da60d7bfaa",
   "metadata": {},
   "outputs": [],
   "source": [
    "_ = setup(data=train.drop(columns=['month','date','competition','month_start_or_end', 'season']),\n",
    "          target=user_target, **setup_kwargs)\n",
    "x_train = get_config('X_train')"
   ]
  },
  {
   "cell_type": "code",
   "execution_count": 89,
   "id": "1597070c-847c-4772-83df-16c66fcf144e",
   "metadata": {},
   "outputs": [
    {
     "data": {
      "text/html": [
       "<style  type=\"text/css\" >\n",
       "    #T_d88a0db6_77c3_11ec_a40e_7399565d7a7c th {\n",
       "          text-align: left;\n",
       "    }#T_d88a0db6_77c3_11ec_a40e_7399565d7a7crow0_col0,#T_d88a0db6_77c3_11ec_a40e_7399565d7a7crow0_col3,#T_d88a0db6_77c3_11ec_a40e_7399565d7a7crow0_col5,#T_d88a0db6_77c3_11ec_a40e_7399565d7a7crow1_col0,#T_d88a0db6_77c3_11ec_a40e_7399565d7a7crow1_col1,#T_d88a0db6_77c3_11ec_a40e_7399565d7a7crow1_col2,#T_d88a0db6_77c3_11ec_a40e_7399565d7a7crow1_col3,#T_d88a0db6_77c3_11ec_a40e_7399565d7a7crow1_col4,#T_d88a0db6_77c3_11ec_a40e_7399565d7a7crow1_col5,#T_d88a0db6_77c3_11ec_a40e_7399565d7a7crow1_col6,#T_d88a0db6_77c3_11ec_a40e_7399565d7a7crow1_col7,#T_d88a0db6_77c3_11ec_a40e_7399565d7a7crow2_col0,#T_d88a0db6_77c3_11ec_a40e_7399565d7a7crow2_col1,#T_d88a0db6_77c3_11ec_a40e_7399565d7a7crow2_col2,#T_d88a0db6_77c3_11ec_a40e_7399565d7a7crow2_col4,#T_d88a0db6_77c3_11ec_a40e_7399565d7a7crow2_col5,#T_d88a0db6_77c3_11ec_a40e_7399565d7a7crow2_col6,#T_d88a0db6_77c3_11ec_a40e_7399565d7a7crow2_col7,#T_d88a0db6_77c3_11ec_a40e_7399565d7a7crow3_col0,#T_d88a0db6_77c3_11ec_a40e_7399565d7a7crow3_col1,#T_d88a0db6_77c3_11ec_a40e_7399565d7a7crow3_col2,#T_d88a0db6_77c3_11ec_a40e_7399565d7a7crow3_col3,#T_d88a0db6_77c3_11ec_a40e_7399565d7a7crow3_col4,#T_d88a0db6_77c3_11ec_a40e_7399565d7a7crow3_col5,#T_d88a0db6_77c3_11ec_a40e_7399565d7a7crow3_col6,#T_d88a0db6_77c3_11ec_a40e_7399565d7a7crow3_col7,#T_d88a0db6_77c3_11ec_a40e_7399565d7a7crow4_col0,#T_d88a0db6_77c3_11ec_a40e_7399565d7a7crow4_col1,#T_d88a0db6_77c3_11ec_a40e_7399565d7a7crow4_col2,#T_d88a0db6_77c3_11ec_a40e_7399565d7a7crow4_col3,#T_d88a0db6_77c3_11ec_a40e_7399565d7a7crow4_col4,#T_d88a0db6_77c3_11ec_a40e_7399565d7a7crow4_col5,#T_d88a0db6_77c3_11ec_a40e_7399565d7a7crow4_col6,#T_d88a0db6_77c3_11ec_a40e_7399565d7a7crow4_col7,#T_d88a0db6_77c3_11ec_a40e_7399565d7a7crow5_col0,#T_d88a0db6_77c3_11ec_a40e_7399565d7a7crow5_col1,#T_d88a0db6_77c3_11ec_a40e_7399565d7a7crow5_col2,#T_d88a0db6_77c3_11ec_a40e_7399565d7a7crow5_col3,#T_d88a0db6_77c3_11ec_a40e_7399565d7a7crow5_col4,#T_d88a0db6_77c3_11ec_a40e_7399565d7a7crow5_col5,#T_d88a0db6_77c3_11ec_a40e_7399565d7a7crow5_col6,#T_d88a0db6_77c3_11ec_a40e_7399565d7a7crow5_col7,#T_d88a0db6_77c3_11ec_a40e_7399565d7a7crow6_col0,#T_d88a0db6_77c3_11ec_a40e_7399565d7a7crow6_col1,#T_d88a0db6_77c3_11ec_a40e_7399565d7a7crow6_col2,#T_d88a0db6_77c3_11ec_a40e_7399565d7a7crow6_col3,#T_d88a0db6_77c3_11ec_a40e_7399565d7a7crow6_col4,#T_d88a0db6_77c3_11ec_a40e_7399565d7a7crow6_col5,#T_d88a0db6_77c3_11ec_a40e_7399565d7a7crow6_col6,#T_d88a0db6_77c3_11ec_a40e_7399565d7a7crow6_col7,#T_d88a0db6_77c3_11ec_a40e_7399565d7a7crow7_col0,#T_d88a0db6_77c3_11ec_a40e_7399565d7a7crow7_col1,#T_d88a0db6_77c3_11ec_a40e_7399565d7a7crow7_col2,#T_d88a0db6_77c3_11ec_a40e_7399565d7a7crow7_col3,#T_d88a0db6_77c3_11ec_a40e_7399565d7a7crow7_col4,#T_d88a0db6_77c3_11ec_a40e_7399565d7a7crow7_col5,#T_d88a0db6_77c3_11ec_a40e_7399565d7a7crow7_col6,#T_d88a0db6_77c3_11ec_a40e_7399565d7a7crow7_col7,#T_d88a0db6_77c3_11ec_a40e_7399565d7a7crow8_col0,#T_d88a0db6_77c3_11ec_a40e_7399565d7a7crow8_col1,#T_d88a0db6_77c3_11ec_a40e_7399565d7a7crow8_col2,#T_d88a0db6_77c3_11ec_a40e_7399565d7a7crow8_col3,#T_d88a0db6_77c3_11ec_a40e_7399565d7a7crow8_col4,#T_d88a0db6_77c3_11ec_a40e_7399565d7a7crow8_col5,#T_d88a0db6_77c3_11ec_a40e_7399565d7a7crow8_col6,#T_d88a0db6_77c3_11ec_a40e_7399565d7a7crow8_col7,#T_d88a0db6_77c3_11ec_a40e_7399565d7a7crow9_col0,#T_d88a0db6_77c3_11ec_a40e_7399565d7a7crow9_col1,#T_d88a0db6_77c3_11ec_a40e_7399565d7a7crow9_col2,#T_d88a0db6_77c3_11ec_a40e_7399565d7a7crow9_col3,#T_d88a0db6_77c3_11ec_a40e_7399565d7a7crow9_col4,#T_d88a0db6_77c3_11ec_a40e_7399565d7a7crow9_col5,#T_d88a0db6_77c3_11ec_a40e_7399565d7a7crow9_col6,#T_d88a0db6_77c3_11ec_a40e_7399565d7a7crow9_col7,#T_d88a0db6_77c3_11ec_a40e_7399565d7a7crow10_col0,#T_d88a0db6_77c3_11ec_a40e_7399565d7a7crow10_col1,#T_d88a0db6_77c3_11ec_a40e_7399565d7a7crow10_col2,#T_d88a0db6_77c3_11ec_a40e_7399565d7a7crow10_col3,#T_d88a0db6_77c3_11ec_a40e_7399565d7a7crow10_col4,#T_d88a0db6_77c3_11ec_a40e_7399565d7a7crow10_col5,#T_d88a0db6_77c3_11ec_a40e_7399565d7a7crow10_col6,#T_d88a0db6_77c3_11ec_a40e_7399565d7a7crow10_col7,#T_d88a0db6_77c3_11ec_a40e_7399565d7a7crow11_col0,#T_d88a0db6_77c3_11ec_a40e_7399565d7a7crow11_col1,#T_d88a0db6_77c3_11ec_a40e_7399565d7a7crow11_col2,#T_d88a0db6_77c3_11ec_a40e_7399565d7a7crow11_col3,#T_d88a0db6_77c3_11ec_a40e_7399565d7a7crow11_col4,#T_d88a0db6_77c3_11ec_a40e_7399565d7a7crow11_col6,#T_d88a0db6_77c3_11ec_a40e_7399565d7a7crow11_col7{\n",
       "            text-align:  left;\n",
       "            text-align:  left;\n",
       "        }#T_d88a0db6_77c3_11ec_a40e_7399565d7a7crow0_col1,#T_d88a0db6_77c3_11ec_a40e_7399565d7a7crow0_col2,#T_d88a0db6_77c3_11ec_a40e_7399565d7a7crow0_col4,#T_d88a0db6_77c3_11ec_a40e_7399565d7a7crow0_col6,#T_d88a0db6_77c3_11ec_a40e_7399565d7a7crow0_col7,#T_d88a0db6_77c3_11ec_a40e_7399565d7a7crow2_col3,#T_d88a0db6_77c3_11ec_a40e_7399565d7a7crow11_col5{\n",
       "            text-align:  left;\n",
       "            text-align:  left;\n",
       "            background-color:  yellow;\n",
       "        }#T_d88a0db6_77c3_11ec_a40e_7399565d7a7crow0_col8,#T_d88a0db6_77c3_11ec_a40e_7399565d7a7crow1_col8,#T_d88a0db6_77c3_11ec_a40e_7399565d7a7crow2_col8,#T_d88a0db6_77c3_11ec_a40e_7399565d7a7crow3_col8,#T_d88a0db6_77c3_11ec_a40e_7399565d7a7crow4_col8,#T_d88a0db6_77c3_11ec_a40e_7399565d7a7crow5_col8,#T_d88a0db6_77c3_11ec_a40e_7399565d7a7crow6_col8,#T_d88a0db6_77c3_11ec_a40e_7399565d7a7crow7_col8,#T_d88a0db6_77c3_11ec_a40e_7399565d7a7crow8_col8,#T_d88a0db6_77c3_11ec_a40e_7399565d7a7crow10_col8,#T_d88a0db6_77c3_11ec_a40e_7399565d7a7crow11_col8{\n",
       "            text-align:  left;\n",
       "            text-align:  left;\n",
       "            background-color:  lightgrey;\n",
       "        }#T_d88a0db6_77c3_11ec_a40e_7399565d7a7crow9_col8{\n",
       "            text-align:  left;\n",
       "            text-align:  left;\n",
       "            background-color:  yellow;\n",
       "            background-color:  lightgrey;\n",
       "        }</style><table id=\"T_d88a0db6_77c3_11ec_a40e_7399565d7a7c\" ><thead>    <tr>        <th class=\"blank level0\" ></th>        <th class=\"col_heading level0 col0\" >Model</th>        <th class=\"col_heading level0 col1\" >Accuracy</th>        <th class=\"col_heading level0 col2\" >AUC</th>        <th class=\"col_heading level0 col3\" >Recall</th>        <th class=\"col_heading level0 col4\" >Prec.</th>        <th class=\"col_heading level0 col5\" >F1</th>        <th class=\"col_heading level0 col6\" >Kappa</th>        <th class=\"col_heading level0 col7\" >MCC</th>        <th class=\"col_heading level0 col8\" >TT (Sec)</th>    </tr></thead><tbody>\n",
       "                <tr>\n",
       "                        <th id=\"T_d88a0db6_77c3_11ec_a40e_7399565d7a7clevel0_row0\" class=\"row_heading level0 row0\" >lr</th>\n",
       "                        <td id=\"T_d88a0db6_77c3_11ec_a40e_7399565d7a7crow0_col0\" class=\"data row0 col0\" >Logistic Regression</td>\n",
       "                        <td id=\"T_d88a0db6_77c3_11ec_a40e_7399565d7a7crow0_col1\" class=\"data row0 col1\" >0.6007</td>\n",
       "                        <td id=\"T_d88a0db6_77c3_11ec_a40e_7399565d7a7crow0_col2\" class=\"data row0 col2\" >0.6449</td>\n",
       "                        <td id=\"T_d88a0db6_77c3_11ec_a40e_7399565d7a7crow0_col3\" class=\"data row0 col3\" >0.6258</td>\n",
       "                        <td id=\"T_d88a0db6_77c3_11ec_a40e_7399565d7a7crow0_col4\" class=\"data row0 col4\" >0.6218</td>\n",
       "                        <td id=\"T_d88a0db6_77c3_11ec_a40e_7399565d7a7crow0_col5\" class=\"data row0 col5\" >0.6233</td>\n",
       "                        <td id=\"T_d88a0db6_77c3_11ec_a40e_7399565d7a7crow0_col6\" class=\"data row0 col6\" >0.1957</td>\n",
       "                        <td id=\"T_d88a0db6_77c3_11ec_a40e_7399565d7a7crow0_col7\" class=\"data row0 col7\" >0.1960</td>\n",
       "                        <td id=\"T_d88a0db6_77c3_11ec_a40e_7399565d7a7crow0_col8\" class=\"data row0 col8\" >0.1933</td>\n",
       "            </tr>\n",
       "            <tr>\n",
       "                        <th id=\"T_d88a0db6_77c3_11ec_a40e_7399565d7a7clevel0_row1\" class=\"row_heading level0 row1\" >lda</th>\n",
       "                        <td id=\"T_d88a0db6_77c3_11ec_a40e_7399565d7a7crow1_col0\" class=\"data row1 col0\" >Linear Discriminant Analysis</td>\n",
       "                        <td id=\"T_d88a0db6_77c3_11ec_a40e_7399565d7a7crow1_col1\" class=\"data row1 col1\" >0.5977</td>\n",
       "                        <td id=\"T_d88a0db6_77c3_11ec_a40e_7399565d7a7crow1_col2\" class=\"data row1 col2\" >0.6342</td>\n",
       "                        <td id=\"T_d88a0db6_77c3_11ec_a40e_7399565d7a7crow1_col3\" class=\"data row1 col3\" >0.6198</td>\n",
       "                        <td id=\"T_d88a0db6_77c3_11ec_a40e_7399565d7a7crow1_col4\" class=\"data row1 col4\" >0.6196</td>\n",
       "                        <td id=\"T_d88a0db6_77c3_11ec_a40e_7399565d7a7crow1_col5\" class=\"data row1 col5\" >0.6191</td>\n",
       "                        <td id=\"T_d88a0db6_77c3_11ec_a40e_7399565d7a7crow1_col6\" class=\"data row1 col6\" >0.1897</td>\n",
       "                        <td id=\"T_d88a0db6_77c3_11ec_a40e_7399565d7a7crow1_col7\" class=\"data row1 col7\" >0.1901</td>\n",
       "                        <td id=\"T_d88a0db6_77c3_11ec_a40e_7399565d7a7crow1_col8\" class=\"data row1 col8\" >0.0800</td>\n",
       "            </tr>\n",
       "            <tr>\n",
       "                        <th id=\"T_d88a0db6_77c3_11ec_a40e_7399565d7a7clevel0_row2\" class=\"row_heading level0 row2\" >rf</th>\n",
       "                        <td id=\"T_d88a0db6_77c3_11ec_a40e_7399565d7a7crow2_col0\" class=\"data row2 col0\" >Random Forest Classifier</td>\n",
       "                        <td id=\"T_d88a0db6_77c3_11ec_a40e_7399565d7a7crow2_col1\" class=\"data row2 col1\" >0.5940</td>\n",
       "                        <td id=\"T_d88a0db6_77c3_11ec_a40e_7399565d7a7crow2_col2\" class=\"data row2 col2\" >0.6308</td>\n",
       "                        <td id=\"T_d88a0db6_77c3_11ec_a40e_7399565d7a7crow2_col3\" class=\"data row2 col3\" >0.6388</td>\n",
       "                        <td id=\"T_d88a0db6_77c3_11ec_a40e_7399565d7a7crow2_col4\" class=\"data row2 col4\" >0.6117</td>\n",
       "                        <td id=\"T_d88a0db6_77c3_11ec_a40e_7399565d7a7crow2_col5\" class=\"data row2 col5\" >0.6233</td>\n",
       "                        <td id=\"T_d88a0db6_77c3_11ec_a40e_7399565d7a7crow2_col6\" class=\"data row2 col6\" >0.1787</td>\n",
       "                        <td id=\"T_d88a0db6_77c3_11ec_a40e_7399565d7a7crow2_col7\" class=\"data row2 col7\" >0.1798</td>\n",
       "                        <td id=\"T_d88a0db6_77c3_11ec_a40e_7399565d7a7crow2_col8\" class=\"data row2 col8\" >0.1867</td>\n",
       "            </tr>\n",
       "            <tr>\n",
       "                        <th id=\"T_d88a0db6_77c3_11ec_a40e_7399565d7a7clevel0_row3\" class=\"row_heading level0 row3\" >gbc</th>\n",
       "                        <td id=\"T_d88a0db6_77c3_11ec_a40e_7399565d7a7crow3_col0\" class=\"data row3 col0\" >Gradient Boosting Classifier</td>\n",
       "                        <td id=\"T_d88a0db6_77c3_11ec_a40e_7399565d7a7crow3_col1\" class=\"data row3 col1\" >0.5841</td>\n",
       "                        <td id=\"T_d88a0db6_77c3_11ec_a40e_7399565d7a7crow3_col2\" class=\"data row3 col2\" >0.6253</td>\n",
       "                        <td id=\"T_d88a0db6_77c3_11ec_a40e_7399565d7a7crow3_col3\" class=\"data row3 col3\" >0.6164</td>\n",
       "                        <td id=\"T_d88a0db6_77c3_11ec_a40e_7399565d7a7crow3_col4\" class=\"data row3 col4\" >0.6035</td>\n",
       "                        <td id=\"T_d88a0db6_77c3_11ec_a40e_7399565d7a7crow3_col5\" class=\"data row3 col5\" >0.6088</td>\n",
       "                        <td id=\"T_d88a0db6_77c3_11ec_a40e_7399565d7a7crow3_col6\" class=\"data row3 col6\" >0.1610</td>\n",
       "                        <td id=\"T_d88a0db6_77c3_11ec_a40e_7399565d7a7crow3_col7\" class=\"data row3 col7\" >0.1617</td>\n",
       "                        <td id=\"T_d88a0db6_77c3_11ec_a40e_7399565d7a7crow3_col8\" class=\"data row3 col8\" >1.2800</td>\n",
       "            </tr>\n",
       "            <tr>\n",
       "                        <th id=\"T_d88a0db6_77c3_11ec_a40e_7399565d7a7clevel0_row4\" class=\"row_heading level0 row4\" >lightgbm</th>\n",
       "                        <td id=\"T_d88a0db6_77c3_11ec_a40e_7399565d7a7crow4_col0\" class=\"data row4 col0\" >Light Gradient Boosting Machine</td>\n",
       "                        <td id=\"T_d88a0db6_77c3_11ec_a40e_7399565d7a7crow4_col1\" class=\"data row4 col1\" >0.5946</td>\n",
       "                        <td id=\"T_d88a0db6_77c3_11ec_a40e_7399565d7a7crow4_col2\" class=\"data row4 col2\" >0.6245</td>\n",
       "                        <td id=\"T_d88a0db6_77c3_11ec_a40e_7399565d7a7crow4_col3\" class=\"data row4 col3\" >0.6264</td>\n",
       "                        <td id=\"T_d88a0db6_77c3_11ec_a40e_7399565d7a7crow4_col4\" class=\"data row4 col4\" >0.6140</td>\n",
       "                        <td id=\"T_d88a0db6_77c3_11ec_a40e_7399565d7a7crow4_col5\" class=\"data row4 col5\" >0.6195</td>\n",
       "                        <td id=\"T_d88a0db6_77c3_11ec_a40e_7399565d7a7crow4_col6\" class=\"data row4 col6\" >0.1825</td>\n",
       "                        <td id=\"T_d88a0db6_77c3_11ec_a40e_7399565d7a7crow4_col7\" class=\"data row4 col7\" >0.1829</td>\n",
       "                        <td id=\"T_d88a0db6_77c3_11ec_a40e_7399565d7a7crow4_col8\" class=\"data row4 col8\" >0.4300</td>\n",
       "            </tr>\n",
       "            <tr>\n",
       "                        <th id=\"T_d88a0db6_77c3_11ec_a40e_7399565d7a7clevel0_row5\" class=\"row_heading level0 row5\" >et</th>\n",
       "                        <td id=\"T_d88a0db6_77c3_11ec_a40e_7399565d7a7crow5_col0\" class=\"data row5 col0\" >Extra Trees Classifier</td>\n",
       "                        <td id=\"T_d88a0db6_77c3_11ec_a40e_7399565d7a7crow5_col1\" class=\"data row5 col1\" >0.5915</td>\n",
       "                        <td id=\"T_d88a0db6_77c3_11ec_a40e_7399565d7a7crow5_col2\" class=\"data row5 col2\" >0.6167</td>\n",
       "                        <td id=\"T_d88a0db6_77c3_11ec_a40e_7399565d7a7crow5_col3\" class=\"data row5 col3\" >0.6371</td>\n",
       "                        <td id=\"T_d88a0db6_77c3_11ec_a40e_7399565d7a7crow5_col4\" class=\"data row5 col4\" >0.6080</td>\n",
       "                        <td id=\"T_d88a0db6_77c3_11ec_a40e_7399565d7a7crow5_col5\" class=\"data row5 col5\" >0.6218</td>\n",
       "                        <td id=\"T_d88a0db6_77c3_11ec_a40e_7399565d7a7crow5_col6\" class=\"data row5 col6\" >0.1754</td>\n",
       "                        <td id=\"T_d88a0db6_77c3_11ec_a40e_7399565d7a7crow5_col7\" class=\"data row5 col7\" >0.1759</td>\n",
       "                        <td id=\"T_d88a0db6_77c3_11ec_a40e_7399565d7a7crow5_col8\" class=\"data row5 col8\" >0.1700</td>\n",
       "            </tr>\n",
       "            <tr>\n",
       "                        <th id=\"T_d88a0db6_77c3_11ec_a40e_7399565d7a7clevel0_row6\" class=\"row_heading level0 row6\" >xgboost</th>\n",
       "                        <td id=\"T_d88a0db6_77c3_11ec_a40e_7399565d7a7crow6_col0\" class=\"data row6 col0\" >Extreme Gradient Boosting</td>\n",
       "                        <td id=\"T_d88a0db6_77c3_11ec_a40e_7399565d7a7crow6_col1\" class=\"data row6 col1\" >0.5940</td>\n",
       "                        <td id=\"T_d88a0db6_77c3_11ec_a40e_7399565d7a7crow6_col2\" class=\"data row6 col2\" >0.6163</td>\n",
       "                        <td id=\"T_d88a0db6_77c3_11ec_a40e_7399565d7a7crow6_col3\" class=\"data row6 col3\" >0.6228</td>\n",
       "                        <td id=\"T_d88a0db6_77c3_11ec_a40e_7399565d7a7crow6_col4\" class=\"data row6 col4\" >0.6130</td>\n",
       "                        <td id=\"T_d88a0db6_77c3_11ec_a40e_7399565d7a7crow6_col5\" class=\"data row6 col5\" >0.6175</td>\n",
       "                        <td id=\"T_d88a0db6_77c3_11ec_a40e_7399565d7a7crow6_col6\" class=\"data row6 col6\" >0.1823</td>\n",
       "                        <td id=\"T_d88a0db6_77c3_11ec_a40e_7399565d7a7crow6_col7\" class=\"data row6 col7\" >0.1826</td>\n",
       "                        <td id=\"T_d88a0db6_77c3_11ec_a40e_7399565d7a7crow6_col8\" class=\"data row6 col8\" >0.7267</td>\n",
       "            </tr>\n",
       "            <tr>\n",
       "                        <th id=\"T_d88a0db6_77c3_11ec_a40e_7399565d7a7clevel0_row7\" class=\"row_heading level0 row7\" >ada</th>\n",
       "                        <td id=\"T_d88a0db6_77c3_11ec_a40e_7399565d7a7crow7_col0\" class=\"data row7 col0\" >Ada Boost Classifier</td>\n",
       "                        <td id=\"T_d88a0db6_77c3_11ec_a40e_7399565d7a7crow7_col1\" class=\"data row7 col1\" >0.5761</td>\n",
       "                        <td id=\"T_d88a0db6_77c3_11ec_a40e_7399565d7a7crow7_col2\" class=\"data row7 col2\" >0.5968</td>\n",
       "                        <td id=\"T_d88a0db6_77c3_11ec_a40e_7399565d7a7crow7_col3\" class=\"data row7 col3\" >0.5980</td>\n",
       "                        <td id=\"T_d88a0db6_77c3_11ec_a40e_7399565d7a7crow7_col4\" class=\"data row7 col4\" >0.5972</td>\n",
       "                        <td id=\"T_d88a0db6_77c3_11ec_a40e_7399565d7a7crow7_col5\" class=\"data row7 col5\" >0.5972</td>\n",
       "                        <td id=\"T_d88a0db6_77c3_11ec_a40e_7399565d7a7crow7_col6\" class=\"data row7 col6\" >0.1471</td>\n",
       "                        <td id=\"T_d88a0db6_77c3_11ec_a40e_7399565d7a7crow7_col7\" class=\"data row7 col7\" >0.1473</td>\n",
       "                        <td id=\"T_d88a0db6_77c3_11ec_a40e_7399565d7a7crow7_col8\" class=\"data row7 col8\" >0.3067</td>\n",
       "            </tr>\n",
       "            <tr>\n",
       "                        <th id=\"T_d88a0db6_77c3_11ec_a40e_7399565d7a7clevel0_row8\" class=\"row_heading level0 row8\" >dt</th>\n",
       "                        <td id=\"T_d88a0db6_77c3_11ec_a40e_7399565d7a7crow8_col0\" class=\"data row8 col0\" >Decision Tree Classifier</td>\n",
       "                        <td id=\"T_d88a0db6_77c3_11ec_a40e_7399565d7a7crow8_col1\" class=\"data row8 col1\" >0.5397</td>\n",
       "                        <td id=\"T_d88a0db6_77c3_11ec_a40e_7399565d7a7crow8_col2\" class=\"data row8 col2\" >0.5369</td>\n",
       "                        <td id=\"T_d88a0db6_77c3_11ec_a40e_7399565d7a7crow8_col3\" class=\"data row8 col3\" >0.5753</td>\n",
       "                        <td id=\"T_d88a0db6_77c3_11ec_a40e_7399565d7a7crow8_col4\" class=\"data row8 col4\" >0.5616</td>\n",
       "                        <td id=\"T_d88a0db6_77c3_11ec_a40e_7399565d7a7crow8_col5\" class=\"data row8 col5\" >0.5680</td>\n",
       "                        <td id=\"T_d88a0db6_77c3_11ec_a40e_7399565d7a7crow8_col6\" class=\"data row8 col6\" >0.0740</td>\n",
       "                        <td id=\"T_d88a0db6_77c3_11ec_a40e_7399565d7a7crow8_col7\" class=\"data row8 col7\" >0.0741</td>\n",
       "                        <td id=\"T_d88a0db6_77c3_11ec_a40e_7399565d7a7crow8_col8\" class=\"data row8 col8\" >0.1100</td>\n",
       "            </tr>\n",
       "            <tr>\n",
       "                        <th id=\"T_d88a0db6_77c3_11ec_a40e_7399565d7a7clevel0_row9\" class=\"row_heading level0 row9\" >dummy</th>\n",
       "                        <td id=\"T_d88a0db6_77c3_11ec_a40e_7399565d7a7crow9_col0\" class=\"data row9 col0\" >Dummy Classifier</td>\n",
       "                        <td id=\"T_d88a0db6_77c3_11ec_a40e_7399565d7a7crow9_col1\" class=\"data row9 col1\" >0.4726</td>\n",
       "                        <td id=\"T_d88a0db6_77c3_11ec_a40e_7399565d7a7crow9_col2\" class=\"data row9 col2\" >0.5000</td>\n",
       "                        <td id=\"T_d88a0db6_77c3_11ec_a40e_7399565d7a7crow9_col3\" class=\"data row9 col3\" >0.0000</td>\n",
       "                        <td id=\"T_d88a0db6_77c3_11ec_a40e_7399565d7a7crow9_col4\" class=\"data row9 col4\" >0.0000</td>\n",
       "                        <td id=\"T_d88a0db6_77c3_11ec_a40e_7399565d7a7crow9_col5\" class=\"data row9 col5\" >0.0000</td>\n",
       "                        <td id=\"T_d88a0db6_77c3_11ec_a40e_7399565d7a7crow9_col6\" class=\"data row9 col6\" >0.0000</td>\n",
       "                        <td id=\"T_d88a0db6_77c3_11ec_a40e_7399565d7a7crow9_col7\" class=\"data row9 col7\" >0.0000</td>\n",
       "                        <td id=\"T_d88a0db6_77c3_11ec_a40e_7399565d7a7crow9_col8\" class=\"data row9 col8\" >0.0700</td>\n",
       "            </tr>\n",
       "            <tr>\n",
       "                        <th id=\"T_d88a0db6_77c3_11ec_a40e_7399565d7a7clevel0_row10\" class=\"row_heading level0 row10\" >svm</th>\n",
       "                        <td id=\"T_d88a0db6_77c3_11ec_a40e_7399565d7a7crow10_col0\" class=\"data row10 col0\" >SVM - Linear Kernel</td>\n",
       "                        <td id=\"T_d88a0db6_77c3_11ec_a40e_7399565d7a7crow10_col1\" class=\"data row10 col1\" >0.5847</td>\n",
       "                        <td id=\"T_d88a0db6_77c3_11ec_a40e_7399565d7a7crow10_col2\" class=\"data row10 col2\" >0.0000</td>\n",
       "                        <td id=\"T_d88a0db6_77c3_11ec_a40e_7399565d7a7crow10_col3\" class=\"data row10 col3\" >0.5995</td>\n",
       "                        <td id=\"T_d88a0db6_77c3_11ec_a40e_7399565d7a7crow10_col4\" class=\"data row10 col4\" >0.6057</td>\n",
       "                        <td id=\"T_d88a0db6_77c3_11ec_a40e_7399565d7a7crow10_col5\" class=\"data row10 col5\" >0.6011</td>\n",
       "                        <td id=\"T_d88a0db6_77c3_11ec_a40e_7399565d7a7crow10_col6\" class=\"data row10 col6\" >0.1639</td>\n",
       "                        <td id=\"T_d88a0db6_77c3_11ec_a40e_7399565d7a7crow10_col7\" class=\"data row10 col7\" >0.1649</td>\n",
       "                        <td id=\"T_d88a0db6_77c3_11ec_a40e_7399565d7a7crow10_col8\" class=\"data row10 col8\" >0.0867</td>\n",
       "            </tr>\n",
       "            <tr>\n",
       "                        <th id=\"T_d88a0db6_77c3_11ec_a40e_7399565d7a7clevel0_row11\" class=\"row_heading level0 row11\" >ridge</th>\n",
       "                        <td id=\"T_d88a0db6_77c3_11ec_a40e_7399565d7a7crow11_col0\" class=\"data row11 col0\" >Ridge Classifier</td>\n",
       "                        <td id=\"T_d88a0db6_77c3_11ec_a40e_7399565d7a7crow11_col1\" class=\"data row11 col1\" >0.6001</td>\n",
       "                        <td id=\"T_d88a0db6_77c3_11ec_a40e_7399565d7a7crow11_col2\" class=\"data row11 col2\" >0.0000</td>\n",
       "                        <td id=\"T_d88a0db6_77c3_11ec_a40e_7399565d7a7crow11_col3\" class=\"data row11 col3\" >0.6279</td>\n",
       "                        <td id=\"T_d88a0db6_77c3_11ec_a40e_7399565d7a7crow11_col4\" class=\"data row11 col4\" >0.6202</td>\n",
       "                        <td id=\"T_d88a0db6_77c3_11ec_a40e_7399565d7a7crow11_col5\" class=\"data row11 col5\" >0.6236</td>\n",
       "                        <td id=\"T_d88a0db6_77c3_11ec_a40e_7399565d7a7crow11_col6\" class=\"data row11 col6\" >0.1943</td>\n",
       "                        <td id=\"T_d88a0db6_77c3_11ec_a40e_7399565d7a7crow11_col7\" class=\"data row11 col7\" >0.1945</td>\n",
       "                        <td id=\"T_d88a0db6_77c3_11ec_a40e_7399565d7a7crow11_col8\" class=\"data row11 col8\" >0.0733</td>\n",
       "            </tr>\n",
       "    </tbody></table>"
      ],
      "text/plain": [
       "<pandas.io.formats.style.Styler at 0x7fd5c212f3d0>"
      ]
     },
     "metadata": {},
     "output_type": "display_data"
    }
   ],
   "source": [
    "top_models = compare_models(\n",
    "            n_select=5,\n",
    "            sort='AUC',\n",
    "            exclude=[\"qda\", \"knn\", \"nb\", 'catboost'],\n",
    "            verbose=True,\n",
    "        )"
   ]
  },
  {
   "cell_type": "code",
   "execution_count": 99,
   "id": "1ca784b5-a863-4bf7-a455-4b29cca4d2c1",
   "metadata": {},
   "outputs": [
    {
     "data": {
      "application/vnd.jupyter.widget-view+json": {
       "model_id": "f70493c84f7349619a88cbd5dae0d2af",
       "version_major": 2,
       "version_minor": 0
      },
      "text/plain": [
       "interactive(children=(ToggleButtons(description='Plot Type:', icons=('',), options=(('Hyperparameters', 'param…"
      ]
     },
     "metadata": {},
     "output_type": "display_data"
    }
   ],
   "source": [
    "evaluate_model(top_models[0])"
   ]
  },
  {
   "cell_type": "code",
   "execution_count": 98,
   "metadata": {},
   "outputs": [
    {
     "data": {
      "text/plain": [
       "array(['german_bundesliga', 'spanish_la_liga', 'english_premier_league',\n",
       "       'italian_serie_a', 'french_ligue_1', 'us_major_league_soccer',\n",
       "       'mexican_primera'], dtype=object)"
      ]
     },
     "execution_count": 98,
     "metadata": {},
     "output_type": "execute_result"
    }
   ],
   "source": [
    "train.competition.unique()"
   ]
  },
  {
   "cell_type": "markdown",
   "id": "5e43057b-18dd-46ac-b7cc-ab3ca2e6d873",
   "metadata": {},
   "source": [
    "## Finalize model"
   ]
  },
  {
   "cell_type": "code",
   "execution_count": 94,
   "id": "24740ad3-5d28-4469-a005-a5db458410f0",
   "metadata": {},
   "outputs": [],
   "source": [
    "final = finalize_model(top_models[0]) # Choose the preferred model. Best performance model selected by default. "
   ]
  },
  {
   "cell_type": "markdown",
   "id": "6bf37cc8-5663-446e-ad6b-e003917f7776",
   "metadata": {
    "tags": []
   },
   "source": [
    "## Metrics against test"
   ]
  },
  {
   "cell_type": "code",
   "execution_count": 95,
   "id": "a9a246d7-e05d-4e71-89c7-ed72783ae1bb",
   "metadata": {},
   "outputs": [],
   "source": [
    "predictions = predict_model(final, data=test)"
   ]
  },
  {
   "cell_type": "code",
   "execution_count": 96,
   "id": "d4c3c73e-e192-493e-9703-1cbe12f0e556",
   "metadata": {},
   "outputs": [],
   "source": [
    "metrics_dict = {\n",
    "    metric: check_metric(\n",
    "        actual=predictions[user_target], \n",
    "        prediction=predictions['Label'], \n",
    "        metric=metric,\n",
    "    ) for metric in metrics_list\n",
    "}"
   ]
  },
  {
   "cell_type": "code",
   "execution_count": 97,
   "id": "5e581bb7-d5f6-49db-bf99-406c8b082749",
   "metadata": {},
   "outputs": [
    {
     "data": {
      "text/html": [
       "<div>\n",
       "<style scoped>\n",
       "    .dataframe tbody tr th:only-of-type {\n",
       "        vertical-align: middle;\n",
       "    }\n",
       "\n",
       "    .dataframe tbody tr th {\n",
       "        vertical-align: top;\n",
       "    }\n",
       "\n",
       "    .dataframe thead th {\n",
       "        text-align: right;\n",
       "    }\n",
       "</style>\n",
       "<table border=\"1\" class=\"dataframe\">\n",
       "  <thead>\n",
       "    <tr style=\"text-align: right;\">\n",
       "      <th></th>\n",
       "      <th>Accuracy</th>\n",
       "      <th>AUC</th>\n",
       "      <th>Recall</th>\n",
       "      <th>Precision</th>\n",
       "      <th>F1</th>\n",
       "      <th>Kappa</th>\n",
       "      <th>MCC</th>\n",
       "    </tr>\n",
       "  </thead>\n",
       "  <tbody>\n",
       "    <tr>\n",
       "      <th>standard_model</th>\n",
       "      <td>0.6121</td>\n",
       "      <td>0.6159</td>\n",
       "      <td>0.5597</td>\n",
       "      <td>0.6611</td>\n",
       "      <td>0.6062</td>\n",
       "      <td>0.2292</td>\n",
       "      <td>0.2323</td>\n",
       "    </tr>\n",
       "  </tbody>\n",
       "</table>\n",
       "</div>"
      ],
      "text/plain": [
       "               Accuracy     AUC  Recall Precision      F1   Kappa     MCC\n",
       "standard_model   0.6121  0.6159  0.5597    0.6611  0.6062  0.2292  0.2323"
      ]
     },
     "execution_count": 97,
     "metadata": {},
     "output_type": "execute_result"
    }
   ],
   "source": [
    "metrics_df = pd.DataFrame(columns=metrics_dict.keys(), index=pd.Index(range(1)))\n",
    "metrics_df.index = ['standard_model']\n",
    "for col, val in metrics_dict.items():\n",
    "    metrics_df.loc['standard_model', col] = val \n",
    "metrics_df"
   ]
  },
  {
   "cell_type": "code",
   "execution_count": null,
   "id": "3836590a",
   "metadata": {},
   "outputs": [],
   "source": []
  },
  {
   "cell_type": "markdown",
   "id": "820c8fac-65c3-4f91-9b76-a16bd5d119f8",
   "metadata": {},
   "source": [
    "# Creation dataset (with new columns)"
   ]
  },
  {
   "cell_type": "markdown",
   "id": "5a7dd6c4-66cf-4ad5-9c55-4448cb315bc0",
   "metadata": {},
   "source": [
    "### Preparation "
   ]
  },
  {
   "cell_type": "code",
   "execution_count": 23,
   "id": "bd080dd4-7e75-4f2d-b5d6-2f3e6fab03d3",
   "metadata": {},
   "outputs": [
    {
     "name": "stdout",
     "output_type": "stream",
     "text": [
      "/home/guillem/ml_bets/data/future_matches/ESP1C.xls\n",
      "/home/guillem/ml_bets/data/future_matches/ING1C.xls\n",
      "/home/guillem/ml_bets/data/future_matches/ITA1C.xls\n",
      "Excel file /home/guillem/ml_bets/data/future_matches/MEX1C.xls is empty. Skipping\n",
      "/home/guillem/ml_bets/data/future_matches/FRA1C.xls\n",
      "Excel file /home/guillem/ml_bets/data/future_matches/MLS1C.xls is empty. Skipping\n",
      "/home/guillem/ml_bets/data/future_matches/ALE1C.xls\n"
     ]
    }
   ],
   "source": [
    "features = Features() #Features(output=features_path)\n",
    "examples = features.create()\n",
    "examples = examples[~examples[f\"prob_under_goals_{cutoff}\"].isna()].dropna(axis=0, thresh=107)\n",
    "# Initialize PipelineDataset class\n",
    "pipe_ds = PipelineDatasets(\n",
    "    features=features,\n",
    "    target=user_target,\n",
    "    examples=examples,\n",
    "    test_size=user_date,\n",
    ")\n",
    "n_train, n_test = pipe_ds.train_data.dropna(axis=0, thresh=107), pipe_ds.test_data.dropna(axis=0, thresh=107)"
   ]
  },
  {
   "cell_type": "markdown",
   "id": "2f9c567f-e9c7-40cf-a5f8-675852f0a314",
   "metadata": {},
   "source": [
    "## Run this cell if target is boolean"
   ]
  },
  {
   "cell_type": "code",
   "execution_count": 28,
   "metadata": {},
   "outputs": [],
   "source": [
    "n_test = n_test[~n_test[\"goals_2.5\"].isna()]"
   ]
  },
  {
   "cell_type": "code",
   "execution_count": 29,
   "id": "a3044343-8bf4-4c5d-a78b-7868cc7a6d7d",
   "metadata": {},
   "outputs": [],
   "source": [
    "n_train = n_train.astype({user_target: int})\n",
    "n_test = n_test.astype({user_target: int})"
   ]
  },
  {
   "cell_type": "markdown",
   "id": "b289db75",
   "metadata": {},
   "source": [
    "## Referee table. Merging dataframe "
   ]
  },
  {
   "cell_type": "code",
   "execution_count": 30,
   "id": "5e5fe53e",
   "metadata": {},
   "outputs": [],
   "source": [
    "current_path = os.getcwd() \n",
    "path = Path(current_path).parent / 'data/features/referee_table.csv'\n",
    "raw_referee_table = pd.read_csv(\"referee_table.csv\")"
   ]
  },
  {
   "cell_type": "code",
   "execution_count": 31,
   "id": "280b2313-d2cc-4509-a860-d8625608459d",
   "metadata": {},
   "outputs": [],
   "source": [
    "referee_table = add_columns_table(feat=features, df=raw_referee_table) # add unique id_match to referee table "
   ]
  },
  {
   "cell_type": "code",
   "execution_count": 63,
   "id": "495f4e0f-25d4-4c75-a717-64226a146203",
   "metadata": {},
   "outputs": [],
   "source": [
    "referee_cols  = referee_table.columns.tolist() \n",
    "referee_cols.remove('competition')\n",
    "referee_cols.remove('referee')\n",
    "referee_cols.remove('date') # Remove repeated columns \n",
    "referee_train = pd.merge(n_train, referee_table[referee_cols], left_index=True, right_index=True, how='inner') # Referee data + train old data\n",
    "referee_test = pd.merge(n_test, referee_table[referee_cols], left_index=True, right_index=True, how='inner') # Referee data + test old data"
   ]
  },
  {
   "cell_type": "code",
   "execution_count": 64,
   "metadata": {},
   "outputs": [],
   "source": [
    "referee_train.drop(columns=[\"date\", \"month\", \"competition\", \"hour_rank\", \"hour_before_16\"], inplace=True)\n",
    "referee_train.drop(columns=[x for x in referee_train.columns if \"_std\" in x], inplace=True)"
   ]
  },
  {
   "cell_type": "code",
   "execution_count": 40,
   "metadata": {},
   "outputs": [
    {
     "data": {
      "text/plain": [
       "True"
      ]
     },
     "execution_count": 40,
     "metadata": {},
     "output_type": "execute_result"
    }
   ],
   "source": [
    "\"competition\" in referee_test.columns"
   ]
  },
  {
   "cell_type": "markdown",
   "id": "104c3762-3b69-4f78-aa72-c8a2c9063550",
   "metadata": {},
   "source": [
    "## Selection of features"
   ]
  },
  {
   "cell_type": "code",
   "execution_count": 65,
   "id": "3ba2bfcd-1e5b-4b95-8142-0dd81f6084dc",
   "metadata": {
    "scrolled": false
   },
   "outputs": [
    {
     "data": {
      "text/html": [
       "<div>\n",
       "<style scoped>\n",
       "    .dataframe tbody tr th:only-of-type {\n",
       "        vertical-align: middle;\n",
       "    }\n",
       "\n",
       "    .dataframe tbody tr th {\n",
       "        vertical-align: top;\n",
       "    }\n",
       "\n",
       "    .dataframe thead th {\n",
       "        text-align: right;\n",
       "    }\n",
       "</style>\n",
       "<table border=\"1\" class=\"dataframe\">\n",
       "  <thead>\n",
       "    <tr style=\"text-align: right;\">\n",
       "      <th></th>\n",
       "      <th>Model</th>\n",
       "      <th>Accuracy</th>\n",
       "      <th>AUC</th>\n",
       "      <th>Recall</th>\n",
       "      <th>Prec.</th>\n",
       "      <th>F1</th>\n",
       "      <th>Kappa</th>\n",
       "      <th>MCC</th>\n",
       "      <th>brier</th>\n",
       "    </tr>\n",
       "  </thead>\n",
       "  <tbody>\n",
       "    <tr>\n",
       "      <th>0</th>\n",
       "      <td>Extra Trees Classifier</td>\n",
       "      <td>0.5877</td>\n",
       "      <td>0.6357</td>\n",
       "      <td>0.6657</td>\n",
       "      <td>0.5656</td>\n",
       "      <td>0.6116</td>\n",
       "      <td>0.1783</td>\n",
       "      <td>0.181</td>\n",
       "      <td>0.2368</td>\n",
       "    </tr>\n",
       "  </tbody>\n",
       "</table>\n",
       "</div>"
      ],
      "text/plain": [
       "                    Model  Accuracy     AUC  Recall   Prec.      F1   Kappa  \\\n",
       "0  Extra Trees Classifier    0.5877  0.6357  0.6657  0.5656  0.6116  0.1783   \n",
       "\n",
       "     MCC   brier  \n",
       "0  0.181  0.2368  "
      ]
     },
     "metadata": {},
     "output_type": "display_data"
    },
    {
     "data": {
      "text/html": [
       "<div>\n",
       "<style scoped>\n",
       "    .dataframe tbody tr th:only-of-type {\n",
       "        vertical-align: middle;\n",
       "    }\n",
       "\n",
       "    .dataframe tbody tr th {\n",
       "        vertical-align: top;\n",
       "    }\n",
       "\n",
       "    .dataframe thead th {\n",
       "        text-align: right;\n",
       "    }\n",
       "</style>\n",
       "<table border=\"1\" class=\"dataframe\">\n",
       "  <thead>\n",
       "    <tr style=\"text-align: right;\">\n",
       "      <th></th>\n",
       "      <th>Model</th>\n",
       "      <th>Accuracy</th>\n",
       "      <th>AUC</th>\n",
       "      <th>Recall</th>\n",
       "      <th>Prec.</th>\n",
       "      <th>F1</th>\n",
       "      <th>Kappa</th>\n",
       "      <th>MCC</th>\n",
       "      <th>brier</th>\n",
       "    </tr>\n",
       "  </thead>\n",
       "  <tbody>\n",
       "    <tr>\n",
       "      <th>0</th>\n",
       "      <td>Logistic Regression</td>\n",
       "      <td>0.5534</td>\n",
       "      <td>0.5982</td>\n",
       "      <td>0.5478</td>\n",
       "      <td>0.5417</td>\n",
       "      <td>0.5447</td>\n",
       "      <td>0.1065</td>\n",
       "      <td>0.1066</td>\n",
       "      <td>0.3149</td>\n",
       "    </tr>\n",
       "  </tbody>\n",
       "</table>\n",
       "</div>"
      ],
      "text/plain": [
       "                 Model  Accuracy     AUC  Recall   Prec.      F1   Kappa  \\\n",
       "0  Logistic Regression    0.5534  0.5982  0.5478  0.5417  0.5447  0.1065   \n",
       "\n",
       "      MCC   brier  \n",
       "0  0.1066  0.3149  "
      ]
     },
     "metadata": {},
     "output_type": "display_data"
    },
    {
     "data": {
      "text/html": [
       "<div>\n",
       "<style scoped>\n",
       "    .dataframe tbody tr th:only-of-type {\n",
       "        vertical-align: middle;\n",
       "    }\n",
       "\n",
       "    .dataframe tbody tr th {\n",
       "        vertical-align: top;\n",
       "    }\n",
       "\n",
       "    .dataframe thead th {\n",
       "        text-align: right;\n",
       "    }\n",
       "</style>\n",
       "<table border=\"1\" class=\"dataframe\">\n",
       "  <thead>\n",
       "    <tr style=\"text-align: right;\">\n",
       "      <th></th>\n",
       "      <th>Model</th>\n",
       "      <th>Accuracy</th>\n",
       "      <th>AUC</th>\n",
       "      <th>Recall</th>\n",
       "      <th>Prec.</th>\n",
       "      <th>F1</th>\n",
       "      <th>Kappa</th>\n",
       "      <th>MCC</th>\n",
       "      <th>brier</th>\n",
       "    </tr>\n",
       "  </thead>\n",
       "  <tbody>\n",
       "    <tr>\n",
       "      <th>0</th>\n",
       "      <td>Extra Trees Classifier</td>\n",
       "      <td>0.5767</td>\n",
       "      <td>0.6248</td>\n",
       "      <td>0.6348</td>\n",
       "      <td>0.558</td>\n",
       "      <td>0.594</td>\n",
       "      <td>0.1557</td>\n",
       "      <td>0.1571</td>\n",
       "      <td>0.2388</td>\n",
       "    </tr>\n",
       "  </tbody>\n",
       "</table>\n",
       "</div>"
      ],
      "text/plain": [
       "                    Model  Accuracy     AUC  Recall  Prec.     F1   Kappa  \\\n",
       "0  Extra Trees Classifier    0.5767  0.6248  0.6348  0.558  0.594  0.1557   \n",
       "\n",
       "      MCC   brier  \n",
       "0  0.1571  0.2388  "
      ]
     },
     "metadata": {},
     "output_type": "display_data"
    },
    {
     "data": {
      "text/html": [
       "<div>\n",
       "<style scoped>\n",
       "    .dataframe tbody tr th:only-of-type {\n",
       "        vertical-align: middle;\n",
       "    }\n",
       "\n",
       "    .dataframe tbody tr th {\n",
       "        vertical-align: top;\n",
       "    }\n",
       "\n",
       "    .dataframe thead th {\n",
       "        text-align: right;\n",
       "    }\n",
       "</style>\n",
       "<table border=\"1\" class=\"dataframe\">\n",
       "  <thead>\n",
       "    <tr style=\"text-align: right;\">\n",
       "      <th></th>\n",
       "      <th>Model</th>\n",
       "      <th>Accuracy</th>\n",
       "      <th>AUC</th>\n",
       "      <th>Recall</th>\n",
       "      <th>Prec.</th>\n",
       "      <th>F1</th>\n",
       "      <th>Kappa</th>\n",
       "      <th>MCC</th>\n",
       "      <th>brier</th>\n",
       "    </tr>\n",
       "  </thead>\n",
       "  <tbody>\n",
       "    <tr>\n",
       "      <th>0</th>\n",
       "      <td>Logistic Regression</td>\n",
       "      <td>0.5945</td>\n",
       "      <td>0.6295</td>\n",
       "      <td>0.5871</td>\n",
       "      <td>0.5838</td>\n",
       "      <td>0.5854</td>\n",
       "      <td>0.1887</td>\n",
       "      <td>0.1887</td>\n",
       "      <td>0.2647</td>\n",
       "    </tr>\n",
       "  </tbody>\n",
       "</table>\n",
       "</div>"
      ],
      "text/plain": [
       "                 Model  Accuracy     AUC  Recall   Prec.      F1   Kappa  \\\n",
       "0  Logistic Regression    0.5945  0.6295  0.5871  0.5838  0.5854  0.1887   \n",
       "\n",
       "      MCC   brier  \n",
       "0  0.1887  0.2647  "
      ]
     },
     "metadata": {},
     "output_type": "display_data"
    },
    {
     "data": {
      "text/html": [
       "<div>\n",
       "<style scoped>\n",
       "    .dataframe tbody tr th:only-of-type {\n",
       "        vertical-align: middle;\n",
       "    }\n",
       "\n",
       "    .dataframe tbody tr th {\n",
       "        vertical-align: top;\n",
       "    }\n",
       "\n",
       "    .dataframe thead th {\n",
       "        text-align: right;\n",
       "    }\n",
       "</style>\n",
       "<table border=\"1\" class=\"dataframe\">\n",
       "  <thead>\n",
       "    <tr style=\"text-align: right;\">\n",
       "      <th></th>\n",
       "      <th>Model</th>\n",
       "      <th>Accuracy</th>\n",
       "      <th>AUC</th>\n",
       "      <th>Recall</th>\n",
       "      <th>Prec.</th>\n",
       "      <th>F1</th>\n",
       "      <th>Kappa</th>\n",
       "      <th>MCC</th>\n",
       "      <th>brier</th>\n",
       "    </tr>\n",
       "  </thead>\n",
       "  <tbody>\n",
       "    <tr>\n",
       "      <th>0</th>\n",
       "      <td>Logistic Regression</td>\n",
       "      <td>0.5932</td>\n",
       "      <td>0.6428</td>\n",
       "      <td>0.6264</td>\n",
       "      <td>0.5762</td>\n",
       "      <td>0.6003</td>\n",
       "      <td>0.1875</td>\n",
       "      <td>0.1882</td>\n",
       "      <td>0.2445</td>\n",
       "    </tr>\n",
       "  </tbody>\n",
       "</table>\n",
       "</div>"
      ],
      "text/plain": [
       "                 Model  Accuracy     AUC  Recall   Prec.      F1   Kappa  \\\n",
       "0  Logistic Regression    0.5932  0.6428  0.6264  0.5762  0.6003  0.1875   \n",
       "\n",
       "      MCC   brier  \n",
       "0  0.1882  0.2445  "
      ]
     },
     "metadata": {},
     "output_type": "display_data"
    },
    {
     "data": {
      "text/html": [
       "<div>\n",
       "<style scoped>\n",
       "    .dataframe tbody tr th:only-of-type {\n",
       "        vertical-align: middle;\n",
       "    }\n",
       "\n",
       "    .dataframe tbody tr th {\n",
       "        vertical-align: top;\n",
       "    }\n",
       "\n",
       "    .dataframe thead th {\n",
       "        text-align: right;\n",
       "    }\n",
       "</style>\n",
       "<table border=\"1\" class=\"dataframe\">\n",
       "  <thead>\n",
       "    <tr style=\"text-align: right;\">\n",
       "      <th></th>\n",
       "      <th>Model</th>\n",
       "      <th>Accuracy</th>\n",
       "      <th>AUC</th>\n",
       "      <th>Recall</th>\n",
       "      <th>Prec.</th>\n",
       "      <th>F1</th>\n",
       "      <th>Kappa</th>\n",
       "      <th>MCC</th>\n",
       "      <th>brier</th>\n",
       "    </tr>\n",
       "  </thead>\n",
       "  <tbody>\n",
       "    <tr>\n",
       "      <th>0</th>\n",
       "      <td>Extra Trees Classifier</td>\n",
       "      <td>0.5863</td>\n",
       "      <td>0.6227</td>\n",
       "      <td>0.6124</td>\n",
       "      <td>0.5707</td>\n",
       "      <td>0.5908</td>\n",
       "      <td>0.1736</td>\n",
       "      <td>0.174</td>\n",
       "      <td>0.2405</td>\n",
       "    </tr>\n",
       "  </tbody>\n",
       "</table>\n",
       "</div>"
      ],
      "text/plain": [
       "                    Model  Accuracy     AUC  Recall   Prec.      F1   Kappa  \\\n",
       "0  Extra Trees Classifier    0.5863  0.6227  0.6124  0.5707  0.5908  0.1736   \n",
       "\n",
       "     MCC   brier  \n",
       "0  0.174  0.2405  "
      ]
     },
     "metadata": {},
     "output_type": "display_data"
    }
   ],
   "source": [
    "feat_sel = FeatureSelection(target=user_target,\n",
    "                            dataset=referee_train,\n",
    "                            target_features=100,\n",
    "                            filter_metrics=metric_param,\n",
    "                            include=[\"lr\", \"et\"],\n",
    "                           )\n",
    "selected_features = feat_sel.repeat_pipeline()\n"
   ]
  },
  {
   "cell_type": "code",
   "execution_count": 67,
   "metadata": {},
   "outputs": [
    {
     "data": {
      "text/plain": [
       "52"
      ]
     },
     "execution_count": 67,
     "metadata": {},
     "output_type": "execute_result"
    }
   ],
   "source": [
    "len(sorted(selected_features))"
   ]
  },
  {
   "cell_type": "markdown",
   "id": "32615d1f-fc37-4782-ba48-536a8ec4c8fd",
   "metadata": {},
   "source": [
    "### Parameters "
   ]
  },
  {
   "cell_type": "code",
   "execution_count": 46,
   "id": "f34d3134-210b-46d2-a665-ee0f82099241",
   "metadata": {},
   "outputs": [],
   "source": [
    "ignore_features = ['month','date','competition','season_x','month_start_or_end','raw_match_id','season_y']"
   ]
  },
  {
   "cell_type": "markdown",
   "id": "4de7924a-d3ae-4521-b6c7-1b2c05776e77",
   "metadata": {
    "tags": []
   },
   "source": [
    "### Pycaret setup kwargs "
   ]
  },
  {
   "cell_type": "code",
   "execution_count": 68,
   "id": "1561f7d1-3020-4790-9e10-9f1334bc4a7c",
   "metadata": {},
   "outputs": [],
   "source": [
    "setup_kwargs = dict(\n",
    "        preprocess=True,\n",
    "        train_size=0.75,\n",
    "        session_id=123,\n",
    "        normalize=True,\n",
    "        transformation=True,\n",
    "        ignore_low_variance=True,\n",
    "        remove_multicollinearity=True,\n",
    "        multicollinearity_threshold=0.99,\n",
    "        n_jobs=-1,\n",
    "        use_gpu=False,\n",
    "        profile=False,\n",
    "        #ignore_features=ignore_features,\n",
    "        fold_strategy=fold_strategy,\n",
    "        remove_perfect_collinearity=True,\n",
    "        create_clusters=False,\n",
    "        fold=3,\n",
    "        feature_selection=False,\n",
    "        # you can use this to keep the 95 % most relevant features (fat_sel_threshold)\n",
    "        feature_selection_threshold=0.5,\n",
    "        combine_rare_levels=False,\n",
    "        rare_level_threshold=0.02,\n",
    "        pca=False,\n",
    "        pca_method=\"kernel\",\n",
    "        pca_components=30,\n",
    "        polynomial_features=False,\n",
    "        polynomial_degree=2,\n",
    "        polynomial_threshold=0.01,\n",
    "        trigonometry_features=False,\n",
    "        remove_outliers=True,\n",
    "        outliers_threshold=0.01,\n",
    "        feature_ratio=False,\n",
    "        feature_interaction=False,\n",
    "        # Makes everything slow AF. use to find out possibly interesting features\n",
    "        interaction_threshold=0.01,\n",
    "        fix_imbalance=True,\n",
    "        log_experiment=False,\n",
    "        verbose=False,\n",
    "        silent=True,\n",
    "        experiment_name=\"lagstest\",\n",
    "    )"
   ]
  },
  {
   "cell_type": "markdown",
   "id": "ce352f45-9d69-4783-8e9b-48a6023c3fe5",
   "metadata": {},
   "source": [
    "## Pycaret evaluation"
   ]
  },
  {
   "cell_type": "code",
   "execution_count": 100,
   "id": "ec995282-c5b6-4406-b443-115202966b43",
   "metadata": {},
   "outputs": [],
   "source": [
    "referee_train = referee_train[selected_features + [user_target]]\n",
    "numerics = [\"int16\", \"int32\", \"int64\", \"float16\", \"float32\", \"float64\", \"int\", \"float\"]\n",
    "num_cols = referee_train.select_dtypes(include=numerics).columns.tolist()\n",
    "num_cols.remove(\"goals_2.5\")\n",
    "setup_kwargs['numeric_features'] = num_cols "
   ]
  },
  {
   "cell_type": "code",
   "execution_count": 101,
   "id": "fffe4915-1cc2-49a0-8a4e-750ab4fe79d1",
   "metadata": {},
   "outputs": [],
   "source": [
    "_ = setup(data=referee_train, target=user_target, **setup_kwargs)\n",
    "x_train = get_config('X_train')"
   ]
  },
  {
   "cell_type": "code",
   "execution_count": 102,
   "id": "9e34937e-a743-4099-841c-6159fdd06a91",
   "metadata": {},
   "outputs": [
    {
     "data": {
      "text/html": [
       "<style  type=\"text/css\" >\n",
       "    #T_153b238e_77c5_11ec_a40e_7399565d7a7c th {\n",
       "          text-align: left;\n",
       "    }#T_153b238e_77c5_11ec_a40e_7399565d7a7crow0_col0,#T_153b238e_77c5_11ec_a40e_7399565d7a7crow0_col1,#T_153b238e_77c5_11ec_a40e_7399565d7a7crow0_col3,#T_153b238e_77c5_11ec_a40e_7399565d7a7crow0_col4,#T_153b238e_77c5_11ec_a40e_7399565d7a7crow0_col5,#T_153b238e_77c5_11ec_a40e_7399565d7a7crow0_col6,#T_153b238e_77c5_11ec_a40e_7399565d7a7crow0_col7,#T_153b238e_77c5_11ec_a40e_7399565d7a7crow1_col0,#T_153b238e_77c5_11ec_a40e_7399565d7a7crow1_col2,#T_153b238e_77c5_11ec_a40e_7399565d7a7crow1_col3,#T_153b238e_77c5_11ec_a40e_7399565d7a7crow1_col5,#T_153b238e_77c5_11ec_a40e_7399565d7a7crow2_col0,#T_153b238e_77c5_11ec_a40e_7399565d7a7crow2_col1,#T_153b238e_77c5_11ec_a40e_7399565d7a7crow2_col2,#T_153b238e_77c5_11ec_a40e_7399565d7a7crow2_col4,#T_153b238e_77c5_11ec_a40e_7399565d7a7crow2_col6,#T_153b238e_77c5_11ec_a40e_7399565d7a7crow2_col7,#T_153b238e_77c5_11ec_a40e_7399565d7a7crow3_col0,#T_153b238e_77c5_11ec_a40e_7399565d7a7crow3_col1,#T_153b238e_77c5_11ec_a40e_7399565d7a7crow3_col2,#T_153b238e_77c5_11ec_a40e_7399565d7a7crow3_col3,#T_153b238e_77c5_11ec_a40e_7399565d7a7crow3_col4,#T_153b238e_77c5_11ec_a40e_7399565d7a7crow3_col5,#T_153b238e_77c5_11ec_a40e_7399565d7a7crow3_col6,#T_153b238e_77c5_11ec_a40e_7399565d7a7crow3_col7,#T_153b238e_77c5_11ec_a40e_7399565d7a7crow4_col0,#T_153b238e_77c5_11ec_a40e_7399565d7a7crow4_col1,#T_153b238e_77c5_11ec_a40e_7399565d7a7crow4_col2,#T_153b238e_77c5_11ec_a40e_7399565d7a7crow4_col3,#T_153b238e_77c5_11ec_a40e_7399565d7a7crow4_col4,#T_153b238e_77c5_11ec_a40e_7399565d7a7crow4_col5,#T_153b238e_77c5_11ec_a40e_7399565d7a7crow4_col6,#T_153b238e_77c5_11ec_a40e_7399565d7a7crow4_col7,#T_153b238e_77c5_11ec_a40e_7399565d7a7crow5_col0,#T_153b238e_77c5_11ec_a40e_7399565d7a7crow5_col1,#T_153b238e_77c5_11ec_a40e_7399565d7a7crow5_col2,#T_153b238e_77c5_11ec_a40e_7399565d7a7crow5_col3,#T_153b238e_77c5_11ec_a40e_7399565d7a7crow5_col4,#T_153b238e_77c5_11ec_a40e_7399565d7a7crow5_col5,#T_153b238e_77c5_11ec_a40e_7399565d7a7crow5_col6,#T_153b238e_77c5_11ec_a40e_7399565d7a7crow5_col7,#T_153b238e_77c5_11ec_a40e_7399565d7a7crow6_col0,#T_153b238e_77c5_11ec_a40e_7399565d7a7crow6_col1,#T_153b238e_77c5_11ec_a40e_7399565d7a7crow6_col2,#T_153b238e_77c5_11ec_a40e_7399565d7a7crow6_col3,#T_153b238e_77c5_11ec_a40e_7399565d7a7crow6_col4,#T_153b238e_77c5_11ec_a40e_7399565d7a7crow6_col5,#T_153b238e_77c5_11ec_a40e_7399565d7a7crow6_col6,#T_153b238e_77c5_11ec_a40e_7399565d7a7crow6_col7,#T_153b238e_77c5_11ec_a40e_7399565d7a7crow7_col0,#T_153b238e_77c5_11ec_a40e_7399565d7a7crow7_col1,#T_153b238e_77c5_11ec_a40e_7399565d7a7crow7_col2,#T_153b238e_77c5_11ec_a40e_7399565d7a7crow7_col3,#T_153b238e_77c5_11ec_a40e_7399565d7a7crow7_col4,#T_153b238e_77c5_11ec_a40e_7399565d7a7crow7_col5,#T_153b238e_77c5_11ec_a40e_7399565d7a7crow7_col6,#T_153b238e_77c5_11ec_a40e_7399565d7a7crow7_col7,#T_153b238e_77c5_11ec_a40e_7399565d7a7crow8_col0,#T_153b238e_77c5_11ec_a40e_7399565d7a7crow8_col1,#T_153b238e_77c5_11ec_a40e_7399565d7a7crow8_col2,#T_153b238e_77c5_11ec_a40e_7399565d7a7crow8_col3,#T_153b238e_77c5_11ec_a40e_7399565d7a7crow8_col4,#T_153b238e_77c5_11ec_a40e_7399565d7a7crow8_col5,#T_153b238e_77c5_11ec_a40e_7399565d7a7crow8_col6,#T_153b238e_77c5_11ec_a40e_7399565d7a7crow8_col7,#T_153b238e_77c5_11ec_a40e_7399565d7a7crow9_col0,#T_153b238e_77c5_11ec_a40e_7399565d7a7crow9_col1,#T_153b238e_77c5_11ec_a40e_7399565d7a7crow9_col2,#T_153b238e_77c5_11ec_a40e_7399565d7a7crow9_col3,#T_153b238e_77c5_11ec_a40e_7399565d7a7crow9_col4,#T_153b238e_77c5_11ec_a40e_7399565d7a7crow9_col5,#T_153b238e_77c5_11ec_a40e_7399565d7a7crow9_col6,#T_153b238e_77c5_11ec_a40e_7399565d7a7crow9_col7,#T_153b238e_77c5_11ec_a40e_7399565d7a7crow10_col0,#T_153b238e_77c5_11ec_a40e_7399565d7a7crow10_col1,#T_153b238e_77c5_11ec_a40e_7399565d7a7crow10_col2,#T_153b238e_77c5_11ec_a40e_7399565d7a7crow10_col3,#T_153b238e_77c5_11ec_a40e_7399565d7a7crow10_col4,#T_153b238e_77c5_11ec_a40e_7399565d7a7crow10_col5,#T_153b238e_77c5_11ec_a40e_7399565d7a7crow10_col6,#T_153b238e_77c5_11ec_a40e_7399565d7a7crow10_col7,#T_153b238e_77c5_11ec_a40e_7399565d7a7crow11_col0,#T_153b238e_77c5_11ec_a40e_7399565d7a7crow11_col1,#T_153b238e_77c5_11ec_a40e_7399565d7a7crow11_col2,#T_153b238e_77c5_11ec_a40e_7399565d7a7crow11_col3,#T_153b238e_77c5_11ec_a40e_7399565d7a7crow11_col4,#T_153b238e_77c5_11ec_a40e_7399565d7a7crow11_col5,#T_153b238e_77c5_11ec_a40e_7399565d7a7crow11_col6,#T_153b238e_77c5_11ec_a40e_7399565d7a7crow11_col7{\n",
       "            text-align:  left;\n",
       "            text-align:  left;\n",
       "        }#T_153b238e_77c5_11ec_a40e_7399565d7a7crow0_col2,#T_153b238e_77c5_11ec_a40e_7399565d7a7crow1_col1,#T_153b238e_77c5_11ec_a40e_7399565d7a7crow1_col4,#T_153b238e_77c5_11ec_a40e_7399565d7a7crow1_col6,#T_153b238e_77c5_11ec_a40e_7399565d7a7crow1_col7,#T_153b238e_77c5_11ec_a40e_7399565d7a7crow2_col3,#T_153b238e_77c5_11ec_a40e_7399565d7a7crow2_col5{\n",
       "            text-align:  left;\n",
       "            text-align:  left;\n",
       "            background-color:  yellow;\n",
       "        }#T_153b238e_77c5_11ec_a40e_7399565d7a7crow0_col8,#T_153b238e_77c5_11ec_a40e_7399565d7a7crow11_col8{\n",
       "            text-align:  left;\n",
       "            text-align:  left;\n",
       "            background-color:  yellow;\n",
       "            background-color:  lightgrey;\n",
       "        }#T_153b238e_77c5_11ec_a40e_7399565d7a7crow1_col8,#T_153b238e_77c5_11ec_a40e_7399565d7a7crow2_col8,#T_153b238e_77c5_11ec_a40e_7399565d7a7crow3_col8,#T_153b238e_77c5_11ec_a40e_7399565d7a7crow4_col8,#T_153b238e_77c5_11ec_a40e_7399565d7a7crow5_col8,#T_153b238e_77c5_11ec_a40e_7399565d7a7crow6_col8,#T_153b238e_77c5_11ec_a40e_7399565d7a7crow7_col8,#T_153b238e_77c5_11ec_a40e_7399565d7a7crow8_col8,#T_153b238e_77c5_11ec_a40e_7399565d7a7crow9_col8,#T_153b238e_77c5_11ec_a40e_7399565d7a7crow10_col8{\n",
       "            text-align:  left;\n",
       "            text-align:  left;\n",
       "            background-color:  lightgrey;\n",
       "        }</style><table id=\"T_153b238e_77c5_11ec_a40e_7399565d7a7c\" ><thead>    <tr>        <th class=\"blank level0\" ></th>        <th class=\"col_heading level0 col0\" >Model</th>        <th class=\"col_heading level0 col1\" >Accuracy</th>        <th class=\"col_heading level0 col2\" >AUC</th>        <th class=\"col_heading level0 col3\" >Recall</th>        <th class=\"col_heading level0 col4\" >Prec.</th>        <th class=\"col_heading level0 col5\" >F1</th>        <th class=\"col_heading level0 col6\" >Kappa</th>        <th class=\"col_heading level0 col7\" >MCC</th>        <th class=\"col_heading level0 col8\" >TT (Sec)</th>    </tr></thead><tbody>\n",
       "                <tr>\n",
       "                        <th id=\"T_153b238e_77c5_11ec_a40e_7399565d7a7clevel0_row0\" class=\"row_heading level0 row0\" >lda</th>\n",
       "                        <td id=\"T_153b238e_77c5_11ec_a40e_7399565d7a7crow0_col0\" class=\"data row0 col0\" >Linear Discriminant Analysis</td>\n",
       "                        <td id=\"T_153b238e_77c5_11ec_a40e_7399565d7a7crow0_col1\" class=\"data row0 col1\" >0.6254</td>\n",
       "                        <td id=\"T_153b238e_77c5_11ec_a40e_7399565d7a7crow0_col2\" class=\"data row0 col2\" >0.6799</td>\n",
       "                        <td id=\"T_153b238e_77c5_11ec_a40e_7399565d7a7crow0_col3\" class=\"data row0 col3\" >0.6166</td>\n",
       "                        <td id=\"T_153b238e_77c5_11ec_a40e_7399565d7a7crow0_col4\" class=\"data row0 col4\" >0.6620</td>\n",
       "                        <td id=\"T_153b238e_77c5_11ec_a40e_7399565d7a7crow0_col5\" class=\"data row0 col5\" >0.6379</td>\n",
       "                        <td id=\"T_153b238e_77c5_11ec_a40e_7399565d7a7crow0_col6\" class=\"data row0 col6\" >0.2510</td>\n",
       "                        <td id=\"T_153b238e_77c5_11ec_a40e_7399565d7a7crow0_col7\" class=\"data row0 col7\" >0.2523</td>\n",
       "                        <td id=\"T_153b238e_77c5_11ec_a40e_7399565d7a7crow0_col8\" class=\"data row0 col8\" >0.2533</td>\n",
       "            </tr>\n",
       "            <tr>\n",
       "                        <th id=\"T_153b238e_77c5_11ec_a40e_7399565d7a7clevel0_row1\" class=\"row_heading level0 row1\" >lr</th>\n",
       "                        <td id=\"T_153b238e_77c5_11ec_a40e_7399565d7a7crow1_col0\" class=\"data row1 col0\" >Logistic Regression</td>\n",
       "                        <td id=\"T_153b238e_77c5_11ec_a40e_7399565d7a7crow1_col1\" class=\"data row1 col1\" >0.6260</td>\n",
       "                        <td id=\"T_153b238e_77c5_11ec_a40e_7399565d7a7crow1_col2\" class=\"data row1 col2\" >0.6791</td>\n",
       "                        <td id=\"T_153b238e_77c5_11ec_a40e_7399565d7a7crow1_col3\" class=\"data row1 col3\" >0.6177</td>\n",
       "                        <td id=\"T_153b238e_77c5_11ec_a40e_7399565d7a7crow1_col4\" class=\"data row1 col4\" >0.6623</td>\n",
       "                        <td id=\"T_153b238e_77c5_11ec_a40e_7399565d7a7crow1_col5\" class=\"data row1 col5\" >0.6387</td>\n",
       "                        <td id=\"T_153b238e_77c5_11ec_a40e_7399565d7a7crow1_col6\" class=\"data row1 col6\" >0.2521</td>\n",
       "                        <td id=\"T_153b238e_77c5_11ec_a40e_7399565d7a7crow1_col7\" class=\"data row1 col7\" >0.2534</td>\n",
       "                        <td id=\"T_153b238e_77c5_11ec_a40e_7399565d7a7crow1_col8\" class=\"data row1 col8\" >0.7533</td>\n",
       "            </tr>\n",
       "            <tr>\n",
       "                        <th id=\"T_153b238e_77c5_11ec_a40e_7399565d7a7clevel0_row2\" class=\"row_heading level0 row2\" >et</th>\n",
       "                        <td id=\"T_153b238e_77c5_11ec_a40e_7399565d7a7crow2_col0\" class=\"data row2 col0\" >Extra Trees Classifier</td>\n",
       "                        <td id=\"T_153b238e_77c5_11ec_a40e_7399565d7a7crow2_col1\" class=\"data row2 col1\" >0.6211</td>\n",
       "                        <td id=\"T_153b238e_77c5_11ec_a40e_7399565d7a7crow2_col2\" class=\"data row2 col2\" >0.6607</td>\n",
       "                        <td id=\"T_153b238e_77c5_11ec_a40e_7399565d7a7crow2_col3\" class=\"data row2 col3\" >0.6548</td>\n",
       "                        <td id=\"T_153b238e_77c5_11ec_a40e_7399565d7a7crow2_col4\" class=\"data row2 col4\" >0.6439</td>\n",
       "                        <td id=\"T_153b238e_77c5_11ec_a40e_7399565d7a7crow2_col5\" class=\"data row2 col5\" >0.6488</td>\n",
       "                        <td id=\"T_153b238e_77c5_11ec_a40e_7399565d7a7crow2_col6\" class=\"data row2 col6\" >0.2377</td>\n",
       "                        <td id=\"T_153b238e_77c5_11ec_a40e_7399565d7a7crow2_col7\" class=\"data row2 col7\" >0.2382</td>\n",
       "                        <td id=\"T_153b238e_77c5_11ec_a40e_7399565d7a7crow2_col8\" class=\"data row2 col8\" >0.3567</td>\n",
       "            </tr>\n",
       "            <tr>\n",
       "                        <th id=\"T_153b238e_77c5_11ec_a40e_7399565d7a7clevel0_row3\" class=\"row_heading level0 row3\" >rf</th>\n",
       "                        <td id=\"T_153b238e_77c5_11ec_a40e_7399565d7a7crow3_col0\" class=\"data row3 col0\" >Random Forest Classifier</td>\n",
       "                        <td id=\"T_153b238e_77c5_11ec_a40e_7399565d7a7crow3_col1\" class=\"data row3 col1\" >0.6155</td>\n",
       "                        <td id=\"T_153b238e_77c5_11ec_a40e_7399565d7a7crow3_col2\" class=\"data row3 col2\" >0.6586</td>\n",
       "                        <td id=\"T_153b238e_77c5_11ec_a40e_7399565d7a7crow3_col3\" class=\"data row3 col3\" >0.6259</td>\n",
       "                        <td id=\"T_153b238e_77c5_11ec_a40e_7399565d7a7crow3_col4\" class=\"data row3 col4\" >0.6456</td>\n",
       "                        <td id=\"T_153b238e_77c5_11ec_a40e_7399565d7a7crow3_col5\" class=\"data row3 col5\" >0.6354</td>\n",
       "                        <td id=\"T_153b238e_77c5_11ec_a40e_7399565d7a7crow3_col6\" class=\"data row3 col6\" >0.2291</td>\n",
       "                        <td id=\"T_153b238e_77c5_11ec_a40e_7399565d7a7crow3_col7\" class=\"data row3 col7\" >0.2295</td>\n",
       "                        <td id=\"T_153b238e_77c5_11ec_a40e_7399565d7a7crow3_col8\" class=\"data row3 col8\" >0.3667</td>\n",
       "            </tr>\n",
       "            <tr>\n",
       "                        <th id=\"T_153b238e_77c5_11ec_a40e_7399565d7a7clevel0_row4\" class=\"row_heading level0 row4\" >gbc</th>\n",
       "                        <td id=\"T_153b238e_77c5_11ec_a40e_7399565d7a7crow4_col0\" class=\"data row4 col0\" >Gradient Boosting Classifier</td>\n",
       "                        <td id=\"T_153b238e_77c5_11ec_a40e_7399565d7a7crow4_col1\" class=\"data row4 col1\" >0.6069</td>\n",
       "                        <td id=\"T_153b238e_77c5_11ec_a40e_7399565d7a7crow4_col2\" class=\"data row4 col2\" >0.6457</td>\n",
       "                        <td id=\"T_153b238e_77c5_11ec_a40e_7399565d7a7crow4_col3\" class=\"data row4 col3\" >0.6283</td>\n",
       "                        <td id=\"T_153b238e_77c5_11ec_a40e_7399565d7a7crow4_col4\" class=\"data row4 col4\" >0.6351</td>\n",
       "                        <td id=\"T_153b238e_77c5_11ec_a40e_7399565d7a7crow4_col5\" class=\"data row4 col5\" >0.6314</td>\n",
       "                        <td id=\"T_153b238e_77c5_11ec_a40e_7399565d7a7crow4_col6\" class=\"data row4 col6\" >0.2107</td>\n",
       "                        <td id=\"T_153b238e_77c5_11ec_a40e_7399565d7a7crow4_col7\" class=\"data row4 col7\" >0.2109</td>\n",
       "                        <td id=\"T_153b238e_77c5_11ec_a40e_7399565d7a7crow4_col8\" class=\"data row4 col8\" >0.5867</td>\n",
       "            </tr>\n",
       "            <tr>\n",
       "                        <th id=\"T_153b238e_77c5_11ec_a40e_7399565d7a7clevel0_row5\" class=\"row_heading level0 row5\" >lightgbm</th>\n",
       "                        <td id=\"T_153b238e_77c5_11ec_a40e_7399565d7a7crow5_col0\" class=\"data row5 col0\" >Light Gradient Boosting Machine</td>\n",
       "                        <td id=\"T_153b238e_77c5_11ec_a40e_7399565d7a7crow5_col1\" class=\"data row5 col1\" >0.5977</td>\n",
       "                        <td id=\"T_153b238e_77c5_11ec_a40e_7399565d7a7crow5_col2\" class=\"data row5 col2\" >0.6399</td>\n",
       "                        <td id=\"T_153b238e_77c5_11ec_a40e_7399565d7a7crow5_col3\" class=\"data row5 col3\" >0.6156</td>\n",
       "                        <td id=\"T_153b238e_77c5_11ec_a40e_7399565d7a7crow5_col4\" class=\"data row5 col4\" >0.6267</td>\n",
       "                        <td id=\"T_153b238e_77c5_11ec_a40e_7399565d7a7crow5_col5\" class=\"data row5 col5\" >0.6210</td>\n",
       "                        <td id=\"T_153b238e_77c5_11ec_a40e_7399565d7a7crow5_col6\" class=\"data row5 col6\" >0.1925</td>\n",
       "                        <td id=\"T_153b238e_77c5_11ec_a40e_7399565d7a7crow5_col7\" class=\"data row5 col7\" >0.1926</td>\n",
       "                        <td id=\"T_153b238e_77c5_11ec_a40e_7399565d7a7crow5_col8\" class=\"data row5 col8\" >0.3433</td>\n",
       "            </tr>\n",
       "            <tr>\n",
       "                        <th id=\"T_153b238e_77c5_11ec_a40e_7399565d7a7clevel0_row6\" class=\"row_heading level0 row6\" >ada</th>\n",
       "                        <td id=\"T_153b238e_77c5_11ec_a40e_7399565d7a7crow6_col0\" class=\"data row6 col0\" >Ada Boost Classifier</td>\n",
       "                        <td id=\"T_153b238e_77c5_11ec_a40e_7399565d7a7crow6_col1\" class=\"data row6 col1\" >0.6020</td>\n",
       "                        <td id=\"T_153b238e_77c5_11ec_a40e_7399565d7a7crow6_col2\" class=\"data row6 col2\" >0.6347</td>\n",
       "                        <td id=\"T_153b238e_77c5_11ec_a40e_7399565d7a7crow6_col3\" class=\"data row6 col3\" >0.6340</td>\n",
       "                        <td id=\"T_153b238e_77c5_11ec_a40e_7399565d7a7crow6_col4\" class=\"data row6 col4\" >0.6283</td>\n",
       "                        <td id=\"T_153b238e_77c5_11ec_a40e_7399565d7a7crow6_col5\" class=\"data row6 col5\" >0.6308</td>\n",
       "                        <td id=\"T_153b238e_77c5_11ec_a40e_7399565d7a7crow6_col6\" class=\"data row6 col6\" >0.1995</td>\n",
       "                        <td id=\"T_153b238e_77c5_11ec_a40e_7399565d7a7crow6_col7\" class=\"data row6 col7\" >0.1997</td>\n",
       "                        <td id=\"T_153b238e_77c5_11ec_a40e_7399565d7a7crow6_col8\" class=\"data row6 col8\" >0.3267</td>\n",
       "            </tr>\n",
       "            <tr>\n",
       "                        <th id=\"T_153b238e_77c5_11ec_a40e_7399565d7a7clevel0_row7\" class=\"row_heading level0 row7\" >xgboost</th>\n",
       "                        <td id=\"T_153b238e_77c5_11ec_a40e_7399565d7a7crow7_col0\" class=\"data row7 col0\" >Extreme Gradient Boosting</td>\n",
       "                        <td id=\"T_153b238e_77c5_11ec_a40e_7399565d7a7crow7_col1\" class=\"data row7 col1\" >0.5940</td>\n",
       "                        <td id=\"T_153b238e_77c5_11ec_a40e_7399565d7a7crow7_col2\" class=\"data row7 col2\" >0.6311</td>\n",
       "                        <td id=\"T_153b238e_77c5_11ec_a40e_7399565d7a7crow7_col3\" class=\"data row7 col3\" >0.6225</td>\n",
       "                        <td id=\"T_153b238e_77c5_11ec_a40e_7399565d7a7crow7_col4\" class=\"data row7 col4\" >0.6221</td>\n",
       "                        <td id=\"T_153b238e_77c5_11ec_a40e_7399565d7a7crow7_col5\" class=\"data row7 col5\" >0.6218</td>\n",
       "                        <td id=\"T_153b238e_77c5_11ec_a40e_7399565d7a7crow7_col6\" class=\"data row7 col6\" >0.1840</td>\n",
       "                        <td id=\"T_153b238e_77c5_11ec_a40e_7399565d7a7crow7_col7\" class=\"data row7 col7\" >0.1843</td>\n",
       "                        <td id=\"T_153b238e_77c5_11ec_a40e_7399565d7a7crow7_col8\" class=\"data row7 col8\" >0.5533</td>\n",
       "            </tr>\n",
       "            <tr>\n",
       "                        <th id=\"T_153b238e_77c5_11ec_a40e_7399565d7a7clevel0_row8\" class=\"row_heading level0 row8\" >dt</th>\n",
       "                        <td id=\"T_153b238e_77c5_11ec_a40e_7399565d7a7crow8_col0\" class=\"data row8 col0\" >Decision Tree Classifier</td>\n",
       "                        <td id=\"T_153b238e_77c5_11ec_a40e_7399565d7a7crow8_col1\" class=\"data row8 col1\" >0.5564</td>\n",
       "                        <td id=\"T_153b238e_77c5_11ec_a40e_7399565d7a7crow8_col2\" class=\"data row8 col2\" >0.5555</td>\n",
       "                        <td id=\"T_153b238e_77c5_11ec_a40e_7399565d7a7crow8_col3\" class=\"data row8 col3\" >0.5659</td>\n",
       "                        <td id=\"T_153b238e_77c5_11ec_a40e_7399565d7a7crow8_col4\" class=\"data row8 col4\" >0.5889</td>\n",
       "                        <td id=\"T_153b238e_77c5_11ec_a40e_7399565d7a7crow8_col5\" class=\"data row8 col5\" >0.5771</td>\n",
       "                        <td id=\"T_153b238e_77c5_11ec_a40e_7399565d7a7crow8_col6\" class=\"data row8 col6\" >0.1106</td>\n",
       "                        <td id=\"T_153b238e_77c5_11ec_a40e_7399565d7a7crow8_col7\" class=\"data row8 col7\" >0.1107</td>\n",
       "                        <td id=\"T_153b238e_77c5_11ec_a40e_7399565d7a7crow8_col8\" class=\"data row8 col8\" >0.2667</td>\n",
       "            </tr>\n",
       "            <tr>\n",
       "                        <th id=\"T_153b238e_77c5_11ec_a40e_7399565d7a7clevel0_row9\" class=\"row_heading level0 row9\" >dummy</th>\n",
       "                        <td id=\"T_153b238e_77c5_11ec_a40e_7399565d7a7crow9_col0\" class=\"data row9 col0\" >Dummy Classifier</td>\n",
       "                        <td id=\"T_153b238e_77c5_11ec_a40e_7399565d7a7crow9_col1\" class=\"data row9 col1\" >0.4646</td>\n",
       "                        <td id=\"T_153b238e_77c5_11ec_a40e_7399565d7a7crow9_col2\" class=\"data row9 col2\" >0.5000</td>\n",
       "                        <td id=\"T_153b238e_77c5_11ec_a40e_7399565d7a7crow9_col3\" class=\"data row9 col3\" >0.0000</td>\n",
       "                        <td id=\"T_153b238e_77c5_11ec_a40e_7399565d7a7crow9_col4\" class=\"data row9 col4\" >0.0000</td>\n",
       "                        <td id=\"T_153b238e_77c5_11ec_a40e_7399565d7a7crow9_col5\" class=\"data row9 col5\" >0.0000</td>\n",
       "                        <td id=\"T_153b238e_77c5_11ec_a40e_7399565d7a7crow9_col6\" class=\"data row9 col6\" >0.0000</td>\n",
       "                        <td id=\"T_153b238e_77c5_11ec_a40e_7399565d7a7crow9_col7\" class=\"data row9 col7\" >0.0000</td>\n",
       "                        <td id=\"T_153b238e_77c5_11ec_a40e_7399565d7a7crow9_col8\" class=\"data row9 col8\" >0.2633</td>\n",
       "            </tr>\n",
       "            <tr>\n",
       "                        <th id=\"T_153b238e_77c5_11ec_a40e_7399565d7a7clevel0_row10\" class=\"row_heading level0 row10\" >svm</th>\n",
       "                        <td id=\"T_153b238e_77c5_11ec_a40e_7399565d7a7crow10_col0\" class=\"data row10 col0\" >SVM - Linear Kernel</td>\n",
       "                        <td id=\"T_153b238e_77c5_11ec_a40e_7399565d7a7crow10_col1\" class=\"data row10 col1\" >0.5896</td>\n",
       "                        <td id=\"T_153b238e_77c5_11ec_a40e_7399565d7a7crow10_col2\" class=\"data row10 col2\" >0.0000</td>\n",
       "                        <td id=\"T_153b238e_77c5_11ec_a40e_7399565d7a7crow10_col3\" class=\"data row10 col3\" >0.5834</td>\n",
       "                        <td id=\"T_153b238e_77c5_11ec_a40e_7399565d7a7crow10_col4\" class=\"data row10 col4\" >0.6300</td>\n",
       "                        <td id=\"T_153b238e_77c5_11ec_a40e_7399565d7a7crow10_col5\" class=\"data row10 col5\" >0.6045</td>\n",
       "                        <td id=\"T_153b238e_77c5_11ec_a40e_7399565d7a7crow10_col6\" class=\"data row10 col6\" >0.1797</td>\n",
       "                        <td id=\"T_153b238e_77c5_11ec_a40e_7399565d7a7crow10_col7\" class=\"data row10 col7\" >0.1817</td>\n",
       "                        <td id=\"T_153b238e_77c5_11ec_a40e_7399565d7a7crow10_col8\" class=\"data row10 col8\" >0.2567</td>\n",
       "            </tr>\n",
       "            <tr>\n",
       "                        <th id=\"T_153b238e_77c5_11ec_a40e_7399565d7a7clevel0_row11\" class=\"row_heading level0 row11\" >ridge</th>\n",
       "                        <td id=\"T_153b238e_77c5_11ec_a40e_7399565d7a7crow11_col0\" class=\"data row11 col0\" >Ridge Classifier</td>\n",
       "                        <td id=\"T_153b238e_77c5_11ec_a40e_7399565d7a7crow11_col1\" class=\"data row11 col1\" >0.6242</td>\n",
       "                        <td id=\"T_153b238e_77c5_11ec_a40e_7399565d7a7crow11_col2\" class=\"data row11 col2\" >0.0000</td>\n",
       "                        <td id=\"T_153b238e_77c5_11ec_a40e_7399565d7a7crow11_col3\" class=\"data row11 col3\" >0.6165</td>\n",
       "                        <td id=\"T_153b238e_77c5_11ec_a40e_7399565d7a7crow11_col4\" class=\"data row11 col4\" >0.6599</td>\n",
       "                        <td id=\"T_153b238e_77c5_11ec_a40e_7399565d7a7crow11_col5\" class=\"data row11 col5\" >0.6370</td>\n",
       "                        <td id=\"T_153b238e_77c5_11ec_a40e_7399565d7a7crow11_col6\" class=\"data row11 col6\" >0.2483</td>\n",
       "                        <td id=\"T_153b238e_77c5_11ec_a40e_7399565d7a7crow11_col7\" class=\"data row11 col7\" >0.2494</td>\n",
       "                        <td id=\"T_153b238e_77c5_11ec_a40e_7399565d7a7crow11_col8\" class=\"data row11 col8\" >0.2533</td>\n",
       "            </tr>\n",
       "    </tbody></table>"
      ],
      "text/plain": [
       "<pandas.io.formats.style.Styler at 0x7fd598043580>"
      ]
     },
     "metadata": {},
     "output_type": "display_data"
    }
   ],
   "source": [
    "top_models = compare_models(\n",
    "            n_select=5,\n",
    "            sort='AUC',\n",
    "            exclude=[\"qda\", \"knn\", \"nb\", 'catboost'],\n",
    "            verbose=True,\n",
    "        )"
   ]
  },
  {
   "cell_type": "code",
   "execution_count": 103,
   "id": "2a9ec301-45eb-4594-83df-c642cf13c592",
   "metadata": {},
   "outputs": [
    {
     "data": {
      "application/vnd.jupyter.widget-view+json": {
       "model_id": "7ecc8c85b99d4d5f97c61d50ea28b6be",
       "version_major": 2,
       "version_minor": 0
      },
      "text/plain": [
       "interactive(children=(ToggleButtons(description='Plot Type:', icons=('',), options=(('Hyperparameters', 'param…"
      ]
     },
     "metadata": {},
     "output_type": "display_data"
    }
   ],
   "source": [
    "evaluate_model(top_models[1])"
   ]
  },
  {
   "cell_type": "markdown",
   "id": "1a96856a-d9ae-414a-b3bb-1acf8d5eec8c",
   "metadata": {},
   "source": [
    "## Finalize model"
   ]
  },
  {
   "cell_type": "code",
   "execution_count": 73,
   "id": "4bcd25ac-87b5-4c3d-90b7-f0e3cf1461ef",
   "metadata": {},
   "outputs": [],
   "source": [
    "final = finalize_model(top_models[0]) # Choose the preferred model. Best performance model selected by default. "
   ]
  },
  {
   "cell_type": "markdown",
   "id": "12704063-466c-4e26-af72-d877362a051c",
   "metadata": {
    "tags": []
   },
   "source": [
    "## Metrics against test"
   ]
  },
  {
   "cell_type": "code",
   "execution_count": 74,
   "id": "9e887740-9aaa-4892-8e8e-362602096c3e",
   "metadata": {},
   "outputs": [],
   "source": [
    "predictions = predict_model(final, data=referee_test[selected_features + [user_target]])"
   ]
  },
  {
   "cell_type": "code",
   "execution_count": 75,
   "id": "14a42818-26ff-4b90-89dc-d3985c8f4ee6",
   "metadata": {},
   "outputs": [],
   "source": [
    "metrics_dict = {\n",
    "    metric: check_metric(\n",
    "        actual=predictions[user_target], \n",
    "        prediction=predictions['Label'], \n",
    "        metric=metric\n",
    "    ) for metric in metrics_list\n",
    "}"
   ]
  },
  {
   "cell_type": "code",
   "execution_count": 76,
   "id": "dd13657e-f540-4625-a98c-8bdeb1bf299b",
   "metadata": {},
   "outputs": [
    {
     "data": {
      "text/html": [
       "<div>\n",
       "<style scoped>\n",
       "    .dataframe tbody tr th:only-of-type {\n",
       "        vertical-align: middle;\n",
       "    }\n",
       "\n",
       "    .dataframe tbody tr th {\n",
       "        vertical-align: top;\n",
       "    }\n",
       "\n",
       "    .dataframe thead th {\n",
       "        text-align: right;\n",
       "    }\n",
       "</style>\n",
       "<table border=\"1\" class=\"dataframe\">\n",
       "  <thead>\n",
       "    <tr style=\"text-align: right;\">\n",
       "      <th></th>\n",
       "      <th>Accuracy</th>\n",
       "      <th>AUC</th>\n",
       "      <th>Recall</th>\n",
       "      <th>Precision</th>\n",
       "      <th>F1</th>\n",
       "      <th>Kappa</th>\n",
       "      <th>MCC</th>\n",
       "    </tr>\n",
       "  </thead>\n",
       "  <tbody>\n",
       "    <tr>\n",
       "      <th>new_feat_model</th>\n",
       "      <td>0.6092</td>\n",
       "      <td>0.6092</td>\n",
       "      <td>0.6098</td>\n",
       "      <td>0.6394</td>\n",
       "      <td>0.6243</td>\n",
       "      <td>0.2177</td>\n",
       "      <td>0.2179</td>\n",
       "    </tr>\n",
       "  </tbody>\n",
       "</table>\n",
       "</div>"
      ],
      "text/plain": [
       "               Accuracy     AUC  Recall Precision      F1   Kappa     MCC\n",
       "new_feat_model   0.6092  0.6092  0.6098    0.6394  0.6243  0.2177  0.2179"
      ]
     },
     "execution_count": 76,
     "metadata": {},
     "output_type": "execute_result"
    }
   ],
   "source": [
    "new_model_metrics_df = pd.DataFrame(columns=metrics_dict.keys(), index=pd.Index(range(1)))\n",
    "new_model_metrics_df.index = ['new_feat_model']\n",
    "for col, val in metrics_dict.items():\n",
    "    new_model_metrics_df.loc['new_feat_model', col] = val \n",
    "new_model_metrics_df"
   ]
  },
  {
   "cell_type": "markdown",
   "id": "d8009bf0-3087-40cd-972b-fc1396ef6c40",
   "metadata": {},
   "source": [
    "# Performance"
   ]
  },
  {
   "cell_type": "code",
   "execution_count": 77,
   "id": "b493f633-c80a-4e9a-a95d-abe48fc85947",
   "metadata": {},
   "outputs": [
    {
     "data": {
      "text/html": [
       "<div>\n",
       "<style scoped>\n",
       "    .dataframe tbody tr th:only-of-type {\n",
       "        vertical-align: middle;\n",
       "    }\n",
       "\n",
       "    .dataframe tbody tr th {\n",
       "        vertical-align: top;\n",
       "    }\n",
       "\n",
       "    .dataframe thead th {\n",
       "        text-align: right;\n",
       "    }\n",
       "</style>\n",
       "<table border=\"1\" class=\"dataframe\">\n",
       "  <thead>\n",
       "    <tr style=\"text-align: right;\">\n",
       "      <th></th>\n",
       "      <th>Accuracy</th>\n",
       "      <th>AUC</th>\n",
       "      <th>Recall</th>\n",
       "      <th>Precision</th>\n",
       "      <th>F1</th>\n",
       "      <th>Kappa</th>\n",
       "      <th>MCC</th>\n",
       "    </tr>\n",
       "  </thead>\n",
       "  <tbody>\n",
       "    <tr>\n",
       "      <th>standard_model</th>\n",
       "      <td>0.6121</td>\n",
       "      <td>0.6159</td>\n",
       "      <td>0.5597</td>\n",
       "      <td>0.6611</td>\n",
       "      <td>0.6062</td>\n",
       "      <td>0.2292</td>\n",
       "      <td>0.2323</td>\n",
       "    </tr>\n",
       "    <tr>\n",
       "      <th>new_feat_model</th>\n",
       "      <td>0.6092</td>\n",
       "      <td>0.6092</td>\n",
       "      <td>0.6098</td>\n",
       "      <td>0.6394</td>\n",
       "      <td>0.6243</td>\n",
       "      <td>0.2177</td>\n",
       "      <td>0.2179</td>\n",
       "    </tr>\n",
       "  </tbody>\n",
       "</table>\n",
       "</div>"
      ],
      "text/plain": [
       "               Accuracy     AUC  Recall Precision      F1   Kappa     MCC\n",
       "standard_model   0.6121  0.6159  0.5597    0.6611  0.6062  0.2292  0.2323\n",
       "new_feat_model   0.6092  0.6092  0.6098    0.6394  0.6243  0.2177  0.2179"
      ]
     },
     "execution_count": 77,
     "metadata": {},
     "output_type": "execute_result"
    }
   ],
   "source": [
    "pd.concat([metrics_df, new_model_metrics_df])"
   ]
  },
  {
   "cell_type": "code",
   "execution_count": null,
   "id": "0e8e36e1-a24b-4104-ac1f-a47701cbbbf0",
   "metadata": {},
   "outputs": [],
   "source": []
  },
  {
   "cell_type": "code",
   "execution_count": null,
   "metadata": {},
   "outputs": [],
   "source": []
  }
 ],
 "metadata": {
  "kernelspec": {
   "display_name": "Python 3",
   "language": "python",
   "name": "python3"
  },
  "language_info": {
   "codemirror_mode": {
    "name": "ipython",
    "version": 3
   },
   "file_extension": ".py",
   "mimetype": "text/x-python",
   "name": "python",
   "nbconvert_exporter": "python",
   "pygments_lexer": "ipython3",
   "version": "3.8.10"
  }
 },
 "nbformat": 4,
 "nbformat_minor": 5
}
